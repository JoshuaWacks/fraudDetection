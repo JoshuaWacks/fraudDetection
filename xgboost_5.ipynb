{
 "cells": [
  {
   "cell_type": "code",
   "execution_count": 17,
   "metadata": {},
   "outputs": [],
   "source": [
    "import numpy as np\n",
    "import pandas as pd\n",
    "import seaborn as sns\n",
    "import matplotlib.pyplot as plt\n",
    "from sklearn.compose import ColumnTransformer\n",
    "from sklearn.pipeline import Pipeline\n",
    "from sklearn.impute import SimpleImputer\n",
    "from sklearn.preprocessing import OneHotEncoder\n",
    "from dateutil.parser import parse\n",
    "from sklearn.preprocessing import OrdinalEncoder\n",
    "from sklearn.model_selection import train_test_split\n",
    "from sklearn.ensemble import RandomForestRegressor\n",
    "from sklearn.metrics import mean_absolute_error\n",
    "from sklearn.metrics import roc_auc_score\n",
    "from sklearn.decomposition import PCA\n",
    "from sklearn.neural_network import MLPRegressor\n",
    "from imblearn.combine import SMOTEENN\n",
    "from imblearn.over_sampling import ADASYN\n",
    "from collections import Counter\n",
    "from sklearn.preprocessing import MinMaxScaler\n",
    "from xgboost import XGBClassifier\n",
    "\n",
    "from sklearn.linear_model import LogisticRegression\n"
   ]
  },
  {
   "cell_type": "code",
   "execution_count": 25,
   "metadata": {},
   "outputs": [],
   "source": [
    "feature_set =  'feature_set_6_normalised'\n",
    "X_train = pd.read_csv( F'./data/{feature_set}/X_train_full.csv').drop(columns=['TX_ID','Time_of_day'])\n",
    "y_train = pd.read_csv( F'./data/{feature_set}/y_train.csv').values.ravel()\n",
    "\n",
    "X_val = pd.read_csv( F'./data/{feature_set}/X_valid_full.csv').drop(columns=['TX_ID','Time_of_day'])\n",
    "y_val = pd.read_csv( F'./data/{feature_set}/y_valid.csv').values.ravel()"
   ]
  },
  {
   "cell_type": "code",
   "execution_count": 22,
   "metadata": {},
   "outputs": [
    {
     "data": {
      "text/plain": [
       "FAILURE_CODE_6                         int64\n",
       "FAILURE_REASON_0                       int64\n",
       "FAILURE_REASON_Invalid merchant        int64\n",
       "FAILURE_CODE_59                        int64\n",
       "CARD_COUNTRY_CODE_CA                   int64\n",
       "                                       ...  \n",
       "FAILURE_CODE_11                        int64\n",
       "TRANSACTION_CURRENCY_MDL               int64\n",
       "FAILURE_REASON_Refer to card issuer    int64\n",
       "FAILURE_CODE_Z1                        int64\n",
       "FAILURE_CODE_54                        int64\n",
       "Length: 112, dtype: object"
      ]
     },
     "execution_count": 22,
     "metadata": {},
     "output_type": "execute_result"
    }
   ],
   "source": [
    "X_train.dtypes"
   ]
  },
  {
   "cell_type": "code",
   "execution_count": 26,
   "metadata": {},
   "outputs": [
    {
     "name": "stderr",
     "output_type": "stream",
     "text": [
      "c:\\Users\\joshu\\anaconda3\\lib\\site-packages\\xgboost\\sklearn.py:885: UserWarning: `eval_metric` in `fit` method is deprecated for better compatibility with scikit-learn, use `eval_metric` in constructor or`set_params` instead.\n",
      "  warnings.warn(\n",
      "c:\\Users\\joshu\\anaconda3\\lib\\site-packages\\xgboost\\sklearn.py:885: UserWarning: `early_stopping_rounds` in `fit` method is deprecated for better compatibility with scikit-learn, use `early_stopping_rounds` in constructor or`set_params` instead.\n",
      "  warnings.warn(\n"
     ]
    },
    {
     "name": "stdout",
     "output_type": "stream",
     "text": [
      "[0]\tvalidation_0-auc:0.86934\n",
      "[1]\tvalidation_0-auc:0.86991\n",
      "[2]\tvalidation_0-auc:0.87010\n",
      "[3]\tvalidation_0-auc:0.87430\n",
      "[4]\tvalidation_0-auc:0.87498\n",
      "[5]\tvalidation_0-auc:0.87515\n",
      "[6]\tvalidation_0-auc:0.87875\n",
      "[7]\tvalidation_0-auc:0.87895\n",
      "[8]\tvalidation_0-auc:0.87938\n",
      "[9]\tvalidation_0-auc:0.88178\n",
      "[10]\tvalidation_0-auc:0.88172\n",
      "[11]\tvalidation_0-auc:0.88225\n",
      "[12]\tvalidation_0-auc:0.88271\n",
      "[13]\tvalidation_0-auc:0.88484\n",
      "[14]\tvalidation_0-auc:0.88480\n",
      "[15]\tvalidation_0-auc:0.88630\n",
      "[16]\tvalidation_0-auc:0.88653\n",
      "[17]\tvalidation_0-auc:0.88905\n",
      "[18]\tvalidation_0-auc:0.88932\n",
      "[19]\tvalidation_0-auc:0.88958\n",
      "[20]\tvalidation_0-auc:0.88951\n",
      "[21]\tvalidation_0-auc:0.88934\n",
      "[22]\tvalidation_0-auc:0.89041\n",
      "[23]\tvalidation_0-auc:0.89073\n",
      "[24]\tvalidation_0-auc:0.89090\n",
      "[25]\tvalidation_0-auc:0.89125\n",
      "[26]\tvalidation_0-auc:0.89132\n",
      "[27]\tvalidation_0-auc:0.89145\n",
      "[28]\tvalidation_0-auc:0.89220\n",
      "[29]\tvalidation_0-auc:0.89219\n",
      "[30]\tvalidation_0-auc:0.89233\n",
      "[31]\tvalidation_0-auc:0.89246\n",
      "[32]\tvalidation_0-auc:0.89238\n",
      "[33]\tvalidation_0-auc:0.89233\n",
      "[34]\tvalidation_0-auc:0.89203\n",
      "[35]\tvalidation_0-auc:0.89207\n",
      "[36]\tvalidation_0-auc:0.89202\n",
      "[37]\tvalidation_0-auc:0.89272\n",
      "[38]\tvalidation_0-auc:0.89262\n",
      "[39]\tvalidation_0-auc:0.89268\n",
      "[40]\tvalidation_0-auc:0.89294\n",
      "[41]\tvalidation_0-auc:0.89288\n",
      "[42]\tvalidation_0-auc:0.89336\n",
      "[43]\tvalidation_0-auc:0.89425\n",
      "[44]\tvalidation_0-auc:0.89401\n",
      "[45]\tvalidation_0-auc:0.89390\n",
      "[46]\tvalidation_0-auc:0.89371\n",
      "[47]\tvalidation_0-auc:0.89366\n",
      "[48]\tvalidation_0-auc:0.89372\n",
      "[49]\tvalidation_0-auc:0.89384\n",
      "[50]\tvalidation_0-auc:0.89392\n",
      "[51]\tvalidation_0-auc:0.89405\n",
      "[52]\tvalidation_0-auc:0.89394\n",
      "[53]\tvalidation_0-auc:0.89395\n",
      "[54]\tvalidation_0-auc:0.89400\n",
      "[55]\tvalidation_0-auc:0.89388\n",
      "[56]\tvalidation_0-auc:0.89377\n",
      "[57]\tvalidation_0-auc:0.89366\n",
      "[58]\tvalidation_0-auc:0.89368\n",
      "[59]\tvalidation_0-auc:0.89393\n",
      "[60]\tvalidation_0-auc:0.89387\n",
      "[61]\tvalidation_0-auc:0.89382\n",
      "[62]\tvalidation_0-auc:0.89375\n",
      "[63]\tvalidation_0-auc:0.89371\n",
      "[64]\tvalidation_0-auc:0.89390\n",
      "[65]\tvalidation_0-auc:0.89386\n",
      "[66]\tvalidation_0-auc:0.89405\n",
      "[67]\tvalidation_0-auc:0.89434\n",
      "[68]\tvalidation_0-auc:0.89443\n",
      "[69]\tvalidation_0-auc:0.89424\n",
      "[70]\tvalidation_0-auc:0.89416\n",
      "[71]\tvalidation_0-auc:0.89410\n",
      "[72]\tvalidation_0-auc:0.89421\n",
      "[73]\tvalidation_0-auc:0.89422\n",
      "[74]\tvalidation_0-auc:0.89407\n",
      "[75]\tvalidation_0-auc:0.89388\n",
      "[76]\tvalidation_0-auc:0.89409\n",
      "[77]\tvalidation_0-auc:0.89410\n",
      "[78]\tvalidation_0-auc:0.89396\n",
      "[79]\tvalidation_0-auc:0.89421\n",
      "[80]\tvalidation_0-auc:0.89417\n",
      "[81]\tvalidation_0-auc:0.89424\n",
      "[82]\tvalidation_0-auc:0.89423\n",
      "[83]\tvalidation_0-auc:0.89427\n",
      "[84]\tvalidation_0-auc:0.89426\n",
      "[85]\tvalidation_0-auc:0.89428\n",
      "[86]\tvalidation_0-auc:0.89440\n",
      "[87]\tvalidation_0-auc:0.89427\n",
      "[88]\tvalidation_0-auc:0.89420\n",
      "[89]\tvalidation_0-auc:0.89428\n",
      "[90]\tvalidation_0-auc:0.89429\n",
      "[91]\tvalidation_0-auc:0.89436\n",
      "[92]\tvalidation_0-auc:0.89424\n",
      "[93]\tvalidation_0-auc:0.89423\n",
      "[94]\tvalidation_0-auc:0.89407\n",
      "[95]\tvalidation_0-auc:0.89405\n",
      "[96]\tvalidation_0-auc:0.89388\n",
      "[97]\tvalidation_0-auc:0.89386\n",
      "[98]\tvalidation_0-auc:0.89383\n",
      "[99]\tvalidation_0-auc:0.89377\n",
      "[100]\tvalidation_0-auc:0.89372\n",
      "[101]\tvalidation_0-auc:0.89382\n",
      "[102]\tvalidation_0-auc:0.89369\n",
      "[103]\tvalidation_0-auc:0.89377\n",
      "[104]\tvalidation_0-auc:0.89381\n",
      "[105]\tvalidation_0-auc:0.89371\n",
      "[106]\tvalidation_0-auc:0.89364\n",
      "[107]\tvalidation_0-auc:0.89388\n",
      "[108]\tvalidation_0-auc:0.89385\n",
      "[109]\tvalidation_0-auc:0.89409\n",
      "[110]\tvalidation_0-auc:0.89402\n",
      "[111]\tvalidation_0-auc:0.89394\n",
      "[112]\tvalidation_0-auc:0.89388\n",
      "[113]\tvalidation_0-auc:0.89391\n",
      "[114]\tvalidation_0-auc:0.89385\n",
      "[115]\tvalidation_0-auc:0.89404\n",
      "[116]\tvalidation_0-auc:0.89391\n",
      "[117]\tvalidation_0-auc:0.89372\n",
      "[118]\tvalidation_0-auc:0.89384\n",
      "[119]\tvalidation_0-auc:0.89384\n",
      "[120]\tvalidation_0-auc:0.89382\n",
      "[121]\tvalidation_0-auc:0.89379\n",
      "[122]\tvalidation_0-auc:0.89404\n",
      "[123]\tvalidation_0-auc:0.89414\n",
      "[124]\tvalidation_0-auc:0.89416\n",
      "[125]\tvalidation_0-auc:0.89416\n",
      "[126]\tvalidation_0-auc:0.89412\n",
      "[127]\tvalidation_0-auc:0.89399\n",
      "[128]\tvalidation_0-auc:0.89399\n",
      "[129]\tvalidation_0-auc:0.89412\n",
      "[130]\tvalidation_0-auc:0.89400\n",
      "[131]\tvalidation_0-auc:0.89408\n",
      "[132]\tvalidation_0-auc:0.89413\n",
      "[133]\tvalidation_0-auc:0.89410\n",
      "[134]\tvalidation_0-auc:0.89425\n",
      "[135]\tvalidation_0-auc:0.89419\n",
      "[136]\tvalidation_0-auc:0.89397\n",
      "[137]\tvalidation_0-auc:0.89392\n",
      "[138]\tvalidation_0-auc:0.89389\n",
      "[139]\tvalidation_0-auc:0.89376\n",
      "[140]\tvalidation_0-auc:0.89368\n",
      "[141]\tvalidation_0-auc:0.89367\n",
      "[142]\tvalidation_0-auc:0.89356\n",
      "[143]\tvalidation_0-auc:0.89344\n",
      "[144]\tvalidation_0-auc:0.89342\n",
      "[145]\tvalidation_0-auc:0.89338\n",
      "[146]\tvalidation_0-auc:0.89339\n",
      "[147]\tvalidation_0-auc:0.89333\n",
      "[148]\tvalidation_0-auc:0.89330\n",
      "[149]\tvalidation_0-auc:0.89323\n",
      "[150]\tvalidation_0-auc:0.89313\n",
      "[151]\tvalidation_0-auc:0.89305\n",
      "[152]\tvalidation_0-auc:0.89300\n",
      "[153]\tvalidation_0-auc:0.89296\n",
      "[154]\tvalidation_0-auc:0.89288\n",
      "[155]\tvalidation_0-auc:0.89286\n",
      "[156]\tvalidation_0-auc:0.89283\n",
      "[157]\tvalidation_0-auc:0.89272\n",
      "[158]\tvalidation_0-auc:0.89275\n",
      "[159]\tvalidation_0-auc:0.89269\n",
      "[160]\tvalidation_0-auc:0.89270\n",
      "[161]\tvalidation_0-auc:0.89264\n",
      "[162]\tvalidation_0-auc:0.89258\n",
      "[163]\tvalidation_0-auc:0.89248\n",
      "[164]\tvalidation_0-auc:0.89248\n",
      "[165]\tvalidation_0-auc:0.89257\n",
      "[166]\tvalidation_0-auc:0.89250\n",
      "[167]\tvalidation_0-auc:0.89255\n"
     ]
    },
    {
     "data": {
      "text/html": [
       "<style>#sk-container-id-3 {color: black;background-color: white;}#sk-container-id-3 pre{padding: 0;}#sk-container-id-3 div.sk-toggleable {background-color: white;}#sk-container-id-3 label.sk-toggleable__label {cursor: pointer;display: block;width: 100%;margin-bottom: 0;padding: 0.3em;box-sizing: border-box;text-align: center;}#sk-container-id-3 label.sk-toggleable__label-arrow:before {content: \"▸\";float: left;margin-right: 0.25em;color: #696969;}#sk-container-id-3 label.sk-toggleable__label-arrow:hover:before {color: black;}#sk-container-id-3 div.sk-estimator:hover label.sk-toggleable__label-arrow:before {color: black;}#sk-container-id-3 div.sk-toggleable__content {max-height: 0;max-width: 0;overflow: hidden;text-align: left;background-color: #f0f8ff;}#sk-container-id-3 div.sk-toggleable__content pre {margin: 0.2em;color: black;border-radius: 0.25em;background-color: #f0f8ff;}#sk-container-id-3 input.sk-toggleable__control:checked~div.sk-toggleable__content {max-height: 200px;max-width: 100%;overflow: auto;}#sk-container-id-3 input.sk-toggleable__control:checked~label.sk-toggleable__label-arrow:before {content: \"▾\";}#sk-container-id-3 div.sk-estimator input.sk-toggleable__control:checked~label.sk-toggleable__label {background-color: #d4ebff;}#sk-container-id-3 div.sk-label input.sk-toggleable__control:checked~label.sk-toggleable__label {background-color: #d4ebff;}#sk-container-id-3 input.sk-hidden--visually {border: 0;clip: rect(1px 1px 1px 1px);clip: rect(1px, 1px, 1px, 1px);height: 1px;margin: -1px;overflow: hidden;padding: 0;position: absolute;width: 1px;}#sk-container-id-3 div.sk-estimator {font-family: monospace;background-color: #f0f8ff;border: 1px dotted black;border-radius: 0.25em;box-sizing: border-box;margin-bottom: 0.5em;}#sk-container-id-3 div.sk-estimator:hover {background-color: #d4ebff;}#sk-container-id-3 div.sk-parallel-item::after {content: \"\";width: 100%;border-bottom: 1px solid gray;flex-grow: 1;}#sk-container-id-3 div.sk-label:hover label.sk-toggleable__label {background-color: #d4ebff;}#sk-container-id-3 div.sk-serial::before {content: \"\";position: absolute;border-left: 1px solid gray;box-sizing: border-box;top: 0;bottom: 0;left: 50%;z-index: 0;}#sk-container-id-3 div.sk-serial {display: flex;flex-direction: column;align-items: center;background-color: white;padding-right: 0.2em;padding-left: 0.2em;position: relative;}#sk-container-id-3 div.sk-item {position: relative;z-index: 1;}#sk-container-id-3 div.sk-parallel {display: flex;align-items: stretch;justify-content: center;background-color: white;position: relative;}#sk-container-id-3 div.sk-item::before, #sk-container-id-3 div.sk-parallel-item::before {content: \"\";position: absolute;border-left: 1px solid gray;box-sizing: border-box;top: 0;bottom: 0;left: 50%;z-index: -1;}#sk-container-id-3 div.sk-parallel-item {display: flex;flex-direction: column;z-index: 1;position: relative;background-color: white;}#sk-container-id-3 div.sk-parallel-item:first-child::after {align-self: flex-end;width: 50%;}#sk-container-id-3 div.sk-parallel-item:last-child::after {align-self: flex-start;width: 50%;}#sk-container-id-3 div.sk-parallel-item:only-child::after {width: 0;}#sk-container-id-3 div.sk-dashed-wrapped {border: 1px dashed gray;margin: 0 0.4em 0.5em 0.4em;box-sizing: border-box;padding-bottom: 0.4em;background-color: white;}#sk-container-id-3 div.sk-label label {font-family: monospace;font-weight: bold;display: inline-block;line-height: 1.2em;}#sk-container-id-3 div.sk-label-container {text-align: center;}#sk-container-id-3 div.sk-container {/* jupyter's `normalize.less` sets `[hidden] { display: none; }` but bootstrap.min.css set `[hidden] { display: none !important; }` so we also need the `!important` here to be able to override the default hidden behavior on the sphinx rendered scikit-learn.org. See: https://github.com/scikit-learn/scikit-learn/issues/21755 */display: inline-block !important;position: relative;}#sk-container-id-3 div.sk-text-repr-fallback {display: none;}</style><div id=\"sk-container-id-3\" class=\"sk-top-container\"><div class=\"sk-text-repr-fallback\"><pre>XGBClassifier(base_score=None, booster=None, callbacks=None,\n",
       "              colsample_bylevel=None, colsample_bynode=None,\n",
       "              colsample_bytree=None, device=None, early_stopping_rounds=None,\n",
       "              enable_categorical=False, eval_metric=None, feature_types=None,\n",
       "              gamma=None, grow_policy=None, importance_type=None,\n",
       "              interaction_constraints=None, learning_rate=None, max_bin=None,\n",
       "              max_cat_threshold=None, max_cat_to_onehot=None,\n",
       "              max_delta_step=None, max_depth=None, max_leaves=None,\n",
       "              min_child_weight=None, missing=nan, monotone_constraints=None,\n",
       "              multi_strategy=None, n_estimators=1000, n_jobs=-1,\n",
       "              num_parallel_tree=None, random_state=0, ...)</pre><b>In a Jupyter environment, please rerun this cell to show the HTML representation or trust the notebook. <br />On GitHub, the HTML representation is unable to render, please try loading this page with nbviewer.org.</b></div><div class=\"sk-container\" hidden><div class=\"sk-item\"><div class=\"sk-estimator sk-toggleable\"><input class=\"sk-toggleable__control sk-hidden--visually\" id=\"sk-estimator-id-3\" type=\"checkbox\" checked><label for=\"sk-estimator-id-3\" class=\"sk-toggleable__label sk-toggleable__label-arrow\">XGBClassifier</label><div class=\"sk-toggleable__content\"><pre>XGBClassifier(base_score=None, booster=None, callbacks=None,\n",
       "              colsample_bylevel=None, colsample_bynode=None,\n",
       "              colsample_bytree=None, device=None, early_stopping_rounds=None,\n",
       "              enable_categorical=False, eval_metric=None, feature_types=None,\n",
       "              gamma=None, grow_policy=None, importance_type=None,\n",
       "              interaction_constraints=None, learning_rate=None, max_bin=None,\n",
       "              max_cat_threshold=None, max_cat_to_onehot=None,\n",
       "              max_delta_step=None, max_depth=None, max_leaves=None,\n",
       "              min_child_weight=None, missing=nan, monotone_constraints=None,\n",
       "              multi_strategy=None, n_estimators=1000, n_jobs=-1,\n",
       "              num_parallel_tree=None, random_state=0, ...)</pre></div></div></div></div></div>"
      ],
      "text/plain": [
       "XGBClassifier(base_score=None, booster=None, callbacks=None,\n",
       "              colsample_bylevel=None, colsample_bynode=None,\n",
       "              colsample_bytree=None, device=None, early_stopping_rounds=None,\n",
       "              enable_categorical=False, eval_metric=None, feature_types=None,\n",
       "              gamma=None, grow_policy=None, importance_type=None,\n",
       "              interaction_constraints=None, learning_rate=None, max_bin=None,\n",
       "              max_cat_threshold=None, max_cat_to_onehot=None,\n",
       "              max_delta_step=None, max_depth=None, max_leaves=None,\n",
       "              min_child_weight=None, missing=nan, monotone_constraints=None,\n",
       "              multi_strategy=None, n_estimators=1000, n_jobs=-1,\n",
       "              num_parallel_tree=None, random_state=0, ...)"
      ]
     },
     "execution_count": 26,
     "metadata": {},
     "output_type": "execute_result"
    }
   ],
   "source": [
    "xgboost = XGBClassifier(n_estimators = 1000,random_state=0,n_jobs=-1)\n",
    "eval_set = [(X_val, y_val)]\n",
    "xgboost.fit(X_train, y_train, eval_metric=\"auc\", eval_set=eval_set, early_stopping_rounds=100, verbose=True)"
   ]
  },
  {
   "cell_type": "code",
   "execution_count": 27,
   "metadata": {},
   "outputs": [
    {
     "data": {
      "text/plain": [
       "0.8944315650966936"
      ]
     },
     "execution_count": 27,
     "metadata": {},
     "output_type": "execute_result"
    }
   ],
   "source": [
    "\n",
    "val_res = 1 -xgboost.predict_proba(X_val)[:,0]\n",
    "roc_auc_score(y_val,val_res)\n"
   ]
  },
  {
   "cell_type": "code",
   "execution_count": 28,
   "metadata": {},
   "outputs": [],
   "source": [
    "test_df = pd.read_csv( F'./data/{feature_set}/test_features.csv')"
   ]
  },
  {
   "cell_type": "code",
   "execution_count": 31,
   "metadata": {},
   "outputs": [],
   "source": [
    "test_res = 1 -xgboost.predict_proba(test_df.drop(columns=['TX_ID','Time_of_day','TX_FRAUD']))[:,0]"
   ]
  },
  {
   "cell_type": "code",
   "execution_count": 32,
   "metadata": {},
   "outputs": [],
   "source": [
    "test_df['TX_FRAUD']  = test_res"
   ]
  },
  {
   "cell_type": "code",
   "execution_count": 33,
   "metadata": {},
   "outputs": [],
   "source": [
    "submission_XGB = test_df[['TX_ID','TX_FRAUD']]"
   ]
  },
  {
   "cell_type": "code",
   "execution_count": 34,
   "metadata": {},
   "outputs": [],
   "source": [
    "test_trans = pd.read_csv( F'./data/transactions_test.csv')\n",
    "test_trans = test_trans['TX_ID']\n",
    "submission_XGB.set_index('TX_ID',inplace=True)\n",
    "submission = submission_XGB.reindex(index =test_trans)"
   ]
  },
  {
   "cell_type": "code",
   "execution_count": 35,
   "metadata": {},
   "outputs": [],
   "source": [
    "location = 'results'\n",
    "submission.to_csv(F'./{location}/results_6_XGB.csv',index=True)"
   ]
  }
 ],
 "metadata": {
  "kernelspec": {
   "display_name": "base",
   "language": "python",
   "name": "python3"
  },
  "language_info": {
   "codemirror_mode": {
    "name": "ipython",
    "version": 3
   },
   "file_extension": ".py",
   "mimetype": "text/x-python",
   "name": "python",
   "nbconvert_exporter": "python",
   "pygments_lexer": "ipython3",
   "version": "3.10.9"
  }
 },
 "nbformat": 4,
 "nbformat_minor": 2
}
