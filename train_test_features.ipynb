{
 "cells": [
  {
   "cell_type": "code",
   "execution_count": 1,
   "metadata": {},
   "outputs": [],
   "source": [
    "import numpy as np\n",
    "import pandas as pd\n",
    "import seaborn as sns\n",
    "import matplotlib.pyplot as plt\n",
    "from sklearn.compose import ColumnTransformer\n",
    "from sklearn.pipeline import Pipeline\n",
    "from sklearn.impute import SimpleImputer\n",
    "from sklearn.preprocessing import OneHotEncoder\n",
    "from dateutil.parser import parse\n",
    "from sklearn.preprocessing import OrdinalEncoder\n",
    "from sklearn.model_selection import train_test_split\n",
    "from sklearn.compose import ColumnTransformer\n",
    "from sklearn.pipeline import Pipeline\n",
    "from sklearn.impute import SimpleImputer\n",
    "from sklearn.preprocessing import OneHotEncoder\n",
    "from sklearn.preprocessing import MinMaxScaler\n",
    "from sklearn.decomposition import PCA\n",
    "from tqdm import tqdm"
   ]
  },
  {
   "cell_type": "code",
   "execution_count": 2,
   "metadata": {},
   "outputs": [
    {
     "name": "stderr",
     "output_type": "stream",
     "text": [
      "C:\\Users\\joshu\\AppData\\Local\\Temp\\ipykernel_31264\\4058358162.py:2: DtypeWarning: Columns (18) have mixed types. Specify dtype option on import or set low_memory=False.\n",
      "  train_trans =  pd.read_csv('./data/transactions_train.csv', parse_dates=[\"TX_TS\"])\n"
     ]
    }
   ],
   "source": [
    "test_trans = pd.read_csv('./data/transactions_test.csv', parse_dates=[\"TX_TS\"])\n",
    "train_trans =  pd.read_csv('./data/transactions_train.csv', parse_dates=[\"TX_TS\"])\n",
    "merchants_full = pd.read_csv('./data/merchants.csv')\n",
    "\n",
    "terminals_full = pd.read_csv('./data/terminals.csv')\n",
    "\n",
    "customers_full = pd.read_csv('./data/customers.csv')"
   ]
  },
  {
   "cell_type": "code",
   "execution_count": 3,
   "metadata": {},
   "outputs": [],
   "source": [
    "test_trans = pd.merge(test_trans,terminals_full,on='TERMINAL_ID')\n",
    "test_trans = pd.merge(test_trans,customers_full,on='CUSTOMER_ID')\n",
    "test_trans = pd.merge(test_trans,merchants_full,on='MERCHANT_ID')\n"
   ]
  },
  {
   "cell_type": "code",
   "execution_count": 4,
   "metadata": {},
   "outputs": [],
   "source": [
    "train_trans = pd.merge(train_trans,terminals_full,on='TERMINAL_ID')\n",
    "train_trans = pd.merge(train_trans,customers_full,on='CUSTOMER_ID')\n",
    "train_trans = pd.merge(train_trans,merchants_full,on='MERCHANT_ID')\n"
   ]
  },
  {
   "cell_type": "code",
   "execution_count": 5,
   "metadata": {},
   "outputs": [],
   "source": [
    "test_trans['is_test'] = 1"
   ]
  },
  {
   "cell_type": "code",
   "execution_count": 6,
   "metadata": {},
   "outputs": [],
   "source": [
    "train_trans['is_test'] = 0"
   ]
  },
  {
   "cell_type": "code",
   "execution_count": 7,
   "metadata": {},
   "outputs": [],
   "source": [
    "all_trans = pd.concat([train_trans,test_trans])"
   ]
  },
  {
   "cell_type": "code",
   "execution_count": 8,
   "metadata": {},
   "outputs": [
    {
     "data": {
      "text/plain": [
       "Index(['TX_ID', 'TX_TS', 'CUSTOMER_ID', 'TERMINAL_ID', 'TX_AMOUNT', 'TX_FRAUD',\n",
       "       'TRANSACTION_GOODS_AND_SERVICES_AMOUNT', 'TRANSACTION_CASHBACK_AMOUNT',\n",
       "       'CARD_EXPIRY_DATE', 'CARD_DATA', 'CARD_BRAND', 'TRANSACTION_TYPE',\n",
       "       'TRANSACTION_STATUS', 'FAILURE_CODE', 'FAILURE_REASON',\n",
       "       'TRANSACTION_CURRENCY', 'CARD_COUNTRY_CODE', 'MERCHANT_ID',\n",
       "       'IS_RECURRING_TRANSACTION', 'ACQUIRER_ID', 'CARDHOLDER_AUTH_METHOD',\n",
       "       'x_terminal_id', 'y_terminal__id', 'x_customer_id', 'y_customer_id',\n",
       "       'BUSINESS_TYPE', 'MCC_CODE', 'LEGAL_NAME', 'FOUNDATION_DATE',\n",
       "       'TAX_EXCEMPT_INDICATOR', 'OUTLET_TYPE', 'ACTIVE_FROM', 'TRADING_FROM',\n",
       "       'ANNUAL_TURNOVER_CARD', 'ANNUAL_TURNOVER', 'AVERAGE_TICKET_SALE_AMOUNT',\n",
       "       'PAYMENT_PERCENTAGE_FACE_TO_FACE', 'PAYMENT_PERCENTAGE_ECOM',\n",
       "       'PAYMENT_PERCENTAGE_MOTO', 'DEPOSIT_REQUIRED_PERCENTAGE',\n",
       "       'DEPOSIT_PERCENTAGE', 'DELIVERY_SAME_DAYS_PERCENTAGE',\n",
       "       'DELIVERY_WEEK_ONE_PERCENTAGE', 'DELIVERY_WEEK_TWO_PERCENTAGE',\n",
       "       'DELIVERY_OVER_TWO_WEEKS_PERCENTAGE', 'is_test', 'ID_JOIN'],\n",
       "      dtype='object')"
      ]
     },
     "execution_count": 8,
     "metadata": {},
     "output_type": "execute_result"
    }
   ],
   "source": [
    "all_trans.columns"
   ]
  },
  {
   "cell_type": "code",
   "execution_count": 9,
   "metadata": {},
   "outputs": [],
   "source": [
    "useless_columns = ['MERCHANT_ID','CARD_EXPIRY_DATE','CARD_DATA','LEGAL_NAME','FOUNDATION_DATE','ACTIVE_FROM','TRADING_FROM']\n",
    "all_trans.drop(useless_columns,axis=1,inplace=True)"
   ]
  },
  {
   "cell_type": "code",
   "execution_count": 10,
   "metadata": {},
   "outputs": [
    {
     "data": {
      "text/plain": [
       "Index(['TX_ID', 'TX_TS', 'CUSTOMER_ID', 'TERMINAL_ID', 'TX_AMOUNT', 'TX_FRAUD',\n",
       "       'TRANSACTION_GOODS_AND_SERVICES_AMOUNT', 'TRANSACTION_CASHBACK_AMOUNT',\n",
       "       'CARD_BRAND', 'TRANSACTION_TYPE', 'TRANSACTION_STATUS', 'FAILURE_CODE',\n",
       "       'FAILURE_REASON', 'TRANSACTION_CURRENCY', 'CARD_COUNTRY_CODE',\n",
       "       'IS_RECURRING_TRANSACTION', 'ACQUIRER_ID', 'CARDHOLDER_AUTH_METHOD',\n",
       "       'x_terminal_id', 'y_terminal__id', 'x_customer_id', 'y_customer_id',\n",
       "       'BUSINESS_TYPE', 'MCC_CODE', 'TAX_EXCEMPT_INDICATOR', 'OUTLET_TYPE',\n",
       "       'ANNUAL_TURNOVER_CARD', 'ANNUAL_TURNOVER', 'AVERAGE_TICKET_SALE_AMOUNT',\n",
       "       'PAYMENT_PERCENTAGE_FACE_TO_FACE', 'PAYMENT_PERCENTAGE_ECOM',\n",
       "       'PAYMENT_PERCENTAGE_MOTO', 'DEPOSIT_REQUIRED_PERCENTAGE',\n",
       "       'DEPOSIT_PERCENTAGE', 'DELIVERY_SAME_DAYS_PERCENTAGE',\n",
       "       'DELIVERY_WEEK_ONE_PERCENTAGE', 'DELIVERY_WEEK_TWO_PERCENTAGE',\n",
       "       'DELIVERY_OVER_TWO_WEEKS_PERCENTAGE', 'is_test', 'ID_JOIN'],\n",
       "      dtype='object')"
      ]
     },
     "execution_count": 10,
     "metadata": {},
     "output_type": "execute_result"
    }
   ],
   "source": [
    "all_trans.columns"
   ]
  },
  {
   "cell_type": "code",
   "execution_count": 11,
   "metadata": {},
   "outputs": [],
   "source": [
    "all_trans.loc[all_trans['FAILURE_CODE'].isna(),['FAILURE_CODE']] = 99"
   ]
  },
  {
   "cell_type": "code",
   "execution_count": 12,
   "metadata": {},
   "outputs": [],
   "source": [
    "all_trans.loc[all_trans['FAILURE_REASON'].isna(),['FAILURE_REASON']] = 'Non Failure'"
   ]
  },
  {
   "cell_type": "code",
   "execution_count": 13,
   "metadata": {},
   "outputs": [],
   "source": [
    "all_trans.dropna(subset=['ACQUIRER_ID','CARDHOLDER_AUTH_METHOD'], inplace=True)"
   ]
  },
  {
   "cell_type": "code",
   "execution_count": 14,
   "metadata": {},
   "outputs": [],
   "source": [
    "def is_night(tx_datetime):\n",
    "    \n",
    "    # Get the hour of the transaction\n",
    "    tx_hour = tx_datetime.hour\n",
    "    # Binary value: 1 if hour less than 6, and 0 otherwise\n",
    "    is_night = tx_hour<=6\n",
    "    \n",
    "    return int(is_night)\n",
    "all_trans['TX_DURING_NIGHT']=all_trans.TX_TS.apply(is_night)\n"
   ]
  },
  {
   "cell_type": "code",
   "execution_count": 15,
   "metadata": {},
   "outputs": [],
   "source": [
    "def is_weekend(tx_datetime):\n",
    "    \n",
    "    # Transform date into weekday (0 is Monday, 6 is Sunday)\n",
    "    weekday = tx_datetime.weekday()\n",
    "    # Binary value: 0 if weekday, 1 if weekend\n",
    "    is_weekend = weekday>=5\n",
    "    \n",
    "    return int(is_weekend)\n",
    "all_trans['TX_DURING_WEEKEND']=all_trans.TX_TS.apply(is_weekend)\n"
   ]
  },
  {
   "cell_type": "code",
   "execution_count": 16,
   "metadata": {},
   "outputs": [],
   "source": [
    "all_trans.drop(['TX_TS'],axis=1,inplace=True)"
   ]
  },
  {
   "cell_type": "code",
   "execution_count": 17,
   "metadata": {},
   "outputs": [],
   "source": [
    "all_trans.loc[all_trans['IS_RECURRING_TRANSACTION'] == 'True',['IS_RECURRING_TRANSACTION']] = 1\n",
    "all_trans.loc[all_trans['IS_RECURRING_TRANSACTION'] == True,['IS_RECURRING_TRANSACTION']] = 1\n",
    "all_trans.loc[all_trans['IS_RECURRING_TRANSACTION'] == 'False',['IS_RECURRING_TRANSACTION']] = 0\n",
    "all_trans.loc[all_trans['IS_RECURRING_TRANSACTION'] == 'Fals',['IS_RECURRING_TRANSACTION']] = 0\n",
    "all_trans.loc[all_trans['IS_RECURRING_TRANSACTION'] == False,['IS_RECURRING_TRANSACTION']] = 0\n",
    "\n",
    "all_trans['IS_RECURRING_TRANSACTION'] = all_trans['IS_RECURRING_TRANSACTION'].apply(pd.to_numeric)"
   ]
  },
  {
   "cell_type": "code",
   "execution_count": 18,
   "metadata": {},
   "outputs": [],
   "source": [
    "one_hot_encoded_col = ['CARD_BRAND','TRANSACTION_TYPE','TRANSACTION_STATUS','FAILURE_CODE','FAILURE_REASON','TRANSACTION_CURRENCY','CARD_COUNTRY_CODE','ACQUIRER_ID','CARDHOLDER_AUTH_METHOD','BUSINESS_TYPE','OUTLET_TYPE','TX_DURING_NIGHT']\n",
    "all_trans = pd.get_dummies(all_trans, columns = one_hot_encoded_col,)"
   ]
  },
  {
   "cell_type": "code",
   "execution_count": 19,
   "metadata": {},
   "outputs": [
    {
     "data": {
      "text/plain": [
       "(array([0], dtype=int64),)"
      ]
     },
     "execution_count": 19,
     "metadata": {},
     "output_type": "execute_result"
    }
   ],
   "source": [
    "np.where(all_trans.dtypes == 'object' )"
   ]
  },
  {
   "cell_type": "code",
   "execution_count": 20,
   "metadata": {},
   "outputs": [
    {
     "data": {
      "text/plain": [
       "Index(['TX_ID'], dtype='object')"
      ]
     },
     "execution_count": 20,
     "metadata": {},
     "output_type": "execute_result"
    }
   ],
   "source": [
    "all_trans.select_dtypes(include=['object']).columns"
   ]
  },
  {
   "cell_type": "code",
   "execution_count": 21,
   "metadata": {},
   "outputs": [],
   "source": [
    "test_df = all_trans.loc[all_trans['is_test'] == 1].drop(columns=['is_test','TX_FRAUD'])\n",
    "train_df = all_trans.loc[all_trans['is_test'] == 0].drop(columns=['TX_ID','is_test'])"
   ]
  },
  {
   "cell_type": "code",
   "execution_count": 22,
   "metadata": {},
   "outputs": [],
   "source": [
    "location = 'feature_set_4'\n",
    "test_df.to_csv(F'./data/{location}/test_features.csv',index=False)"
   ]
  },
  {
   "cell_type": "code",
   "execution_count": 23,
   "metadata": {},
   "outputs": [],
   "source": [
    "train_df.to_csv(F'./data/{location}/train_features.csv',index=False)\n",
    "\n",
    "y = train_df['TX_FRAUD']\n",
    "X = train_df.drop(['TX_FRAUD'],axis = 1)\n",
    "X_train_full, X_valid_full, y_train, y_valid = train_test_split(X, y, train_size=0.7, test_size=0.3,random_state=42)\n",
    "\n",
    "X_train_full.to_csv(F'./data/{location}/X_train_full.csv',index=False)\n",
    "X_valid_full.to_csv(F'./data/{location}/X_valid_full.csv',index=False)\n",
    "y_train.to_csv(F'./data/{location}/y_train.csv',index=False)\n",
    "y_valid.to_csv(F'./data/{location}/y_valid.csv',index=False)"
   ]
  },
  {
   "cell_type": "code",
   "execution_count": 24,
   "metadata": {},
   "outputs": [
    {
     "data": {
      "text/plain": [
       "['TRANSACTION_CURRENCY_CAD',\n",
       " 'BUSINESS_TYPE_Corporations',\n",
       " 'CARD_COUNTRY_CODE_DE',\n",
       " 'CARD_BRAND_Discover',\n",
       " 'FAILURE_REASON_Invalid amount',\n",
       " 'TRANSACTION_CURRENCY_GBP',\n",
       " 'FAILURE_REASON_Unable to go online; offline-declined',\n",
       " 'OUTLET_TYPE_Face to Face',\n",
       " 'CARD_BRAND_MasterCard',\n",
       " 'FAILURE_REASON_Credit issuer unavailable',\n",
       " 'TX_DURING_NIGHT_0',\n",
       " 'FAILURE_REASON_Invalid transaction',\n",
       " 'FAILURE_CODE_99',\n",
       " 'TRANSACTION_STATUS_Authorized',\n",
       " 'ACQUIRER_ID_ACQ6',\n",
       " 'TRANSACTION_TYPE_Cash\\xa0Advance/Withdrawal',\n",
       " 'CARD_COUNTRY_CODE_SA',\n",
       " 'DELIVERY_SAME_DAYS_PERCENTAGE',\n",
       " 'FAILURE_REASON_Insufficient funds/over credit limit / Not sufficient funds',\n",
       " 'CARDHOLDER_AUTH_METHOD_Offline enciphered PIN',\n",
       " 'FAILURE_REASON_Do not honor',\n",
       " 'PAYMENT_PERCENTAGE_ECOM',\n",
       " 'FAILURE_REASON_Restricted card',\n",
       " 'FAILURE_CODE_6',\n",
       " 'TRANSACTION_TYPE_Purchase',\n",
       " 'BUSINESS_TYPE_S Corporations',\n",
       " 'FAILURE_CODE_59',\n",
       " 'TRANSACTION_STATUS_Rejected',\n",
       " 'CARD_COUNTRY_CODE_US',\n",
       " 'FAILURE_REASON_Non Failure',\n",
       " 'CARDHOLDER_AUTH_METHOD_Signature',\n",
       " 'FAILURE_REASON_Cannot verify PIN',\n",
       " 'TX_DURING_NIGHT_1',\n",
       " 'FAILURE_REASON_Error',\n",
       " 'CARD_COUNTRY_CODE_NO',\n",
       " 'TX_FRAUD',\n",
       " 'FAILURE_REASON_Invalid card number',\n",
       " 'TRANSACTION_CURRENCY_CHF',\n",
       " 'FAILURE_REASON_Expired card',\n",
       " 'CARD_COUNTRY_CODE_GB',\n",
       " 'x_customer_id',\n",
       " 'TRANSACTION_TYPE_Purchase\\xa0with\\xa0cashback',\n",
       " 'CARD_COUNTRY_CODE_BT',\n",
       " 'FAILURE_CODE_0',\n",
       " 'CARD_COUNTRY_CODE_HR',\n",
       " 'AVERAGE_TICKET_SALE_AMOUNT',\n",
       " 'CARDHOLDER_AUTH_METHOD_Offline enciphered PIN and signature',\n",
       " 'CARDHOLDER_AUTH_METHOD_Offline plaintext PIN and signature',\n",
       " 'PAYMENT_PERCENTAGE_MOTO',\n",
       " 'ACQUIRER_ID_ACQ1',\n",
       " 'TAX_EXCEMPT_INDICATOR',\n",
       " 'CARDHOLDER_AUTH_METHOD_Offline plaintext PIN',\n",
       " 'FAILURE_CODE_14',\n",
       " 'CARD_COUNTRY_CODE_FR',\n",
       " 'y_customer_id',\n",
       " 'FAILURE_CODE_80',\n",
       " 'TRANSACTION_CASHBACK_AMOUNT',\n",
       " 'TRANSACTION_CURRENCY_AED',\n",
       " 'ACQUIRER_ID_ACQ2',\n",
       " 'CARD_COUNTRY_CODE_BE',\n",
       " 'TRANSACTION_TYPE_Refund',\n",
       " 'BUSINESS_TYPE_Sole Proprietorships',\n",
       " 'FAILURE_CODE_4',\n",
       " 'BUSINESS_TYPE_Limited Liability Company (LLC)',\n",
       " 'y_terminal__id',\n",
       " 'CUSTOMER_ID',\n",
       " 'CARD_COUNTRY_CODE_FI',\n",
       " 'TX_AMOUNT',\n",
       " 'CARD_COUNTRY_CODE_CA',\n",
       " 'IS_RECURRING_TRANSACTION',\n",
       " 'DEPOSIT_REQUIRED_PERCENTAGE',\n",
       " 'DELIVERY_WEEK_TWO_PERCENTAGE',\n",
       " 'ID_JOIN',\n",
       " 'FAILURE_CODE_Z1',\n",
       " 'FAILURE_CODE_54',\n",
       " 'FAILURE_REASON_Capture card / Pick-up',\n",
       " 'FAILURE_CODE_5',\n",
       " 'x_terminal_id',\n",
       " 'FAILURE_CODE_51',\n",
       " 'TX_DURING_WEEKEND',\n",
       " 'FAILURE_REASON_Pickup card, special condition',\n",
       " 'CARD_COUNTRY_CODE_AE',\n",
       " 'OUTLET_TYPE_Ecommerce',\n",
       " 'is_test',\n",
       " 'ACQUIRER_ID_ACQ4',\n",
       " 'CARDHOLDER_AUTH_METHOD_Online PIN',\n",
       " 'FAILURE_REASON_Approved or completed successfully',\n",
       " 'DELIVERY_WEEK_ONE_PERCENTAGE',\n",
       " 'TRANSACTION_STATUS_Settled',\n",
       " 'TRANSACTION_CURRENCY_MDL',\n",
       " 'TRANSACTION_CURRENCY_EUR',\n",
       " 'TERMINAL_ID',\n",
       " 'PAYMENT_PERCENTAGE_FACE_TO_FACE',\n",
       " 'ACQUIRER_ID_ACQ3',\n",
       " 'FAILURE_REASON_Invalid merchant',\n",
       " 'FAILURE_REASON_Refer to card issuer',\n",
       " 'FAILURE_REASON_Suspected fraud',\n",
       " 'FAILURE_CODE_62',\n",
       " 'FAILURE_CODE_3',\n",
       " 'FAILURE_CODE_13',\n",
       " 'FAILURE_CODE_11',\n",
       " 'TRANSACTION_CURRENCY_RON',\n",
       " 'FAILURE_CODE_86',\n",
       " 'FAILURE_REASON_Offline-declined',\n",
       " 'ACQUIRER_ID_ACQ5',\n",
       " 'TRANSACTION_STATUS_Captured',\n",
       " 'CARD_BRAND_AMEX',\n",
       " 'TRANSACTION_CURRENCY_USD',\n",
       " 'FAILURE_CODE_7',\n",
       " 'TRANSACTION_CURRENCY_CNY',\n",
       " 'TRANSACTION_CURRENCY_JPY',\n",
       " 'DEPOSIT_PERCENTAGE',\n",
       " 'TRANSACTION_CURRENCY_HKD',\n",
       " 'FAILURE_CODE_Z3',\n",
       " 'DELIVERY_OVER_TWO_WEEKS_PERCENTAGE',\n",
       " 'MCC_CODE',\n",
       " 'OUTLET_TYPE_Face to Face and Ecommerce',\n",
       " 'ANNUAL_TURNOVER_CARD',\n",
       " 'CARD_COUNTRY_CODE_DK',\n",
       " 'CARD_COUNTRY_CODE_RO',\n",
       " 'FAILURE_CODE_1',\n",
       " 'TRANSACTION_GOODS_AND_SERVICES_AMOUNT',\n",
       " 'ANNUAL_TURNOVER',\n",
       " 'CARD_BRAND_Visa',\n",
       " 'CARDHOLDER_AUTH_METHOD_No CVM performed']"
      ]
     },
     "execution_count": 24,
     "metadata": {},
     "output_type": "execute_result"
    }
   ],
   "source": [
    "other_cols = list(set(all_trans.columns)-set(['TX_ID']))\n",
    "other_cols"
   ]
  },
  {
   "cell_type": "code",
   "execution_count": 25,
   "metadata": {},
   "outputs": [
    {
     "data": {
      "text/html": [
       "<style>#sk-container-id-1 {color: black;background-color: white;}#sk-container-id-1 pre{padding: 0;}#sk-container-id-1 div.sk-toggleable {background-color: white;}#sk-container-id-1 label.sk-toggleable__label {cursor: pointer;display: block;width: 100%;margin-bottom: 0;padding: 0.3em;box-sizing: border-box;text-align: center;}#sk-container-id-1 label.sk-toggleable__label-arrow:before {content: \"▸\";float: left;margin-right: 0.25em;color: #696969;}#sk-container-id-1 label.sk-toggleable__label-arrow:hover:before {color: black;}#sk-container-id-1 div.sk-estimator:hover label.sk-toggleable__label-arrow:before {color: black;}#sk-container-id-1 div.sk-toggleable__content {max-height: 0;max-width: 0;overflow: hidden;text-align: left;background-color: #f0f8ff;}#sk-container-id-1 div.sk-toggleable__content pre {margin: 0.2em;color: black;border-radius: 0.25em;background-color: #f0f8ff;}#sk-container-id-1 input.sk-toggleable__control:checked~div.sk-toggleable__content {max-height: 200px;max-width: 100%;overflow: auto;}#sk-container-id-1 input.sk-toggleable__control:checked~label.sk-toggleable__label-arrow:before {content: \"▾\";}#sk-container-id-1 div.sk-estimator input.sk-toggleable__control:checked~label.sk-toggleable__label {background-color: #d4ebff;}#sk-container-id-1 div.sk-label input.sk-toggleable__control:checked~label.sk-toggleable__label {background-color: #d4ebff;}#sk-container-id-1 input.sk-hidden--visually {border: 0;clip: rect(1px 1px 1px 1px);clip: rect(1px, 1px, 1px, 1px);height: 1px;margin: -1px;overflow: hidden;padding: 0;position: absolute;width: 1px;}#sk-container-id-1 div.sk-estimator {font-family: monospace;background-color: #f0f8ff;border: 1px dotted black;border-radius: 0.25em;box-sizing: border-box;margin-bottom: 0.5em;}#sk-container-id-1 div.sk-estimator:hover {background-color: #d4ebff;}#sk-container-id-1 div.sk-parallel-item::after {content: \"\";width: 100%;border-bottom: 1px solid gray;flex-grow: 1;}#sk-container-id-1 div.sk-label:hover label.sk-toggleable__label {background-color: #d4ebff;}#sk-container-id-1 div.sk-serial::before {content: \"\";position: absolute;border-left: 1px solid gray;box-sizing: border-box;top: 0;bottom: 0;left: 50%;z-index: 0;}#sk-container-id-1 div.sk-serial {display: flex;flex-direction: column;align-items: center;background-color: white;padding-right: 0.2em;padding-left: 0.2em;position: relative;}#sk-container-id-1 div.sk-item {position: relative;z-index: 1;}#sk-container-id-1 div.sk-parallel {display: flex;align-items: stretch;justify-content: center;background-color: white;position: relative;}#sk-container-id-1 div.sk-item::before, #sk-container-id-1 div.sk-parallel-item::before {content: \"\";position: absolute;border-left: 1px solid gray;box-sizing: border-box;top: 0;bottom: 0;left: 50%;z-index: -1;}#sk-container-id-1 div.sk-parallel-item {display: flex;flex-direction: column;z-index: 1;position: relative;background-color: white;}#sk-container-id-1 div.sk-parallel-item:first-child::after {align-self: flex-end;width: 50%;}#sk-container-id-1 div.sk-parallel-item:last-child::after {align-self: flex-start;width: 50%;}#sk-container-id-1 div.sk-parallel-item:only-child::after {width: 0;}#sk-container-id-1 div.sk-dashed-wrapped {border: 1px dashed gray;margin: 0 0.4em 0.5em 0.4em;box-sizing: border-box;padding-bottom: 0.4em;background-color: white;}#sk-container-id-1 div.sk-label label {font-family: monospace;font-weight: bold;display: inline-block;line-height: 1.2em;}#sk-container-id-1 div.sk-label-container {text-align: center;}#sk-container-id-1 div.sk-container {/* jupyter's `normalize.less` sets `[hidden] { display: none; }` but bootstrap.min.css set `[hidden] { display: none !important; }` so we also need the `!important` here to be able to override the default hidden behavior on the sphinx rendered scikit-learn.org. See: https://github.com/scikit-learn/scikit-learn/issues/21755 */display: inline-block !important;position: relative;}#sk-container-id-1 div.sk-text-repr-fallback {display: none;}</style><div id=\"sk-container-id-1\" class=\"sk-top-container\"><div class=\"sk-text-repr-fallback\"><pre>MinMaxScaler()</pre><b>In a Jupyter environment, please rerun this cell to show the HTML representation or trust the notebook. <br />On GitHub, the HTML representation is unable to render, please try loading this page with nbviewer.org.</b></div><div class=\"sk-container\" hidden><div class=\"sk-item\"><div class=\"sk-estimator sk-toggleable\"><input class=\"sk-toggleable__control sk-hidden--visually\" id=\"sk-estimator-id-1\" type=\"checkbox\" checked><label for=\"sk-estimator-id-1\" class=\"sk-toggleable__label sk-toggleable__label-arrow\">MinMaxScaler</label><div class=\"sk-toggleable__content\"><pre>MinMaxScaler()</pre></div></div></div></div></div>"
      ],
      "text/plain": [
       "MinMaxScaler()"
      ]
     },
     "execution_count": 25,
     "metadata": {},
     "output_type": "execute_result"
    }
   ],
   "source": [
    "scaler = MinMaxScaler()\n",
    "scaler.fit(all_trans[other_cols])"
   ]
  },
  {
   "cell_type": "code",
   "execution_count": 26,
   "metadata": {},
   "outputs": [],
   "source": [
    "all_trans_normalised = pd.DataFrame(scaler.transform(all_trans[other_cols]), index=all_trans[other_cols].index, columns=other_cols)"
   ]
  },
  {
   "cell_type": "code",
   "execution_count": 27,
   "metadata": {},
   "outputs": [],
   "source": [
    "all_trans_normalised['TX_ID'] = all_trans['TX_ID']"
   ]
  },
  {
   "cell_type": "code",
   "execution_count": 28,
   "metadata": {},
   "outputs": [],
   "source": [
    "test_df = all_trans_normalised.loc[all_trans['is_test'] == 1].drop(columns=['is_test','TX_FRAUD'])\n",
    "train_df = all_trans_normalised.loc[all_trans['is_test'] == 0].drop(columns=['TX_ID','is_test'])"
   ]
  },
  {
   "cell_type": "code",
   "execution_count": 29,
   "metadata": {},
   "outputs": [],
   "source": [
    "location = 'feature_set_4_normalised'\n",
    "test_df.to_csv(F'./data/{location}/test_features.csv',index=False)"
   ]
  },
  {
   "cell_type": "code",
   "execution_count": 30,
   "metadata": {},
   "outputs": [],
   "source": [
    "train_df.to_csv(F'./data/{location}/train_features.csv',index=False)\n",
    "\n",
    "y = train_df['TX_FRAUD']\n",
    "X = train_df.drop(['TX_FRAUD'],axis = 1)\n",
    "X_train_full, X_valid_full, y_train, y_valid = train_test_split(X, y, train_size=0.7, test_size=0.3,random_state=42)\n",
    "\n",
    "X_train_full.to_csv(F'./data/{location}/X_train_full.csv',index=False)\n",
    "X_valid_full.to_csv(F'./data/{location}/X_valid_full.csv',index=False)\n",
    "y_train.to_csv(F'./data/{location}/y_train.csv',index=False)\n",
    "y_valid.to_csv(F'./data/{location}/y_valid.csv',index=False)"
   ]
  },
  {
   "cell_type": "code",
   "execution_count": 31,
   "metadata": {},
   "outputs": [
    {
     "data": {
      "text/plain": [
       "TX_ID                                         0\n",
       "CUSTOMER_ID                                   0\n",
       "TERMINAL_ID                                   0\n",
       "TX_AMOUNT                                     0\n",
       "TX_FRAUD                                  71138\n",
       "                                          ...  \n",
       "OUTLET_TYPE_Ecommerce                         0\n",
       "OUTLET_TYPE_Face to Face                      0\n",
       "OUTLET_TYPE_Face to Face and Ecommerce        0\n",
       "TX_DURING_NIGHT_0                             0\n",
       "TX_DURING_NIGHT_1                             0\n",
       "Length: 126, dtype: int64"
      ]
     },
     "execution_count": 31,
     "metadata": {},
     "output_type": "execute_result"
    }
   ],
   "source": [
    "all_trans.isna().sum()"
   ]
  },
  {
   "cell_type": "code",
   "execution_count": 62,
   "metadata": {},
   "outputs": [],
   "source": [
    "og_test = pd.read_csv('./data/transactions_test.csv', parse_dates=[\"TX_TS\"])"
   ]
  },
  {
   "cell_type": "code",
   "execution_count": 66,
   "metadata": {},
   "outputs": [
    {
     "data": {
      "text/plain": [
       "{'ddaa070acea087eae360225e92c1609cea905e43'}"
      ]
     },
     "execution_count": 66,
     "metadata": {},
     "output_type": "execute_result"
    }
   ],
   "source": [
    "set(og_test['TX_ID'])- set(test_df['TX_ID'])"
   ]
  }
 ],
 "metadata": {
  "kernelspec": {
   "display_name": "base",
   "language": "python",
   "name": "python3"
  },
  "language_info": {
   "codemirror_mode": {
    "name": "ipython",
    "version": 3
   },
   "file_extension": ".py",
   "mimetype": "text/x-python",
   "name": "python",
   "nbconvert_exporter": "python",
   "pygments_lexer": "ipython3",
   "version": "3.10.9"
  }
 },
 "nbformat": 4,
 "nbformat_minor": 2
}
