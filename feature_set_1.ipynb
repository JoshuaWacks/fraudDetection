{
 "cells": [
  {
   "cell_type": "code",
   "execution_count": 1,
   "metadata": {},
   "outputs": [],
   "source": [
    "import numpy as np\n",
    "import pandas as pd\n",
    "import seaborn as sns\n",
    "import matplotlib.pyplot as plt\n",
    "from sklearn.compose import ColumnTransformer\n",
    "from sklearn.pipeline import Pipeline\n",
    "from sklearn.impute import SimpleImputer\n",
    "from sklearn.preprocessing import OneHotEncoder\n",
    "from dateutil.parser import parse\n",
    "from sklearn.preprocessing import OrdinalEncoder\n",
    "from sklearn.model_selection import train_test_split"
   ]
  },
  {
   "cell_type": "code",
   "execution_count": 2,
   "metadata": {},
   "outputs": [],
   "source": [
    "# Set Matplotlib defaults\n",
    "plt.style.use(\"seaborn-whitegrid\")\n",
    "plt.rc(\"figure\", autolayout=True, figsize=(11, 5))\n",
    "plt.rc(\n",
    "    \"axes\",\n",
    "    labelweight=\"bold\",\n",
    "    labelsize=\"large\",\n",
    "    titleweight=\"bold\",\n",
    "    titlesize=16,\n",
    "    titlepad=10,\n",
    ")\n",
    "plot_params = dict(\n",
    "    color=\"0.75\",\n",
    "    style=\".-\",\n",
    "    markeredgecolor=\"0.25\",\n",
    "    markerfacecolor=\"0.25\",\n",
    "    legend=False,\n",
    ")\n",
    "%config InlineBackend.figure_format = 'retina'"
   ]
  },
  {
   "cell_type": "markdown",
   "metadata": {},
   "source": [
    "### Reading in all data while parsing dates"
   ]
  },
  {
   "cell_type": "code",
   "execution_count": 3,
   "metadata": {},
   "outputs": [
    {
     "name": "stderr",
     "output_type": "stream",
     "text": [
      "C:\\Users\\joshu\\AppData\\Local\\Temp\\ipykernel_24868\\2224522130.py:1: DtypeWarning: Columns (18) have mixed types. Specify dtype option on import or set low_memory=False.\n",
      "  transactions_full = pd.read_csv('./data/transactions_train.csv', parse_dates=[\"TX_TS\"])\n"
     ]
    }
   ],
   "source": [
    "transactions_full = pd.read_csv('./data/transactions_train.csv', parse_dates=[\"TX_TS\"])\n",
    "# transactions_train_og = transactions_train_og.set_index(\"TX_ID\")\n",
    "\n",
    "merchants_full = pd.read_csv('./data/merchants.csv', parse_dates=[\"FOUNDATION_DATE\",\"ACTIVE_FROM\",\"TRADING_FROM\"])\n",
    "\n",
    "terminals_full = pd.read_csv('./data/terminals.csv')\n",
    "\n",
    "customers_full = pd.read_csv('./data/customers.csv')"
   ]
  },
  {
   "cell_type": "markdown",
   "metadata": {},
   "source": [
    "### Parsing the date and adding 2 new columns with just the date and time of the transaction"
   ]
  },
  {
   "cell_type": "code",
   "execution_count": 4,
   "metadata": {},
   "outputs": [],
   "source": [
    "# transactions_full[\"CARD_EXPIRY_DATE\"] = transactions_full[\"CARD_EXPIRY_DATE\"].apply(lambda x: parse(x))\n",
    "transactions_full[\"TX_TS\"] = pd.to_datetime(transactions_full[\"TX_TS\"],format='%Y-%m-%d')\n",
    "# transactions_full[\"TX_TS_DATE\"] = pd.to_datetime(transactions_full[\"TX_TS\"].dt.date)\n",
    "# transactions_full[\"TX_TS_TIME\"] = pd.to_datetime(transactions_full[\"TX_TS\"].dt.time)"
   ]
  },
  {
   "cell_type": "markdown",
   "metadata": {},
   "source": [
    "### Merging datasets"
   ]
  },
  {
   "cell_type": "markdown",
   "metadata": {},
   "source": [
    "For now I am leaving out x and y coordinates of customer and terminals"
   ]
  },
  {
   "cell_type": "code",
   "execution_count": 5,
   "metadata": {},
   "outputs": [],
   "source": [
    "transactions_full = pd.merge(transactions_full,merchants_full,on='MERCHANT_ID')"
   ]
  },
  {
   "cell_type": "code",
   "execution_count": 6,
   "metadata": {},
   "outputs": [
    {
     "data": {
      "text/html": [
       "<div>\n",
       "<style scoped>\n",
       "    .dataframe tbody tr th:only-of-type {\n",
       "        vertical-align: middle;\n",
       "    }\n",
       "\n",
       "    .dataframe tbody tr th {\n",
       "        vertical-align: top;\n",
       "    }\n",
       "\n",
       "    .dataframe thead th {\n",
       "        text-align: right;\n",
       "    }\n",
       "</style>\n",
       "<table border=\"1\" class=\"dataframe\">\n",
       "  <thead>\n",
       "    <tr style=\"text-align: right;\">\n",
       "      <th></th>\n",
       "      <th>TX_ID</th>\n",
       "      <th>TX_TS</th>\n",
       "      <th>CUSTOMER_ID</th>\n",
       "      <th>TERMINAL_ID</th>\n",
       "      <th>TX_AMOUNT</th>\n",
       "      <th>TX_FRAUD</th>\n",
       "      <th>TRANSACTION_GOODS_AND_SERVICES_AMOUNT</th>\n",
       "      <th>TRANSACTION_CASHBACK_AMOUNT</th>\n",
       "      <th>CARD_EXPIRY_DATE</th>\n",
       "      <th>CARD_DATA</th>\n",
       "      <th>...</th>\n",
       "      <th>AVERAGE_TICKET_SALE_AMOUNT</th>\n",
       "      <th>PAYMENT_PERCENTAGE_FACE_TO_FACE</th>\n",
       "      <th>PAYMENT_PERCENTAGE_ECOM</th>\n",
       "      <th>PAYMENT_PERCENTAGE_MOTO</th>\n",
       "      <th>DEPOSIT_REQUIRED_PERCENTAGE</th>\n",
       "      <th>DEPOSIT_PERCENTAGE</th>\n",
       "      <th>DELIVERY_SAME_DAYS_PERCENTAGE</th>\n",
       "      <th>DELIVERY_WEEK_ONE_PERCENTAGE</th>\n",
       "      <th>DELIVERY_WEEK_TWO_PERCENTAGE</th>\n",
       "      <th>DELIVERY_OVER_TWO_WEEKS_PERCENTAGE</th>\n",
       "    </tr>\n",
       "  </thead>\n",
       "  <tbody>\n",
       "    <tr>\n",
       "      <th>0</th>\n",
       "      <td>c6dde46458f3d1cfeb9256f8add45a14fb349f8f</td>\n",
       "      <td>2021-04-02 12:42:24+00:00</td>\n",
       "      <td>7323088226725338</td>\n",
       "      <td>55875360</td>\n",
       "      <td>0.00</td>\n",
       "      <td>0</td>\n",
       "      <td>0.00</td>\n",
       "      <td>0.0</td>\n",
       "      <td>12/22</td>\n",
       "      <td>5428********818</td>\n",
       "      <td>...</td>\n",
       "      <td>59</td>\n",
       "      <td>37</td>\n",
       "      <td>63</td>\n",
       "      <td>0</td>\n",
       "      <td>69</td>\n",
       "      <td>69</td>\n",
       "      <td>24</td>\n",
       "      <td>20</td>\n",
       "      <td>20</td>\n",
       "      <td>36</td>\n",
       "    </tr>\n",
       "    <tr>\n",
       "      <th>1</th>\n",
       "      <td>10f578bdefbdfb64e222e0e566ac2885da06772f</td>\n",
       "      <td>2021-05-23 22:39:49+00:00</td>\n",
       "      <td>4262297761961723</td>\n",
       "      <td>15873857</td>\n",
       "      <td>21.80</td>\n",
       "      <td>0</td>\n",
       "      <td>21.80</td>\n",
       "      <td>0.0</td>\n",
       "      <td>03/23</td>\n",
       "      <td>4024********280</td>\n",
       "      <td>...</td>\n",
       "      <td>59</td>\n",
       "      <td>37</td>\n",
       "      <td>63</td>\n",
       "      <td>0</td>\n",
       "      <td>69</td>\n",
       "      <td>69</td>\n",
       "      <td>24</td>\n",
       "      <td>20</td>\n",
       "      <td>20</td>\n",
       "      <td>36</td>\n",
       "    </tr>\n",
       "    <tr>\n",
       "      <th>2</th>\n",
       "      <td>2ffa5d887b3a4d3662a0ef993e90fb5aff44b273</td>\n",
       "      <td>2021-09-20 19:22:32+00:00</td>\n",
       "      <td>714771602509423</td>\n",
       "      <td>85599276</td>\n",
       "      <td>37.85</td>\n",
       "      <td>0</td>\n",
       "      <td>37.85</td>\n",
       "      <td>0.0</td>\n",
       "      <td>09/22</td>\n",
       "      <td>4929********218</td>\n",
       "      <td>...</td>\n",
       "      <td>59</td>\n",
       "      <td>37</td>\n",
       "      <td>63</td>\n",
       "      <td>0</td>\n",
       "      <td>69</td>\n",
       "      <td>69</td>\n",
       "      <td>24</td>\n",
       "      <td>20</td>\n",
       "      <td>20</td>\n",
       "      <td>36</td>\n",
       "    </tr>\n",
       "    <tr>\n",
       "      <th>3</th>\n",
       "      <td>47682f7be475bd903b94a251ba4738dcf7c9bbb8</td>\n",
       "      <td>2021-11-26 20:29:55+00:00</td>\n",
       "      <td>9867755465717758</td>\n",
       "      <td>92968204</td>\n",
       "      <td>6.90</td>\n",
       "      <td>0</td>\n",
       "      <td>6.90</td>\n",
       "      <td>0.0</td>\n",
       "      <td>05/22</td>\n",
       "      <td>4916********744</td>\n",
       "      <td>...</td>\n",
       "      <td>59</td>\n",
       "      <td>37</td>\n",
       "      <td>63</td>\n",
       "      <td>0</td>\n",
       "      <td>69</td>\n",
       "      <td>69</td>\n",
       "      <td>24</td>\n",
       "      <td>20</td>\n",
       "      <td>20</td>\n",
       "      <td>36</td>\n",
       "    </tr>\n",
       "    <tr>\n",
       "      <th>4</th>\n",
       "      <td>450871a09218813b7128e540c8660421945a1738</td>\n",
       "      <td>2021-06-21 19:08:14+00:00</td>\n",
       "      <td>3987679533084498</td>\n",
       "      <td>78424763</td>\n",
       "      <td>57.25</td>\n",
       "      <td>0</td>\n",
       "      <td>57.25</td>\n",
       "      <td>0.0</td>\n",
       "      <td>05/22</td>\n",
       "      <td>5344********877</td>\n",
       "      <td>...</td>\n",
       "      <td>59</td>\n",
       "      <td>37</td>\n",
       "      <td>63</td>\n",
       "      <td>0</td>\n",
       "      <td>69</td>\n",
       "      <td>69</td>\n",
       "      <td>24</td>\n",
       "      <td>20</td>\n",
       "      <td>20</td>\n",
       "      <td>36</td>\n",
       "    </tr>\n",
       "  </tbody>\n",
       "</table>\n",
       "<p>5 rows × 41 columns</p>\n",
       "</div>"
      ],
      "text/plain": [
       "                                      TX_ID                     TX_TS  \\\n",
       "0  c6dde46458f3d1cfeb9256f8add45a14fb349f8f 2021-04-02 12:42:24+00:00   \n",
       "1  10f578bdefbdfb64e222e0e566ac2885da06772f 2021-05-23 22:39:49+00:00   \n",
       "2  2ffa5d887b3a4d3662a0ef993e90fb5aff44b273 2021-09-20 19:22:32+00:00   \n",
       "3  47682f7be475bd903b94a251ba4738dcf7c9bbb8 2021-11-26 20:29:55+00:00   \n",
       "4  450871a09218813b7128e540c8660421945a1738 2021-06-21 19:08:14+00:00   \n",
       "\n",
       "        CUSTOMER_ID  TERMINAL_ID  TX_AMOUNT  TX_FRAUD  \\\n",
       "0  7323088226725338     55875360       0.00         0   \n",
       "1  4262297761961723     15873857      21.80         0   \n",
       "2   714771602509423     85599276      37.85         0   \n",
       "3  9867755465717758     92968204       6.90         0   \n",
       "4  3987679533084498     78424763      57.25         0   \n",
       "\n",
       "   TRANSACTION_GOODS_AND_SERVICES_AMOUNT  TRANSACTION_CASHBACK_AMOUNT  \\\n",
       "0                                   0.00                          0.0   \n",
       "1                                  21.80                          0.0   \n",
       "2                                  37.85                          0.0   \n",
       "3                                   6.90                          0.0   \n",
       "4                                  57.25                          0.0   \n",
       "\n",
       "  CARD_EXPIRY_DATE        CARD_DATA  ... AVERAGE_TICKET_SALE_AMOUNT  \\\n",
       "0            12/22  5428********818  ...                         59   \n",
       "1            03/23  4024********280  ...                         59   \n",
       "2            09/22  4929********218  ...                         59   \n",
       "3            05/22  4916********744  ...                         59   \n",
       "4            05/22  5344********877  ...                         59   \n",
       "\n",
       "  PAYMENT_PERCENTAGE_FACE_TO_FACE PAYMENT_PERCENTAGE_ECOM  \\\n",
       "0                              37                      63   \n",
       "1                              37                      63   \n",
       "2                              37                      63   \n",
       "3                              37                      63   \n",
       "4                              37                      63   \n",
       "\n",
       "  PAYMENT_PERCENTAGE_MOTO DEPOSIT_REQUIRED_PERCENTAGE DEPOSIT_PERCENTAGE  \\\n",
       "0                       0                          69                 69   \n",
       "1                       0                          69                 69   \n",
       "2                       0                          69                 69   \n",
       "3                       0                          69                 69   \n",
       "4                       0                          69                 69   \n",
       "\n",
       "  DELIVERY_SAME_DAYS_PERCENTAGE DELIVERY_WEEK_ONE_PERCENTAGE  \\\n",
       "0                            24                           20   \n",
       "1                            24                           20   \n",
       "2                            24                           20   \n",
       "3                            24                           20   \n",
       "4                            24                           20   \n",
       "\n",
       "  DELIVERY_WEEK_TWO_PERCENTAGE DELIVERY_OVER_TWO_WEEKS_PERCENTAGE  \n",
       "0                           20                                 36  \n",
       "1                           20                                 36  \n",
       "2                           20                                 36  \n",
       "3                           20                                 36  \n",
       "4                           20                                 36  \n",
       "\n",
       "[5 rows x 41 columns]"
      ]
     },
     "execution_count": 6,
     "metadata": {},
     "output_type": "execute_result"
    }
   ],
   "source": [
    "transactions_full.head()"
   ]
  },
  {
   "cell_type": "markdown",
   "metadata": {},
   "source": [
    "Looking if there are any transaction where the tx_tx later than CARD_EXPIRY_DATE"
   ]
  },
  {
   "cell_type": "markdown",
   "metadata": {},
   "source": [
    "### Deleting columns I don't think will help"
   ]
  },
  {
   "cell_type": "code",
   "execution_count": 7,
   "metadata": {},
   "outputs": [
    {
     "data": {
      "text/plain": [
       "TX_ID                                                 object\n",
       "TX_TS                                    datetime64[ns, UTC]\n",
       "CUSTOMER_ID                                            int64\n",
       "TERMINAL_ID                                            int64\n",
       "TX_AMOUNT                                            float64\n",
       "TX_FRAUD                                               int64\n",
       "TRANSACTION_GOODS_AND_SERVICES_AMOUNT                float64\n",
       "TRANSACTION_CASHBACK_AMOUNT                          float64\n",
       "CARD_EXPIRY_DATE                                      object\n",
       "CARD_DATA                                             object\n",
       "CARD_BRAND                                            object\n",
       "TRANSACTION_TYPE                                      object\n",
       "TRANSACTION_STATUS                                    object\n",
       "FAILURE_CODE                                          object\n",
       "FAILURE_REASON                                        object\n",
       "TRANSACTION_CURRENCY                                  object\n",
       "CARD_COUNTRY_CODE                                     object\n",
       "MERCHANT_ID                                           object\n",
       "IS_RECURRING_TRANSACTION                              object\n",
       "ACQUIRER_ID                                           object\n",
       "CARDHOLDER_AUTH_METHOD                                object\n",
       "BUSINESS_TYPE                                         object\n",
       "MCC_CODE                                               int64\n",
       "LEGAL_NAME                                            object\n",
       "FOUNDATION_DATE                               datetime64[ns]\n",
       "TAX_EXCEMPT_INDICATOR                                   bool\n",
       "OUTLET_TYPE                                           object\n",
       "ACTIVE_FROM                                   datetime64[ns]\n",
       "TRADING_FROM                                  datetime64[ns]\n",
       "ANNUAL_TURNOVER_CARD                                   int64\n",
       "ANNUAL_TURNOVER                                        int64\n",
       "AVERAGE_TICKET_SALE_AMOUNT                             int64\n",
       "PAYMENT_PERCENTAGE_FACE_TO_FACE                        int64\n",
       "PAYMENT_PERCENTAGE_ECOM                                int64\n",
       "PAYMENT_PERCENTAGE_MOTO                                int64\n",
       "DEPOSIT_REQUIRED_PERCENTAGE                            int64\n",
       "DEPOSIT_PERCENTAGE                                     int64\n",
       "DELIVERY_SAME_DAYS_PERCENTAGE                          int64\n",
       "DELIVERY_WEEK_ONE_PERCENTAGE                           int64\n",
       "DELIVERY_WEEK_TWO_PERCENTAGE                           int64\n",
       "DELIVERY_OVER_TWO_WEEKS_PERCENTAGE                     int64\n",
       "dtype: object"
      ]
     },
     "execution_count": 7,
     "metadata": {},
     "output_type": "execute_result"
    }
   ],
   "source": [
    "transactions_full.dtypes"
   ]
  },
  {
   "cell_type": "code",
   "execution_count": 8,
   "metadata": {},
   "outputs": [],
   "source": [
    "useless_columns = ['CARD_EXPIRY_DATE','TX_ID','CARD_DATA','LEGAL_NAME','FOUNDATION_DATE','ACTIVE_FROM','TRADING_FROM']\n",
    "transactions_full.drop(useless_columns,axis=1,inplace=True)"
   ]
  },
  {
   "cell_type": "markdown",
   "metadata": {},
   "source": [
    "### Dealing with missing data"
   ]
  },
  {
   "cell_type": "code",
   "execution_count": 9,
   "metadata": {},
   "outputs": [
    {
     "data": {
      "text/plain": [
       "TX_TS                                          0\n",
       "CUSTOMER_ID                                    0\n",
       "TERMINAL_ID                                    0\n",
       "TX_AMOUNT                                      0\n",
       "TX_FRAUD                                       0\n",
       "TRANSACTION_GOODS_AND_SERVICES_AMOUNT          0\n",
       "TRANSACTION_CASHBACK_AMOUNT                    0\n",
       "CARD_BRAND                                     0\n",
       "TRANSACTION_TYPE                               0\n",
       "TRANSACTION_STATUS                             0\n",
       "FAILURE_CODE                             1049208\n",
       "FAILURE_REASON                           1049208\n",
       "TRANSACTION_CURRENCY                           0\n",
       "CARD_COUNTRY_CODE                              0\n",
       "MERCHANT_ID                                    0\n",
       "IS_RECURRING_TRANSACTION                       0\n",
       "ACQUIRER_ID                                    1\n",
       "CARDHOLDER_AUTH_METHOD                         1\n",
       "BUSINESS_TYPE                                  0\n",
       "MCC_CODE                                       0\n",
       "TAX_EXCEMPT_INDICATOR                          0\n",
       "OUTLET_TYPE                                    0\n",
       "ANNUAL_TURNOVER_CARD                           0\n",
       "ANNUAL_TURNOVER                                0\n",
       "AVERAGE_TICKET_SALE_AMOUNT                     0\n",
       "PAYMENT_PERCENTAGE_FACE_TO_FACE                0\n",
       "PAYMENT_PERCENTAGE_ECOM                        0\n",
       "PAYMENT_PERCENTAGE_MOTO                        0\n",
       "DEPOSIT_REQUIRED_PERCENTAGE                    0\n",
       "DEPOSIT_PERCENTAGE                             0\n",
       "DELIVERY_SAME_DAYS_PERCENTAGE                  0\n",
       "DELIVERY_WEEK_ONE_PERCENTAGE                   0\n",
       "DELIVERY_WEEK_TWO_PERCENTAGE                   0\n",
       "DELIVERY_OVER_TWO_WEEKS_PERCENTAGE             0\n",
       "dtype: int64"
      ]
     },
     "execution_count": 9,
     "metadata": {},
     "output_type": "execute_result"
    }
   ],
   "source": [
    "transactions_full.isna().sum()"
   ]
  },
  {
   "cell_type": "markdown",
   "metadata": {},
   "source": [
    "After doing analysis I saw that the missing Failure_Code and Failure_Reason values are when the transaction was successful so do not want ot drop those. Instead I am going to create a new code and reason for when successful, to remove the NAN."
   ]
  },
  {
   "cell_type": "markdown",
   "metadata": {},
   "source": [
    "These transactions were interesting, completed successfully, but under failure reason and were fraud"
   ]
  },
  {
   "cell_type": "markdown",
   "metadata": {},
   "source": [
    "### 99 will mean successful transaction"
   ]
  },
  {
   "cell_type": "code",
   "execution_count": 10,
   "metadata": {},
   "outputs": [],
   "source": [
    "transactions_full.loc[transactions_full['FAILURE_CODE'].isna(),['FAILURE_CODE']] = 99"
   ]
  },
  {
   "cell_type": "markdown",
   "metadata": {},
   "source": [
    "### The corresponding columns will have non failure"
   ]
  },
  {
   "cell_type": "code",
   "execution_count": 11,
   "metadata": {},
   "outputs": [],
   "source": [
    "transactions_full.loc[transactions_full['FAILURE_REASON'].isna(),['FAILURE_REASON']] = 'Non Failure'"
   ]
  },
  {
   "cell_type": "code",
   "execution_count": 12,
   "metadata": {},
   "outputs": [
    {
     "data": {
      "text/plain": [
       "TX_TS                                    0\n",
       "CUSTOMER_ID                              0\n",
       "TERMINAL_ID                              0\n",
       "TX_AMOUNT                                0\n",
       "TX_FRAUD                                 0\n",
       "TRANSACTION_GOODS_AND_SERVICES_AMOUNT    0\n",
       "TRANSACTION_CASHBACK_AMOUNT              0\n",
       "CARD_BRAND                               0\n",
       "TRANSACTION_TYPE                         0\n",
       "TRANSACTION_STATUS                       0\n",
       "FAILURE_CODE                             0\n",
       "FAILURE_REASON                           0\n",
       "TRANSACTION_CURRENCY                     0\n",
       "CARD_COUNTRY_CODE                        0\n",
       "MERCHANT_ID                              0\n",
       "IS_RECURRING_TRANSACTION                 0\n",
       "ACQUIRER_ID                              1\n",
       "CARDHOLDER_AUTH_METHOD                   1\n",
       "BUSINESS_TYPE                            0\n",
       "MCC_CODE                                 0\n",
       "TAX_EXCEMPT_INDICATOR                    0\n",
       "OUTLET_TYPE                              0\n",
       "ANNUAL_TURNOVER_CARD                     0\n",
       "ANNUAL_TURNOVER                          0\n",
       "AVERAGE_TICKET_SALE_AMOUNT               0\n",
       "PAYMENT_PERCENTAGE_FACE_TO_FACE          0\n",
       "PAYMENT_PERCENTAGE_ECOM                  0\n",
       "PAYMENT_PERCENTAGE_MOTO                  0\n",
       "DEPOSIT_REQUIRED_PERCENTAGE              0\n",
       "DEPOSIT_PERCENTAGE                       0\n",
       "DELIVERY_SAME_DAYS_PERCENTAGE            0\n",
       "DELIVERY_WEEK_ONE_PERCENTAGE             0\n",
       "DELIVERY_WEEK_TWO_PERCENTAGE             0\n",
       "DELIVERY_OVER_TWO_WEEKS_PERCENTAGE       0\n",
       "dtype: int64"
      ]
     },
     "execution_count": 12,
     "metadata": {},
     "output_type": "execute_result"
    }
   ],
   "source": [
    "transactions_full.isna().sum()"
   ]
  },
  {
   "cell_type": "markdown",
   "metadata": {},
   "source": [
    "### Dropping these rows with missing values as there are only 2"
   ]
  },
  {
   "cell_type": "code",
   "execution_count": 13,
   "metadata": {},
   "outputs": [],
   "source": [
    "transactions_full.dropna(subset=['ACQUIRER_ID','CARDHOLDER_AUTH_METHOD'], inplace=True)"
   ]
  },
  {
   "cell_type": "code",
   "execution_count": 14,
   "metadata": {},
   "outputs": [
    {
     "data": {
      "text/plain": [
       "TX_TS                                    0\n",
       "CUSTOMER_ID                              0\n",
       "TERMINAL_ID                              0\n",
       "TX_AMOUNT                                0\n",
       "TX_FRAUD                                 0\n",
       "TRANSACTION_GOODS_AND_SERVICES_AMOUNT    0\n",
       "TRANSACTION_CASHBACK_AMOUNT              0\n",
       "CARD_BRAND                               0\n",
       "TRANSACTION_TYPE                         0\n",
       "TRANSACTION_STATUS                       0\n",
       "FAILURE_CODE                             0\n",
       "FAILURE_REASON                           0\n",
       "TRANSACTION_CURRENCY                     0\n",
       "CARD_COUNTRY_CODE                        0\n",
       "MERCHANT_ID                              0\n",
       "IS_RECURRING_TRANSACTION                 0\n",
       "ACQUIRER_ID                              0\n",
       "CARDHOLDER_AUTH_METHOD                   0\n",
       "BUSINESS_TYPE                            0\n",
       "MCC_CODE                                 0\n",
       "TAX_EXCEMPT_INDICATOR                    0\n",
       "OUTLET_TYPE                              0\n",
       "ANNUAL_TURNOVER_CARD                     0\n",
       "ANNUAL_TURNOVER                          0\n",
       "AVERAGE_TICKET_SALE_AMOUNT               0\n",
       "PAYMENT_PERCENTAGE_FACE_TO_FACE          0\n",
       "PAYMENT_PERCENTAGE_ECOM                  0\n",
       "PAYMENT_PERCENTAGE_MOTO                  0\n",
       "DEPOSIT_REQUIRED_PERCENTAGE              0\n",
       "DEPOSIT_PERCENTAGE                       0\n",
       "DELIVERY_SAME_DAYS_PERCENTAGE            0\n",
       "DELIVERY_WEEK_ONE_PERCENTAGE             0\n",
       "DELIVERY_WEEK_TWO_PERCENTAGE             0\n",
       "DELIVERY_OVER_TWO_WEEKS_PERCENTAGE       0\n",
       "dtype: int64"
      ]
     },
     "execution_count": 14,
     "metadata": {},
     "output_type": "execute_result"
    }
   ],
   "source": [
    "transactions_full.isna().sum()"
   ]
  },
  {
   "cell_type": "markdown",
   "metadata": {},
   "source": [
    "## Missing values dealt with"
   ]
  },
  {
   "cell_type": "markdown",
   "metadata": {},
   "source": [
    "## Feature Engineering"
   ]
  },
  {
   "cell_type": "code",
   "execution_count": 15,
   "metadata": {},
   "outputs": [],
   "source": [
    "transactions_full['ANNUAL_TURNOVER_CASH'] = transactions_full['ANNUAL_TURNOVER'] - transactions_full['ANNUAL_TURNOVER_CARD']"
   ]
  },
  {
   "cell_type": "markdown",
   "metadata": {},
   "source": [
    "#### Binning the time values"
   ]
  },
  {
   "cell_type": "code",
   "execution_count": 16,
   "metadata": {},
   "outputs": [
    {
     "data": {
      "text/plain": [
       "Timestamp('2021-05-23 22:39:49+0000', tz='UTC')"
      ]
     },
     "execution_count": 16,
     "metadata": {},
     "output_type": "execute_result"
    }
   ],
   "source": [
    "transactions_full.iloc[1].TX_TS"
   ]
  },
  {
   "cell_type": "code",
   "execution_count": 17,
   "metadata": {},
   "outputs": [],
   "source": [
    "bins = [0, 6, 12, 18, 24]\n",
    "labels = ['00:00-05:59', '06:00-11:59', '12:00-17:59', '18:00-23:59']\n",
    "transactions_full['Time_of_day'] = pd.cut(transactions_full.TX_TS.dt.hour, bins, labels=labels, right=False)"
   ]
  },
  {
   "cell_type": "code",
   "execution_count": 18,
   "metadata": {},
   "outputs": [],
   "source": [
    "bins = np.arange(12)\n",
    "transactions_full['Month'] = transactions_full['TX_TS'].apply(lambda x: x.month)"
   ]
  },
  {
   "cell_type": "code",
   "execution_count": 19,
   "metadata": {},
   "outputs": [],
   "source": [
    "transactions_full['Day_of_week'] = transactions_full['TX_TS'].apply(lambda x: x.weekday())"
   ]
  },
  {
   "cell_type": "code",
   "execution_count": 20,
   "metadata": {},
   "outputs": [],
   "source": [
    "transactions_full.drop(['TX_TS'],axis=1,inplace=True)"
   ]
  },
  {
   "cell_type": "markdown",
   "metadata": {},
   "source": [
    "## Creating a pipeline to deal with categorical data"
   ]
  },
  {
   "cell_type": "markdown",
   "metadata": {},
   "source": [
    "#### IS_RECURRING_TRANSACTION has this weird behaviour I needed to fix"
   ]
  },
  {
   "cell_type": "code",
   "execution_count": 21,
   "metadata": {},
   "outputs": [
    {
     "data": {
      "text/plain": [
       "False    948492\n",
       "True     100084\n",
       "False     16117\n",
       "True       1746\n",
       "Name: IS_RECURRING_TRANSACTION, dtype: int64"
      ]
     },
     "execution_count": 21,
     "metadata": {},
     "output_type": "execute_result"
    }
   ],
   "source": [
    "transactions_full['IS_RECURRING_TRANSACTION'].value_counts()"
   ]
  },
  {
   "cell_type": "code",
   "execution_count": 22,
   "metadata": {},
   "outputs": [],
   "source": [
    "transactions_full.loc[transactions_full['IS_RECURRING_TRANSACTION'] == 'True',['IS_RECURRING_TRANSACTION']] = 1\n",
    "transactions_full.loc[transactions_full['IS_RECURRING_TRANSACTION'] == True,['IS_RECURRING_TRANSACTION']] = 1\n",
    "transactions_full.loc[transactions_full['IS_RECURRING_TRANSACTION'] == 'False',['IS_RECURRING_TRANSACTION']] = 0\n",
    "transactions_full.loc[transactions_full['IS_RECURRING_TRANSACTION'] == False,['IS_RECURRING_TRANSACTION']] = 0\n",
    "\n",
    "transactions_full['IS_RECURRING_TRANSACTION'] = transactions_full['IS_RECURRING_TRANSACTION'].apply(pd.to_numeric)"
   ]
  },
  {
   "cell_type": "code",
   "execution_count": 23,
   "metadata": {},
   "outputs": [
    {
     "data": {
      "text/plain": [
       "CUSTOMER_ID                                 int64\n",
       "TERMINAL_ID                                 int64\n",
       "TX_AMOUNT                                 float64\n",
       "TX_FRAUD                                    int64\n",
       "TRANSACTION_GOODS_AND_SERVICES_AMOUNT     float64\n",
       "TRANSACTION_CASHBACK_AMOUNT               float64\n",
       "CARD_BRAND                                 object\n",
       "TRANSACTION_TYPE                           object\n",
       "TRANSACTION_STATUS                         object\n",
       "FAILURE_CODE                               object\n",
       "FAILURE_REASON                             object\n",
       "TRANSACTION_CURRENCY                       object\n",
       "CARD_COUNTRY_CODE                          object\n",
       "MERCHANT_ID                                object\n",
       "IS_RECURRING_TRANSACTION                    int64\n",
       "ACQUIRER_ID                                object\n",
       "CARDHOLDER_AUTH_METHOD                     object\n",
       "BUSINESS_TYPE                              object\n",
       "MCC_CODE                                    int64\n",
       "TAX_EXCEMPT_INDICATOR                        bool\n",
       "OUTLET_TYPE                                object\n",
       "ANNUAL_TURNOVER_CARD                        int64\n",
       "ANNUAL_TURNOVER                             int64\n",
       "AVERAGE_TICKET_SALE_AMOUNT                  int64\n",
       "PAYMENT_PERCENTAGE_FACE_TO_FACE             int64\n",
       "PAYMENT_PERCENTAGE_ECOM                     int64\n",
       "PAYMENT_PERCENTAGE_MOTO                     int64\n",
       "DEPOSIT_REQUIRED_PERCENTAGE                 int64\n",
       "DEPOSIT_PERCENTAGE                          int64\n",
       "DELIVERY_SAME_DAYS_PERCENTAGE               int64\n",
       "DELIVERY_WEEK_ONE_PERCENTAGE                int64\n",
       "DELIVERY_WEEK_TWO_PERCENTAGE                int64\n",
       "DELIVERY_OVER_TWO_WEEKS_PERCENTAGE          int64\n",
       "ANNUAL_TURNOVER_CASH                        int64\n",
       "Time_of_day                              category\n",
       "Month                                       int64\n",
       "Day_of_week                                 int64\n",
       "dtype: object"
      ]
     },
     "execution_count": 23,
     "metadata": {},
     "output_type": "execute_result"
    }
   ],
   "source": [
    "transactions_full.dtypes"
   ]
  },
  {
   "cell_type": "code",
   "execution_count": 24,
   "metadata": {},
   "outputs": [
    {
     "data": {
      "text/plain": [
       "[CUSTOMER_ID                              False\n",
       " TERMINAL_ID                              False\n",
       " TX_AMOUNT                                False\n",
       " TX_FRAUD                                 False\n",
       " TRANSACTION_GOODS_AND_SERVICES_AMOUNT    False\n",
       " TRANSACTION_CASHBACK_AMOUNT              False\n",
       " CARD_BRAND                                True\n",
       " TRANSACTION_TYPE                          True\n",
       " TRANSACTION_STATUS                        True\n",
       " FAILURE_CODE                              True\n",
       " FAILURE_REASON                            True\n",
       " TRANSACTION_CURRENCY                      True\n",
       " CARD_COUNTRY_CODE                         True\n",
       " MERCHANT_ID                               True\n",
       " IS_RECURRING_TRANSACTION                 False\n",
       " ACQUIRER_ID                               True\n",
       " CARDHOLDER_AUTH_METHOD                    True\n",
       " BUSINESS_TYPE                             True\n",
       " MCC_CODE                                 False\n",
       " TAX_EXCEMPT_INDICATOR                    False\n",
       " OUTLET_TYPE                               True\n",
       " ANNUAL_TURNOVER_CARD                     False\n",
       " ANNUAL_TURNOVER                          False\n",
       " AVERAGE_TICKET_SALE_AMOUNT               False\n",
       " PAYMENT_PERCENTAGE_FACE_TO_FACE          False\n",
       " PAYMENT_PERCENTAGE_ECOM                  False\n",
       " PAYMENT_PERCENTAGE_MOTO                  False\n",
       " DEPOSIT_REQUIRED_PERCENTAGE              False\n",
       " DEPOSIT_PERCENTAGE                       False\n",
       " DELIVERY_SAME_DAYS_PERCENTAGE            False\n",
       " DELIVERY_WEEK_ONE_PERCENTAGE             False\n",
       " DELIVERY_WEEK_TWO_PERCENTAGE             False\n",
       " DELIVERY_OVER_TWO_WEEKS_PERCENTAGE       False\n",
       " ANNUAL_TURNOVER_CASH                     False\n",
       " Time_of_day                              False\n",
       " Month                                    False\n",
       " Day_of_week                              False\n",
       " dtype: bool]"
      ]
     },
     "execution_count": 24,
     "metadata": {},
     "output_type": "execute_result"
    }
   ],
   "source": [
    "[transactions_full.dtypes == 'object']"
   ]
  },
  {
   "cell_type": "code",
   "execution_count": 25,
   "metadata": {},
   "outputs": [],
   "source": [
    "one_hot_encoded_col = ['CARD_BRAND','TRANSACTION_TYPE','TRANSACTION_STATUS','FAILURE_CODE','FAILURE_REASON','TRANSACTION_CURRENCY','CARD_COUNTRY_CODE','ACQUIRER_ID','CARDHOLDER_AUTH_METHOD','BUSINESS_TYPE','OUTLET_TYPE','Time_of_day']\n",
    "transactions_full = pd.get_dummies(transactions_full, columns = one_hot_encoded_col)"
   ]
  },
  {
   "cell_type": "code",
   "execution_count": 26,
   "metadata": {},
   "outputs": [
    {
     "name": "stderr",
     "output_type": "stream",
     "text": [
      "c:\\Users\\joshu\\AppData\\Local\\Programs\\Python\\Python39\\lib\\site-packages\\pandas\\core\\indexes\\base.py:5055: FutureWarning: Using a non-tuple sequence for multidimensional indexing is deprecated; use `arr[tuple(seq)]` instead of `arr[seq]`. In the future this will be interpreted as an array index, `arr[np.array(seq)]`, which will result either in an error or a different result.\n",
      "  result = getitem(key)\n"
     ]
    },
    {
     "data": {
      "text/plain": [
       "Index(['MERCHANT_ID'], dtype='object')"
      ]
     },
     "execution_count": 26,
     "metadata": {},
     "output_type": "execute_result"
    }
   ],
   "source": [
    "transactions_full.columns[[transactions_full.dtypes == 'object']]"
   ]
  },
  {
   "cell_type": "code",
   "execution_count": 27,
   "metadata": {},
   "outputs": [],
   "source": [
    "ordinal_encoder = OrdinalEncoder()\n",
    "transactions_full['MERCHANT_ID'] = ordinal_encoder.fit_transform(transactions_full['MERCHANT_ID'].to_numpy().reshape(-1, 1))"
   ]
  },
  {
   "cell_type": "code",
   "execution_count": 28,
   "metadata": {},
   "outputs": [
    {
     "data": {
      "text/html": [
       "<div>\n",
       "<style scoped>\n",
       "    .dataframe tbody tr th:only-of-type {\n",
       "        vertical-align: middle;\n",
       "    }\n",
       "\n",
       "    .dataframe tbody tr th {\n",
       "        vertical-align: top;\n",
       "    }\n",
       "\n",
       "    .dataframe thead th {\n",
       "        text-align: right;\n",
       "    }\n",
       "</style>\n",
       "<table border=\"1\" class=\"dataframe\">\n",
       "  <thead>\n",
       "    <tr style=\"text-align: right;\">\n",
       "      <th></th>\n",
       "      <th>CUSTOMER_ID</th>\n",
       "      <th>TERMINAL_ID</th>\n",
       "      <th>TX_AMOUNT</th>\n",
       "      <th>TX_FRAUD</th>\n",
       "      <th>TRANSACTION_GOODS_AND_SERVICES_AMOUNT</th>\n",
       "      <th>TRANSACTION_CASHBACK_AMOUNT</th>\n",
       "      <th>MERCHANT_ID</th>\n",
       "      <th>IS_RECURRING_TRANSACTION</th>\n",
       "      <th>MCC_CODE</th>\n",
       "      <th>TAX_EXCEMPT_INDICATOR</th>\n",
       "      <th>...</th>\n",
       "      <th>BUSINESS_TYPE_Limited Liability Company (LLC)</th>\n",
       "      <th>BUSINESS_TYPE_S Corporations</th>\n",
       "      <th>BUSINESS_TYPE_Sole Proprietorships</th>\n",
       "      <th>OUTLET_TYPE_Ecommerce</th>\n",
       "      <th>OUTLET_TYPE_Face to Face</th>\n",
       "      <th>OUTLET_TYPE_Face to Face and Ecommerce</th>\n",
       "      <th>Time_of_day_00:00-05:59</th>\n",
       "      <th>Time_of_day_06:00-11:59</th>\n",
       "      <th>Time_of_day_12:00-17:59</th>\n",
       "      <th>Time_of_day_18:00-23:59</th>\n",
       "    </tr>\n",
       "  </thead>\n",
       "  <tbody>\n",
       "    <tr>\n",
       "      <th>0</th>\n",
       "      <td>7323088226725338</td>\n",
       "      <td>55875360</td>\n",
       "      <td>0.00</td>\n",
       "      <td>0</td>\n",
       "      <td>0.00</td>\n",
       "      <td>0.0</td>\n",
       "      <td>2294.0</td>\n",
       "      <td>0</td>\n",
       "      <td>6533</td>\n",
       "      <td>False</td>\n",
       "      <td>...</td>\n",
       "      <td>0</td>\n",
       "      <td>0</td>\n",
       "      <td>1</td>\n",
       "      <td>0</td>\n",
       "      <td>1</td>\n",
       "      <td>0</td>\n",
       "      <td>0</td>\n",
       "      <td>0</td>\n",
       "      <td>1</td>\n",
       "      <td>0</td>\n",
       "    </tr>\n",
       "    <tr>\n",
       "      <th>1</th>\n",
       "      <td>4262297761961723</td>\n",
       "      <td>15873857</td>\n",
       "      <td>21.80</td>\n",
       "      <td>0</td>\n",
       "      <td>21.80</td>\n",
       "      <td>0.0</td>\n",
       "      <td>2294.0</td>\n",
       "      <td>0</td>\n",
       "      <td>6533</td>\n",
       "      <td>False</td>\n",
       "      <td>...</td>\n",
       "      <td>0</td>\n",
       "      <td>0</td>\n",
       "      <td>1</td>\n",
       "      <td>0</td>\n",
       "      <td>1</td>\n",
       "      <td>0</td>\n",
       "      <td>0</td>\n",
       "      <td>0</td>\n",
       "      <td>0</td>\n",
       "      <td>1</td>\n",
       "    </tr>\n",
       "    <tr>\n",
       "      <th>2</th>\n",
       "      <td>714771602509423</td>\n",
       "      <td>85599276</td>\n",
       "      <td>37.85</td>\n",
       "      <td>0</td>\n",
       "      <td>37.85</td>\n",
       "      <td>0.0</td>\n",
       "      <td>2294.0</td>\n",
       "      <td>0</td>\n",
       "      <td>6533</td>\n",
       "      <td>False</td>\n",
       "      <td>...</td>\n",
       "      <td>0</td>\n",
       "      <td>0</td>\n",
       "      <td>1</td>\n",
       "      <td>0</td>\n",
       "      <td>1</td>\n",
       "      <td>0</td>\n",
       "      <td>0</td>\n",
       "      <td>0</td>\n",
       "      <td>0</td>\n",
       "      <td>1</td>\n",
       "    </tr>\n",
       "    <tr>\n",
       "      <th>3</th>\n",
       "      <td>9867755465717758</td>\n",
       "      <td>92968204</td>\n",
       "      <td>6.90</td>\n",
       "      <td>0</td>\n",
       "      <td>6.90</td>\n",
       "      <td>0.0</td>\n",
       "      <td>2294.0</td>\n",
       "      <td>0</td>\n",
       "      <td>6533</td>\n",
       "      <td>False</td>\n",
       "      <td>...</td>\n",
       "      <td>0</td>\n",
       "      <td>0</td>\n",
       "      <td>1</td>\n",
       "      <td>0</td>\n",
       "      <td>1</td>\n",
       "      <td>0</td>\n",
       "      <td>0</td>\n",
       "      <td>0</td>\n",
       "      <td>0</td>\n",
       "      <td>1</td>\n",
       "    </tr>\n",
       "    <tr>\n",
       "      <th>4</th>\n",
       "      <td>3987679533084498</td>\n",
       "      <td>78424763</td>\n",
       "      <td>57.25</td>\n",
       "      <td>0</td>\n",
       "      <td>57.25</td>\n",
       "      <td>0.0</td>\n",
       "      <td>2294.0</td>\n",
       "      <td>0</td>\n",
       "      <td>6533</td>\n",
       "      <td>False</td>\n",
       "      <td>...</td>\n",
       "      <td>0</td>\n",
       "      <td>0</td>\n",
       "      <td>1</td>\n",
       "      <td>0</td>\n",
       "      <td>1</td>\n",
       "      <td>0</td>\n",
       "      <td>0</td>\n",
       "      <td>0</td>\n",
       "      <td>0</td>\n",
       "      <td>1</td>\n",
       "    </tr>\n",
       "  </tbody>\n",
       "</table>\n",
       "<p>5 rows × 124 columns</p>\n",
       "</div>"
      ],
      "text/plain": [
       "        CUSTOMER_ID  TERMINAL_ID  TX_AMOUNT  TX_FRAUD  \\\n",
       "0  7323088226725338     55875360       0.00         0   \n",
       "1  4262297761961723     15873857      21.80         0   \n",
       "2   714771602509423     85599276      37.85         0   \n",
       "3  9867755465717758     92968204       6.90         0   \n",
       "4  3987679533084498     78424763      57.25         0   \n",
       "\n",
       "   TRANSACTION_GOODS_AND_SERVICES_AMOUNT  TRANSACTION_CASHBACK_AMOUNT  \\\n",
       "0                                   0.00                          0.0   \n",
       "1                                  21.80                          0.0   \n",
       "2                                  37.85                          0.0   \n",
       "3                                   6.90                          0.0   \n",
       "4                                  57.25                          0.0   \n",
       "\n",
       "   MERCHANT_ID  IS_RECURRING_TRANSACTION  MCC_CODE  TAX_EXCEMPT_INDICATOR  \\\n",
       "0       2294.0                         0      6533                  False   \n",
       "1       2294.0                         0      6533                  False   \n",
       "2       2294.0                         0      6533                  False   \n",
       "3       2294.0                         0      6533                  False   \n",
       "4       2294.0                         0      6533                  False   \n",
       "\n",
       "   ...  BUSINESS_TYPE_Limited Liability Company (LLC)  \\\n",
       "0  ...                                              0   \n",
       "1  ...                                              0   \n",
       "2  ...                                              0   \n",
       "3  ...                                              0   \n",
       "4  ...                                              0   \n",
       "\n",
       "   BUSINESS_TYPE_S Corporations  BUSINESS_TYPE_Sole Proprietorships  \\\n",
       "0                             0                                   1   \n",
       "1                             0                                   1   \n",
       "2                             0                                   1   \n",
       "3                             0                                   1   \n",
       "4                             0                                   1   \n",
       "\n",
       "   OUTLET_TYPE_Ecommerce  OUTLET_TYPE_Face to Face  \\\n",
       "0                      0                         1   \n",
       "1                      0                         1   \n",
       "2                      0                         1   \n",
       "3                      0                         1   \n",
       "4                      0                         1   \n",
       "\n",
       "   OUTLET_TYPE_Face to Face and Ecommerce  Time_of_day_00:00-05:59  \\\n",
       "0                                       0                        0   \n",
       "1                                       0                        0   \n",
       "2                                       0                        0   \n",
       "3                                       0                        0   \n",
       "4                                       0                        0   \n",
       "\n",
       "   Time_of_day_06:00-11:59  Time_of_day_12:00-17:59  Time_of_day_18:00-23:59  \n",
       "0                        0                        1                        0  \n",
       "1                        0                        0                        1  \n",
       "2                        0                        0                        1  \n",
       "3                        0                        0                        1  \n",
       "4                        0                        0                        1  \n",
       "\n",
       "[5 rows x 124 columns]"
      ]
     },
     "execution_count": 28,
     "metadata": {},
     "output_type": "execute_result"
    }
   ],
   "source": [
    "transactions_full.head()"
   ]
  },
  {
   "cell_type": "code",
   "execution_count": 29,
   "metadata": {},
   "outputs": [
    {
     "data": {
      "text/plain": [
       "CUSTOMER_ID                               1066439\n",
       "TERMINAL_ID                               1066439\n",
       "TX_AMOUNT                                 1066439\n",
       "TX_FRAUD                                  1066439\n",
       "TRANSACTION_GOODS_AND_SERVICES_AMOUNT     1066439\n",
       "                                           ...   \n",
       "OUTLET_TYPE_Face to Face and Ecommerce    1066439\n",
       "Time_of_day_00:00-05:59                   1066439\n",
       "Time_of_day_06:00-11:59                   1066439\n",
       "Time_of_day_12:00-17:59                   1066439\n",
       "Time_of_day_18:00-23:59                   1066439\n",
       "Length: 124, dtype: int64"
      ]
     },
     "execution_count": 29,
     "metadata": {},
     "output_type": "execute_result"
    }
   ],
   "source": [
    "transactions_full.count()"
   ]
  },
  {
   "cell_type": "code",
   "execution_count": 32,
   "metadata": {},
   "outputs": [
    {
     "name": "stdout",
     "output_type": "stream",
     "text": [
      "CUSTOMER_ID                                 int64\n",
      "TERMINAL_ID                                 int64\n",
      "TX_AMOUNT                                 float64\n",
      "TX_FRAUD                                    int64\n",
      "TRANSACTION_GOODS_AND_SERVICES_AMOUNT     float64\n",
      "                                           ...   \n",
      "OUTLET_TYPE_Face to Face and Ecommerce      uint8\n",
      "Time_of_day_00:00-05:59                     uint8\n",
      "Time_of_day_06:00-11:59                     uint8\n",
      "Time_of_day_12:00-17:59                     uint8\n",
      "Time_of_day_18:00-23:59                     uint8\n",
      "Length: 124, dtype: object\n"
     ]
    }
   ],
   "source": [
    "print(transactions_full.dtypes)"
   ]
  },
  {
   "cell_type": "code",
   "execution_count": null,
   "metadata": {},
   "outputs": [],
   "source": []
  },
  {
   "cell_type": "code",
   "execution_count": 30,
   "metadata": {},
   "outputs": [],
   "source": [
    "# Divide data into training and validation subsets\n",
    "y = transactions_full['TX_FRAUD']\n",
    "X = transactions_full.drop(['TX_FRAUD'],axis = 1)\n",
    "X_train_full, X_valid_full, y_train, y_valid = train_test_split(X, y, train_size=0.7, test_size=0.3,random_state=42)"
   ]
  },
  {
   "cell_type": "code",
   "execution_count": 31,
   "metadata": {},
   "outputs": [],
   "source": [
    "X_train_full.to_csv('./data/X_train_full.csv',index=False)\n",
    "X_valid_full.to_csv('./data/X_valid_full.csv',index=False)\n",
    "y_train.to_csv('./data/y_train.csv',index=False)\n",
    "y_valid.to_csv('./data/y_valid.csv',index=False)"
   ]
  }
 ],
 "metadata": {
  "kernelspec": {
   "display_name": "Python 3",
   "language": "python",
   "name": "python3"
  },
  "language_info": {
   "codemirror_mode": {
    "name": "ipython",
    "version": 3
   },
   "file_extension": ".py",
   "mimetype": "text/x-python",
   "name": "python",
   "nbconvert_exporter": "python",
   "pygments_lexer": "ipython3",
   "version": "3.9.4"
  }
 },
 "nbformat": 4,
 "nbformat_minor": 2
}
