{
 "cells": [
  {
   "cell_type": "code",
   "execution_count": 1,
   "metadata": {},
   "outputs": [],
   "source": [
    "import numpy as np\n",
    "import pandas as pd\n",
    "import seaborn as sns\n",
    "import matplotlib.pyplot as plt\n",
    "from sklearn.compose import ColumnTransformer\n",
    "from sklearn.pipeline import Pipeline\n",
    "from sklearn.impute import SimpleImputer\n",
    "from sklearn.preprocessing import OneHotEncoder\n",
    "from dateutil.parser import parse\n",
    "from sklearn.preprocessing import OrdinalEncoder\n",
    "from sklearn.model_selection import train_test_split\n",
    "from sklearn.ensemble import RandomForestRegressor\n",
    "from sklearn.metrics import mean_absolute_error\n",
    "from sklearn.metrics import roc_auc_score\n",
    "from sklearn.decomposition import PCA\n",
    "from sklearn.neural_network import MLPRegressor\n",
    "from imblearn.combine import SMOTEENN\n",
    "from imblearn.over_sampling import ADASYN\n",
    "from collections import Counter\n",
    "from sklearn.preprocessing import MinMaxScaler\n",
    "\n",
    "from tensorflow.keras.layers import Dense, Dropout\n",
    "from tensorflow.keras.models import Sequential, load_model, save_model, Model\n",
    "from tensorflow.keras.losses import BinaryCrossentropy\n",
    "from tensorflow.keras.metrics import AUC\n",
    "from tensorflow.keras.optimizers import Adam\n",
    "from tensorflow.keras.callbacks import EarlyStopping\n",
    "import tensorflow as tf\n"
   ]
  },
  {
   "cell_type": "code",
   "execution_count": 2,
   "metadata": {},
   "outputs": [],
   "source": [
    "random_state = 42"
   ]
  },
  {
   "cell_type": "code",
   "execution_count": 3,
   "metadata": {},
   "outputs": [],
   "source": [
    "feature_set =  'feature_set_2_normalised'\n",
    "X_train = pd.read_csv( F'./data/{feature_set}/X_train_full.csv')\n",
    "y_train = pd.read_csv( F'./data/{feature_set}/y_train.csv').values.ravel()\n",
    "\n",
    "X_val = pd.read_csv( F'./data/{feature_set}/X_valid_full.csv')\n",
    "y_val = pd.read_csv( F'./data/{feature_set}/y_valid.csv').values.ravel()"
   ]
  },
  {
   "cell_type": "code",
   "execution_count": 4,
   "metadata": {},
   "outputs": [
    {
     "name": "stdout",
     "output_type": "stream",
     "text": [
      "Before Sampling: Counter({0.0: 727158, 1.0: 19349})\n"
     ]
    }
   ],
   "source": [
    "# # outputing y value before over sampling.\n",
    "counter = Counter(y_train)\n",
    "print(\"Before Sampling: {}\".format(counter))\n",
    "\n",
    "# # Oversample using Adaptive Synthetic (ADASYN) algorithm.\n",
    "# sm = ADASYN()\n",
    "# # esample the dataset.\n",
    "# xtrain_sm, ytrain_sm = sm.fit_resample(X_train, y_train)\n",
    "\n",
    "# # outputing y value after over sampling.\n",
    "# counter = Counter(ytrain_sm)\n",
    "# print(\"After Sampling: {}\".format(counter))"
   ]
  },
  {
   "cell_type": "code",
   "execution_count": 5,
   "metadata": {},
   "outputs": [],
   "source": [
    "pos = Counter(y_train).get(1)\n",
    "neg = Counter(y_train).get(0)\n",
    "total = neg+pos"
   ]
  },
  {
   "cell_type": "code",
   "execution_count": 6,
   "metadata": {},
   "outputs": [
    {
     "name": "stdout",
     "output_type": "stream",
     "text": [
      "Weight for class 0: 0.51\n",
      "Weight for class 1: 19.29\n"
     ]
    }
   ],
   "source": [
    "weight_for_0 = (1 / neg) * (total / 2.0)\n",
    "weight_for_1 = (1 / pos) * (total / 2.0)\n",
    "\n",
    "class_weight = {0: weight_for_0, 1: weight_for_1}\n",
    "\n",
    "print('Weight for class 0: {:.2f}'.format(weight_for_0))\n",
    "print('Weight for class 1: {:.2f}'.format(weight_for_1))"
   ]
  },
  {
   "cell_type": "code",
   "execution_count": 7,
   "metadata": {},
   "outputs": [],
   "source": [
    "tf.random.set_seed(random_state)\n",
    "\n",
    "# building keras model\n",
    "def build_model():\n",
    "    # Sequential groups a linear stack of layers\n",
    "    model = Sequential([\n",
    "        Dense(128, activation=\"relu\", input_shape=(122,)),\n",
    "        Dropout(0.1),\n",
    "        Dense(512, activation=\"relu\"),\n",
    "        Dropout(0.2),\n",
    "        Dense(128, activation=\"relu\"),\n",
    "        Dense(64, activation=\"relu\"),\n",
    "        # Dropout(0.2),\n",
    "        Dense(1, activation=\"sigmoid\")\n",
    "    ])\n",
    "    return model\n",
    "model = build_model()\n",
    "\n",
    "model.compile(\n",
    "    loss=tf.keras.losses.BinaryCrossentropy(),\n",
    "    optimizer=tf.keras.optimizers.Adam(learning_rate=0.001),\n",
    "    metrics=['accuracy', tf.keras.metrics.Precision(),\n",
    "            tf.keras.metrics.Recall()]\n",
    ")"
   ]
  },
  {
   "cell_type": "code",
   "execution_count": 8,
   "metadata": {},
   "outputs": [],
   "source": [
    "# X_train['TX_AMOUNT'] = np.asarray(X_train['TX_AMOUNT']).astype(np.float32)\n",
    "# X_train['TRANSACTION_GOODS_AND_SERVICES_AMOUNT'] = np.asarray(X_train['TRANSACTION_GOODS_AND_SERVICES_AMOUNT']).astype(np.float32)\n",
    "# X_train['TRANSACTION_CASHBACK_AMOUNT'] = np.asarray(X_train['TRANSACTION_CASHBACK_AMOUNT']).astype(np.float32)\n",
    "# X_train['x_terminal_id'] = np.asarray(X_train['x_terminal_id']).astype(np.float32)\n",
    "# X_train['y_terminal__id'] = np.asarray(X_train['y_terminal__id']).astype(np.float32)\n",
    "# X_train['x_customer_id'] = np.asarray(X_train['x_customer_id']).astype(np.float32)\n",
    "# X_train['y_customer_id'] = np.asarray(X_train['y_customer_id']).astype(np.float32)"
   ]
  },
  {
   "cell_type": "code",
   "execution_count": 9,
   "metadata": {},
   "outputs": [
    {
     "name": "stdout",
     "output_type": "stream",
     "text": [
      "Model: \"sequential\"\n",
      "_________________________________________________________________\n",
      " Layer (type)                Output Shape              Param #   \n",
      "=================================================================\n",
      " dense (Dense)               (None, 128)               15744     \n",
      "                                                                 \n",
      " dropout (Dropout)           (None, 128)               0         \n",
      "                                                                 \n",
      " dense_1 (Dense)             (None, 512)               66048     \n",
      "                                                                 \n",
      " dropout_1 (Dropout)         (None, 512)               0         \n",
      "                                                                 \n",
      " dense_2 (Dense)             (None, 128)               65664     \n",
      "                                                                 \n",
      " dense_3 (Dense)             (None, 64)                8256      \n",
      "                                                                 \n",
      " dense_4 (Dense)             (None, 1)                 65        \n",
      "                                                                 \n",
      "=================================================================\n",
      "Total params: 155777 (608.50 KB)\n",
      "Trainable params: 155777 (608.50 KB)\n",
      "Non-trainable params: 0 (0.00 Byte)\n",
      "_________________________________________________________________\n"
     ]
    }
   ],
   "source": [
    "model.summary()"
   ]
  },
  {
   "cell_type": "code",
   "execution_count": 10,
   "metadata": {},
   "outputs": [
    {
     "name": "stdout",
     "output_type": "stream",
     "text": [
      "Epoch 1/100\n",
      "20996/20996 [==============================] - 63s 3ms/step - loss: 0.1206 - accuracy: 0.9741 - precision: 0.6667 - recall: 0.0033 - val_loss: 0.1168 - val_accuracy: 0.9747 - val_precision: 1.0000 - val_recall: 0.0100\n",
      "Epoch 2/100\n",
      "20996/20996 [==============================] - 62s 3ms/step - loss: 0.1168 - accuracy: 0.9748 - precision: 0.9168 - recall: 0.0322 - val_loss: 0.1146 - val_accuracy: 0.9752 - val_precision: 1.0000 - val_recall: 0.0299\n",
      "Epoch 3/100\n",
      "20996/20996 [==============================] - 63s 3ms/step - loss: 0.1161 - accuracy: 0.9750 - precision: 0.9476 - recall: 0.0373 - val_loss: 0.1150 - val_accuracy: 0.9752 - val_precision: 1.0000 - val_recall: 0.0304\n",
      "Epoch 4/100\n",
      "20996/20996 [==============================] - 62s 3ms/step - loss: 0.1161 - accuracy: 0.9750 - precision: 0.9576 - recall: 0.0388 - val_loss: 0.1137 - val_accuracy: 0.9755 - val_precision: 1.0000 - val_recall: 0.0393\n",
      "Epoch 5/100\n",
      "20996/20996 [==============================] - 62s 3ms/step - loss: 0.1160 - accuracy: 0.9750 - precision: 0.9611 - recall: 0.0397 - val_loss: 0.1134 - val_accuracy: 0.9757 - val_precision: 0.9891 - val_recall: 0.0477\n",
      "Epoch 6/100\n",
      "20996/20996 [==============================] - 64s 3ms/step - loss: 0.1159 - accuracy: 0.9750 - precision: 0.9531 - recall: 0.0408 - val_loss: 0.1142 - val_accuracy: 0.9755 - val_precision: 1.0000 - val_recall: 0.0393\n",
      "Epoch 7/100\n",
      "20996/20996 [==============================] - 63s 3ms/step - loss: 0.1159 - accuracy: 0.9751 - precision: 0.9726 - recall: 0.0407 - val_loss: 0.1141 - val_accuracy: 0.9756 - val_precision: 0.9882 - val_recall: 0.0440\n",
      "Epoch 8/100\n",
      "20996/20996 [==============================] - 65s 3ms/step - loss: 0.1159 - accuracy: 0.9751 - precision: 0.9661 - recall: 0.0409 - val_loss: 0.1155 - val_accuracy: 0.9754 - val_precision: 1.0000 - val_recall: 0.0378\n",
      "Epoch 9/100\n",
      "20996/20996 [==============================] - 67s 3ms/step - loss: 0.1157 - accuracy: 0.9751 - precision: 0.9609 - recall: 0.0423 - val_loss: 0.1146 - val_accuracy: 0.9756 - val_precision: 1.0000 - val_recall: 0.0440\n",
      "Epoch 10/100\n",
      "20996/20996 [==============================] - 60s 3ms/step - loss: 0.1157 - accuracy: 0.9751 - precision: 0.9558 - recall: 0.0422 - val_loss: 0.1163 - val_accuracy: 0.9752 - val_precision: 0.6993 - val_recall: 0.0524\n",
      "Epoch 11/100\n",
      "20996/20996 [==============================] - 59s 3ms/step - loss: 0.1156 - accuracy: 0.9751 - precision: 0.9634 - recall: 0.0422 - val_loss: 0.1169 - val_accuracy: 0.9755 - val_precision: 1.0000 - val_recall: 0.0420\n",
      "Epoch 12/100\n",
      " 7219/20996 [=========>....................] - ETA: 41s - loss: 0.1167 - accuracy: 0.9748 - precision: 0.9686 - recall: 0.0457"
     ]
    }
   ],
   "source": [
    "history = model.fit(\n",
    "    X_train, y_train, epochs=100, verbose=1, validation_split=0.1,\n",
    "    callbacks=[tf.keras.callbacks.EarlyStopping(monitor='val_loss',patience=10,\n",
    "                                               verbose=1, restore_best_weights=True)]\n",
    ")"
   ]
  },
  {
   "cell_type": "code",
   "execution_count": null,
   "metadata": {},
   "outputs": [
    {
     "name": "stdout",
     "output_type": "stream",
     "text": [
      "23329/23329 [==============================] - 27s 1ms/step\n"
     ]
    }
   ],
   "source": [
    "train_pred = model.predict(X_train)"
   ]
  },
  {
   "cell_type": "code",
   "execution_count": null,
   "metadata": {},
   "outputs": [
    {
     "data": {
      "text/plain": [
       "0.6452864137441614"
      ]
     },
     "execution_count": 10,
     "metadata": {},
     "output_type": "execute_result"
    }
   ],
   "source": [
    "roc_auc_score(y_train,train_pred)"
   ]
  },
  {
   "cell_type": "code",
   "execution_count": null,
   "metadata": {},
   "outputs": [
    {
     "name": "stdout",
     "output_type": "stream",
     "text": [
      "9998/9998 [==============================] - 15s 1ms/step\n"
     ]
    },
    {
     "data": {
      "text/plain": [
       "0.5853634204633672"
      ]
     },
     "execution_count": 11,
     "metadata": {},
     "output_type": "execute_result"
    }
   ],
   "source": [
    "roc_auc_score(y_val,model.predict(X_val))"
   ]
  }
 ],
 "metadata": {
  "kernelspec": {
   "display_name": "base",
   "language": "python",
   "name": "python3"
  },
  "language_info": {
   "codemirror_mode": {
    "name": "ipython",
    "version": 3
   },
   "file_extension": ".py",
   "mimetype": "text/x-python",
   "name": "python",
   "nbconvert_exporter": "python",
   "pygments_lexer": "ipython3",
   "version": "3.10.9"
  }
 },
 "nbformat": 4,
 "nbformat_minor": 2
}
