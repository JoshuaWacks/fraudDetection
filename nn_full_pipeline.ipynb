{
 "cells": [
  {
   "cell_type": "code",
   "execution_count": 1,
   "metadata": {},
   "outputs": [],
   "source": [
    "import numpy as np\n",
    "import pandas as pd\n",
    "import seaborn as sns\n",
    "import matplotlib.pyplot as plt\n",
    "from sklearn.compose import ColumnTransformer\n",
    "from sklearn.pipeline import Pipeline\n",
    "from sklearn.impute import SimpleImputer\n",
    "from sklearn.preprocessing import OneHotEncoder\n",
    "from dateutil.parser import parse\n",
    "from sklearn.preprocessing import OrdinalEncoder\n",
    "from sklearn.model_selection import train_test_split\n",
    "from sklearn.ensemble import RandomForestRegressor\n",
    "from sklearn.metrics import mean_absolute_error\n",
    "from sklearn.metrics import roc_auc_score\n",
    "from sklearn.decomposition import PCA\n",
    "from sklearn.neural_network import MLPRegressor\n",
    "from imblearn.combine import SMOTEENN\n",
    "from imblearn.over_sampling import ADASYN\n",
    "from collections import Counter\n",
    "from sklearn.preprocessing import MinMaxScaler\n",
    "\n",
    "from tensorflow.keras.layers import Dense, Dropout\n",
    "from tensorflow.keras.models import Sequential, load_model, save_model, Model\n",
    "from tensorflow.keras.losses import BinaryCrossentropy\n",
    "from tensorflow.keras.metrics import AUC\n",
    "from tensorflow.keras.optimizers import Adam\n",
    "from tensorflow.keras.callbacks import EarlyStopping\n",
    "import tensorflow as tf\n"
   ]
  },
  {
   "cell_type": "code",
   "execution_count": 2,
   "metadata": {},
   "outputs": [],
   "source": [
    "random_state = 42"
   ]
  },
  {
   "cell_type": "code",
   "execution_count": 3,
   "metadata": {},
   "outputs": [],
   "source": [
    "feature_set =  'feature_set_normalised'\n",
    "X_train = pd.read_csv( F'./data/{feature_set}/X_train_full.csv')\n",
    "y_train = pd.read_csv( F'./data/{feature_set}/y_train.csv').values.ravel()\n",
    "\n",
    "X_val = pd.read_csv( F'./data/{feature_set}/X_valid_full.csv')\n",
    "y_val = pd.read_csv( F'./data/{feature_set}/y_valid.csv').values.ravel()"
   ]
  },
  {
   "cell_type": "code",
   "execution_count": 4,
   "metadata": {},
   "outputs": [
    {
     "name": "stdout",
     "output_type": "stream",
     "text": [
      "Before Sampling: Counter({0.0: 727216, 1.0: 19291})\n"
     ]
    }
   ],
   "source": [
    "# # outputing y value before over sampling.\n",
    "counter = Counter(y_train)\n",
    "print(\"Before Sampling: {}\".format(counter))\n",
    "\n",
    "# # Oversample using Adaptive Synthetic (ADASYN) algorithm.\n",
    "# sm = ADASYN()\n",
    "# # esample the dataset.\n",
    "# xtrain_sm, ytrain_sm = sm.fit_resample(X_train, y_train)\n",
    "\n",
    "# # outputing y value after over sampling.\n",
    "# counter = Counter(ytrain_sm)\n",
    "# print(\"After Sampling: {}\".format(counter))"
   ]
  },
  {
   "cell_type": "code",
   "execution_count": 5,
   "metadata": {},
   "outputs": [],
   "source": [
    "pos = Counter(y_train).get(1)\n",
    "neg = Counter(y_train).get(0)\n",
    "total = neg+pos"
   ]
  },
  {
   "cell_type": "code",
   "execution_count": 6,
   "metadata": {},
   "outputs": [
    {
     "name": "stdout",
     "output_type": "stream",
     "text": [
      "Weight for class 0: 0.51\n",
      "Weight for class 1: 19.35\n"
     ]
    }
   ],
   "source": [
    "weight_for_0 = (1 / neg) * (total / 2.0)\n",
    "weight_for_1 = (1 / pos) * (total / 2.0)\n",
    "\n",
    "class_weight = {0: weight_for_0, 1: weight_for_1}\n",
    "\n",
    "print('Weight for class 0: {:.2f}'.format(weight_for_0))\n",
    "print('Weight for class 1: {:.2f}'.format(weight_for_1))"
   ]
  },
  {
   "cell_type": "code",
   "execution_count": 7,
   "metadata": {},
   "outputs": [],
   "source": [
    "tf.random.set_seed(random_state)\n",
    "\n",
    "# building keras model\n",
    "def build_model():\n",
    "    # Sequential groups a linear stack of layers\n",
    "    model = Sequential([\n",
    "        Dense(32, activation=\"relu\", input_shape=(121,)),\n",
    "        Dropout(0.1),\n",
    "        Dense(64, activation=\"relu\"),\n",
    "        Dropout(0.2),\n",
    "        Dense(256, activation=\"relu\"),\n",
    "        Dropout(0.3),\n",
    "        Dense(128, activation=\"relu\"),\n",
    "        Dropout(0.2),\n",
    "        Dense(1, activation=\"sigmoid\")\n",
    "    ])\n",
    "    return model\n",
    "model = build_model()\n",
    "\n",
    "model.compile(\n",
    "    loss=tf.keras.losses.BinaryCrossentropy(),\n",
    "    optimizer=tf.keras.optimizers.Adam(learning_rate=0.01),\n",
    "    metrics=['accuracy', tf.keras.metrics.Precision(),\n",
    "            tf.keras.metrics.Recall()]\n",
    ")"
   ]
  },
  {
   "cell_type": "code",
   "execution_count": 8,
   "metadata": {},
   "outputs": [
    {
     "name": "stdout",
     "output_type": "stream",
     "text": [
      "Epoch 1/10\n",
      "20996/20996 [==============================] - 63s 3ms/step - loss: 0.6968 - accuracy: 0.4883 - precision: 0.0259 - recall: 0.5126 - val_loss: 0.7255 - val_accuracy: 0.0253 - val_precision: 0.0253 - val_recall: 1.0000\n",
      "Epoch 2/10\n",
      "20996/20996 [==============================] - 63s 3ms/step - loss: 0.6947 - accuracy: 0.4677 - precision: 0.0256 - recall: 0.5286 - val_loss: 0.6761 - val_accuracy: 0.9747 - val_precision: 0.0000e+00 - val_recall: 0.0000e+00\n",
      "Epoch 3/10\n",
      "20996/20996 [==============================] - 63s 3ms/step - loss: 0.6944 - accuracy: 0.4777 - precision: 0.0261 - recall: 0.5274 - val_loss: 0.7341 - val_accuracy: 0.0253 - val_precision: 0.0253 - val_recall: 1.0000\n",
      "Epoch 4/10\n",
      "20996/20996 [==============================] - 63s 3ms/step - loss: 0.6946 - accuracy: 0.4908 - precision: 0.0258 - recall: 0.5073 - val_loss: 0.6997 - val_accuracy: 0.0253 - val_precision: 0.0253 - val_recall: 1.0000\n",
      "Epoch 5/10\n",
      "20996/20996 [==============================] - 64s 3ms/step - loss: 0.6945 - accuracy: 0.4799 - precision: 0.0259 - recall: 0.5209 - val_loss: 0.6954 - val_accuracy: 0.0253 - val_precision: 0.0253 - val_recall: 1.0000\n",
      "Epoch 6/10\n",
      "20996/20996 [==============================] - 63s 3ms/step - loss: 0.6946 - accuracy: 0.4994 - precision: 0.0258 - recall: 0.4993 - val_loss: 0.7348 - val_accuracy: 0.0253 - val_precision: 0.0253 - val_recall: 1.0000\n",
      "Epoch 7/10\n",
      "20996/20996 [==============================] - 63s 3ms/step - loss: 0.6949 - accuracy: 0.4656 - precision: 0.0258 - recall: 0.5343 - val_loss: 0.7234 - val_accuracy: 0.0253 - val_precision: 0.0253 - val_recall: 1.0000\n",
      "Epoch 8/10\n",
      "20996/20996 [==============================] - 63s 3ms/step - loss: 0.6947 - accuracy: 0.4945 - precision: 0.0258 - recall: 0.5047 - val_loss: 0.6862 - val_accuracy: 0.9747 - val_precision: 0.0000e+00 - val_recall: 0.0000e+00\n",
      "Epoch 9/10\n",
      "20996/20996 [==============================] - 62s 3ms/step - loss: 0.6945 - accuracy: 0.5050 - precision: 0.0259 - recall: 0.4941 - val_loss: 0.6922 - val_accuracy: 0.9747 - val_precision: 0.0000e+00 - val_recall: 0.0000e+00\n",
      "Epoch 10/10\n",
      "20996/20996 [==============================] - 63s 3ms/step - loss: 0.6946 - accuracy: 0.5052 - precision: 0.0258 - recall: 0.4918 - val_loss: 0.7377 - val_accuracy: 0.0253 - val_precision: 0.0253 - val_recall: 1.0000\n"
     ]
    }
   ],
   "source": [
    "history = model.fit(\n",
    "    X_train, y_train, epochs=10, verbose=1, validation_split=0.1,class_weight=class_weight,\n",
    "    callbacks=[tf.keras.callbacks.EarlyStopping(monitor='val_loss',patience=10,\n",
    "                                               verbose=1, restore_best_weights=True)]\n",
    ")"
   ]
  },
  {
   "cell_type": "code",
   "execution_count": 10,
   "metadata": {},
   "outputs": [
    {
     "name": "stdout",
     "output_type": "stream",
     "text": [
      "23329/23329 [==============================] - 29s 1ms/step\n"
     ]
    },
    {
     "data": {
      "text/plain": [
       "0.5"
      ]
     },
     "execution_count": 10,
     "metadata": {},
     "output_type": "execute_result"
    }
   ],
   "source": [
    "roc_auc_score(y_train,model.predict(X_train)[:, 0])"
   ]
  },
  {
   "cell_type": "code",
   "execution_count": 11,
   "metadata": {},
   "outputs": [
    {
     "name": "stdout",
     "output_type": "stream",
     "text": [
      "9998/9998 [==============================] - 15s 1ms/step\n"
     ]
    },
    {
     "data": {
      "text/plain": [
       "0.5"
      ]
     },
     "execution_count": 11,
     "metadata": {},
     "output_type": "execute_result"
    }
   ],
   "source": [
    "roc_auc_score(y_val,model.predict(X_val)[:, 0])"
   ]
  },
  {
   "cell_type": "code",
   "execution_count": null,
   "metadata": {},
   "outputs": [
    {
     "name": "stdout",
     "output_type": "stream",
     "text": [
      "9998/9998 [==============================] - 15s 1ms/step - loss: 0.2232 - accuracy: 0.9431 - precision_2: 0.0348 - recall_2: 0.0448\n"
     ]
    },
    {
     "data": {
      "text/plain": [
       "[0.22315308451652527,\n",
       " 0.943131685256958,\n",
       " 0.03479320928454399,\n",
       " 0.044844675809144974]"
      ]
     },
     "execution_count": 18,
     "metadata": {},
     "output_type": "execute_result"
    }
   ],
   "source": [
    "model.evaluate(X_val, y_val, verbose=1)"
   ]
  },
  {
   "cell_type": "code",
   "execution_count": null,
   "metadata": {},
   "outputs": [
    {
     "name": "stdout",
     "output_type": "stream",
     "text": [
      "45610/45610 [==============================] - 71s 2ms/step - loss: 0.1446 - accuracy: 0.9442 - precision_2: 0.9731 - recall_2: 0.9142\n"
     ]
    },
    {
     "data": {
      "text/plain": [
       "[0.14457492530345917,\n",
       " 0.9442444443702698,\n",
       " 0.973075807094574,\n",
       " 0.9141702055931091]"
      ]
     },
     "execution_count": 21,
     "metadata": {},
     "output_type": "execute_result"
    }
   ],
   "source": [
    "model.evaluate(xtrain_sm, ytrain_sm, verbose=1)"
   ]
  },
  {
   "cell_type": "code",
   "execution_count": null,
   "metadata": {},
   "outputs": [
    {
     "ename": "ValueError",
     "evalue": "continuous-multioutput format is not supported",
     "output_type": "error",
     "traceback": [
      "\u001b[1;31m---------------------------------------------------------------------------\u001b[0m",
      "\u001b[1;31mValueError\u001b[0m                                Traceback (most recent call last)",
      "\u001b[1;32mc:\\Users\\joshu\\OneDrive\\Documents\\fraud_detection\\nn_full_pipeline.ipynb Cell 10\u001b[0m line \u001b[0;36m1\n\u001b[1;32m----> <a href='vscode-notebook-cell:/c%3A/Users/joshu/OneDrive/Documents/fraud_detection/nn_full_pipeline.ipynb#X14sZmlsZQ%3D%3D?line=0'>1</a>\u001b[0m roc_auc_score(xtrain_sm,ytrain_sm)\n",
      "File \u001b[1;32mc:\\Users\\joshu\\anaconda3\\lib\\site-packages\\sklearn\\metrics\\_ranking.py:580\u001b[0m, in \u001b[0;36mroc_auc_score\u001b[1;34m(y_true, y_score, average, sample_weight, max_fpr, multi_class, labels)\u001b[0m\n\u001b[0;32m    572\u001b[0m     \u001b[39mreturn\u001b[39;00m _average_binary_score(\n\u001b[0;32m    573\u001b[0m         partial(_binary_roc_auc_score, max_fpr\u001b[39m=\u001b[39mmax_fpr),\n\u001b[0;32m    574\u001b[0m         y_true,\n\u001b[1;32m   (...)\u001b[0m\n\u001b[0;32m    577\u001b[0m         sample_weight\u001b[39m=\u001b[39msample_weight,\n\u001b[0;32m    578\u001b[0m     )\n\u001b[0;32m    579\u001b[0m \u001b[39melse\u001b[39;00m:  \u001b[39m# multilabel-indicator\u001b[39;00m\n\u001b[1;32m--> 580\u001b[0m     \u001b[39mreturn\u001b[39;00m _average_binary_score(\n\u001b[0;32m    581\u001b[0m         partial(_binary_roc_auc_score, max_fpr\u001b[39m=\u001b[39;49mmax_fpr),\n\u001b[0;32m    582\u001b[0m         y_true,\n\u001b[0;32m    583\u001b[0m         y_score,\n\u001b[0;32m    584\u001b[0m         average,\n\u001b[0;32m    585\u001b[0m         sample_weight\u001b[39m=\u001b[39;49msample_weight,\n\u001b[0;32m    586\u001b[0m     )\n",
      "File \u001b[1;32mc:\\Users\\joshu\\anaconda3\\lib\\site-packages\\sklearn\\metrics\\_base.py:72\u001b[0m, in \u001b[0;36m_average_binary_score\u001b[1;34m(binary_metric, y_true, y_score, average, sample_weight)\u001b[0m\n\u001b[0;32m     70\u001b[0m y_type \u001b[39m=\u001b[39m type_of_target(y_true)\n\u001b[0;32m     71\u001b[0m \u001b[39mif\u001b[39;00m y_type \u001b[39mnot\u001b[39;00m \u001b[39min\u001b[39;00m (\u001b[39m\"\u001b[39m\u001b[39mbinary\u001b[39m\u001b[39m\"\u001b[39m, \u001b[39m\"\u001b[39m\u001b[39mmultilabel-indicator\u001b[39m\u001b[39m\"\u001b[39m):\n\u001b[1;32m---> 72\u001b[0m     \u001b[39mraise\u001b[39;00m \u001b[39mValueError\u001b[39;00m(\u001b[39m\"\u001b[39m\u001b[39m{0}\u001b[39;00m\u001b[39m format is not supported\u001b[39m\u001b[39m\"\u001b[39m\u001b[39m.\u001b[39mformat(y_type))\n\u001b[0;32m     74\u001b[0m \u001b[39mif\u001b[39;00m y_type \u001b[39m==\u001b[39m \u001b[39m\"\u001b[39m\u001b[39mbinary\u001b[39m\u001b[39m\"\u001b[39m:\n\u001b[0;32m     75\u001b[0m     \u001b[39mreturn\u001b[39;00m binary_metric(y_true, y_score, sample_weight\u001b[39m=\u001b[39msample_weight)\n",
      "\u001b[1;31mValueError\u001b[0m: continuous-multioutput format is not supported"
     ]
    }
   ],
   "source": [
    "roc_auc_score(xtrain_sm,ytrain_sm)"
   ]
  },
  {
   "cell_type": "code",
   "execution_count": null,
   "metadata": {},
   "outputs": [
    {
     "name": "stdout",
     "output_type": "stream",
     "text": [
      "9998/9998 [==============================] - 13s 1ms/step\n"
     ]
    }
   ],
   "source": [
    "val_pred = model.predict(X_val)"
   ]
  },
  {
   "cell_type": "code",
   "execution_count": null,
   "metadata": {},
   "outputs": [
    {
     "data": {
      "text/plain": [
       "0.5163811079247982"
      ]
     },
     "execution_count": 23,
     "metadata": {},
     "output_type": "execute_result"
    }
   ],
   "source": [
    "roc_auc_score(y_val,val_pred)"
   ]
  },
  {
   "cell_type": "code",
   "execution_count": null,
   "metadata": {},
   "outputs": [
    {
     "name": "stdout",
     "output_type": "stream",
     "text": [
      "45610/45610 [==============================] - 61s 1ms/step\n"
     ]
    },
    {
     "data": {
      "text/plain": [
       "0.9870597612238718"
      ]
     },
     "execution_count": 24,
     "metadata": {},
     "output_type": "execute_result"
    }
   ],
   "source": [
    "roc_auc_score(ytrain_sm,model.predict(xtrain_sm))"
   ]
  }
 ],
 "metadata": {
  "kernelspec": {
   "display_name": "base",
   "language": "python",
   "name": "python3"
  },
  "language_info": {
   "codemirror_mode": {
    "name": "ipython",
    "version": 3
   },
   "file_extension": ".py",
   "mimetype": "text/x-python",
   "name": "python",
   "nbconvert_exporter": "python",
   "pygments_lexer": "ipython3",
   "version": "3.10.9"
  }
 },
 "nbformat": 4,
 "nbformat_minor": 2
}
