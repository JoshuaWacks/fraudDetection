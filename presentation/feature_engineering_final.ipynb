{
 "cells": [
  {
   "cell_type": "code",
   "execution_count": 1,
   "metadata": {},
   "outputs": [],
   "source": [
    "import numpy as np\n",
    "import pandas as pd\n",
    "import seaborn as sns\n",
    "import matplotlib.pyplot as plt\n",
    "from sklearn.compose import ColumnTransformer\n",
    "from sklearn.pipeline import Pipeline\n",
    "from sklearn.impute import SimpleImputer\n",
    "from sklearn.preprocessing import OneHotEncoder\n",
    "from dateutil.parser import parse\n",
    "from sklearn.preprocessing import OrdinalEncoder\n",
    "from sklearn.model_selection import train_test_split\n",
    "from sklearn.compose import ColumnTransformer\n",
    "from sklearn.pipeline import Pipeline\n",
    "from sklearn.impute import SimpleImputer\n",
    "from sklearn.preprocessing import OneHotEncoder\n",
    "from sklearn.preprocessing import MinMaxScaler\n",
    "from sklearn.decomposition import PCA\n",
    "from tqdm import tqdm"
   ]
  },
  {
   "cell_type": "code",
   "execution_count": 5,
   "metadata": {},
   "outputs": [
    {
     "name": "stderr",
     "output_type": "stream",
     "text": [
      "C:\\Users\\joshu\\AppData\\Local\\Temp\\ipykernel_19328\\1163954335.py:2: DtypeWarning: Columns (18) have mixed types. Specify dtype option on import or set low_memory=False.\n",
      "  train_trans =  pd.read_csv('../data/transactions_train.csv', parse_dates=[\"TX_TS\"])\n"
     ]
    }
   ],
   "source": [
    "test_trans = pd.read_csv('../data/transactions_test.csv', parse_dates=[\"TX_TS\"])\n",
    "train_trans =  pd.read_csv('../data/transactions_train.csv', parse_dates=[\"TX_TS\"])\n",
    "merchants_full = pd.read_csv('../data/merchants.csv')\n",
    "\n",
    "terminals_full = pd.read_csv('../data/terminals.csv')\n",
    "\n",
    "customers_full = pd.read_csv('../data/customers.csv')"
   ]
  },
  {
   "cell_type": "code",
   "execution_count": 4,
   "metadata": {},
   "outputs": [],
   "source": [
    "test_trans['is_test'] = 1\n",
    "train_trans['is_test'] = 0"
   ]
  },
  {
   "cell_type": "code",
   "execution_count": 5,
   "metadata": {},
   "outputs": [],
   "source": [
    "all_trans = pd.concat([train_trans,test_trans]).drop(columns=['ID_JOIN'])"
   ]
  },
  {
   "cell_type": "code",
   "execution_count": 6,
   "metadata": {},
   "outputs": [
    {
     "data": {
      "text/plain": [
       "Index(['TX_ID', 'TX_TS', 'CUSTOMER_ID', 'TERMINAL_ID', 'TX_AMOUNT', 'TX_FRAUD',\n",
       "       'TRANSACTION_GOODS_AND_SERVICES_AMOUNT', 'TRANSACTION_CASHBACK_AMOUNT',\n",
       "       'CARD_EXPIRY_DATE', 'CARD_DATA', 'CARD_BRAND', 'TRANSACTION_TYPE',\n",
       "       'TRANSACTION_STATUS', 'FAILURE_CODE', 'FAILURE_REASON',\n",
       "       'TRANSACTION_CURRENCY', 'CARD_COUNTRY_CODE', 'MERCHANT_ID',\n",
       "       'IS_RECURRING_TRANSACTION', 'ACQUIRER_ID', 'CARDHOLDER_AUTH_METHOD',\n",
       "       'is_test'],\n",
       "      dtype='object')"
      ]
     },
     "execution_count": 6,
     "metadata": {},
     "output_type": "execute_result"
    }
   ],
   "source": [
    "all_trans.columns"
   ]
  },
  {
   "cell_type": "code",
   "execution_count": 7,
   "metadata": {},
   "outputs": [
    {
     "data": {
      "text/html": [
       "<div>\n",
       "<style scoped>\n",
       "    .dataframe tbody tr th:only-of-type {\n",
       "        vertical-align: middle;\n",
       "    }\n",
       "\n",
       "    .dataframe tbody tr th {\n",
       "        vertical-align: top;\n",
       "    }\n",
       "\n",
       "    .dataframe thead th {\n",
       "        text-align: right;\n",
       "    }\n",
       "</style>\n",
       "<table border=\"1\" class=\"dataframe\">\n",
       "  <thead>\n",
       "    <tr style=\"text-align: right;\">\n",
       "      <th></th>\n",
       "      <th>TX_ID</th>\n",
       "      <th>TX_TS</th>\n",
       "      <th>CUSTOMER_ID</th>\n",
       "      <th>TERMINAL_ID</th>\n",
       "      <th>TX_AMOUNT</th>\n",
       "      <th>TX_FRAUD</th>\n",
       "      <th>TRANSACTION_GOODS_AND_SERVICES_AMOUNT</th>\n",
       "      <th>TRANSACTION_CASHBACK_AMOUNT</th>\n",
       "      <th>CARD_EXPIRY_DATE</th>\n",
       "      <th>CARD_DATA</th>\n",
       "      <th>...</th>\n",
       "      <th>TRANSACTION_STATUS</th>\n",
       "      <th>FAILURE_CODE</th>\n",
       "      <th>FAILURE_REASON</th>\n",
       "      <th>TRANSACTION_CURRENCY</th>\n",
       "      <th>CARD_COUNTRY_CODE</th>\n",
       "      <th>MERCHANT_ID</th>\n",
       "      <th>IS_RECURRING_TRANSACTION</th>\n",
       "      <th>ACQUIRER_ID</th>\n",
       "      <th>CARDHOLDER_AUTH_METHOD</th>\n",
       "      <th>is_test</th>\n",
       "    </tr>\n",
       "  </thead>\n",
       "  <tbody>\n",
       "    <tr>\n",
       "      <th>829437</th>\n",
       "      <td>a0d7c943b544215745e13ebce08a4b8276168767</td>\n",
       "      <td>2021-01-01 00:00:08+00:00</td>\n",
       "      <td>2108277906068006</td>\n",
       "      <td>27974316</td>\n",
       "      <td>78.98</td>\n",
       "      <td>0.0</td>\n",
       "      <td>78.98</td>\n",
       "      <td>0.0</td>\n",
       "      <td>04/21</td>\n",
       "      <td>4485********975</td>\n",
       "      <td>...</td>\n",
       "      <td>Settled</td>\n",
       "      <td>NaN</td>\n",
       "      <td>NaN</td>\n",
       "      <td>USD</td>\n",
       "      <td>FR</td>\n",
       "      <td>8cfe93a4-97ea-4247-8f15-50430fed3d88</td>\n",
       "      <td>True</td>\n",
       "      <td>ACQ1</td>\n",
       "      <td>Offline enciphered PIN</td>\n",
       "      <td>0</td>\n",
       "    </tr>\n",
       "    <tr>\n",
       "      <th>942865</th>\n",
       "      <td>c06aa650651e1402c16ddf309d61516de22d0331</td>\n",
       "      <td>2021-01-01 00:00:14+00:00</td>\n",
       "      <td>8662651220152351</td>\n",
       "      <td>46261637</td>\n",
       "      <td>46.42</td>\n",
       "      <td>0.0</td>\n",
       "      <td>46.42</td>\n",
       "      <td>0.0</td>\n",
       "      <td>04/21</td>\n",
       "      <td>4485********444</td>\n",
       "      <td>...</td>\n",
       "      <td>Settled</td>\n",
       "      <td>NaN</td>\n",
       "      <td>NaN</td>\n",
       "      <td>GBP</td>\n",
       "      <td>GB</td>\n",
       "      <td>c16a44e8-2e25-439f-ae29-e5e115c8c4e6</td>\n",
       "      <td>False</td>\n",
       "      <td>ACQ4</td>\n",
       "      <td>Signature</td>\n",
       "      <td>0</td>\n",
       "    </tr>\n",
       "    <tr>\n",
       "      <th>390644</th>\n",
       "      <td>09a966ffc5878eb652d3f36496cdb342d7576dd6</td>\n",
       "      <td>2021-01-01 00:00:15+00:00</td>\n",
       "      <td>9508987894574818</td>\n",
       "      <td>21664478</td>\n",
       "      <td>38.84</td>\n",
       "      <td>0.0</td>\n",
       "      <td>38.84</td>\n",
       "      <td>0.0</td>\n",
       "      <td>01/23</td>\n",
       "      <td>4916********672</td>\n",
       "      <td>...</td>\n",
       "      <td>Settled</td>\n",
       "      <td>NaN</td>\n",
       "      <td>NaN</td>\n",
       "      <td>EUR</td>\n",
       "      <td>DK</td>\n",
       "      <td>dbec5dd4-80d5-46df-b72c-0d9f15710e44</td>\n",
       "      <td>False</td>\n",
       "      <td>ACQ4</td>\n",
       "      <td>Signature</td>\n",
       "      <td>0</td>\n",
       "    </tr>\n",
       "    <tr>\n",
       "      <th>160094</th>\n",
       "      <td>5689648bed268990eb90c11fb9a7902f2d1b2cf2</td>\n",
       "      <td>2021-01-01 00:01:08+00:00</td>\n",
       "      <td>3040941832365513</td>\n",
       "      <td>60286185</td>\n",
       "      <td>57.74</td>\n",
       "      <td>0.0</td>\n",
       "      <td>57.74</td>\n",
       "      <td>0.0</td>\n",
       "      <td>07/22</td>\n",
       "      <td>4024********300</td>\n",
       "      <td>...</td>\n",
       "      <td>Settled</td>\n",
       "      <td>NaN</td>\n",
       "      <td>NaN</td>\n",
       "      <td>CHF</td>\n",
       "      <td>US</td>\n",
       "      <td>cf2b9bd5-7abd-42cf-bae6-eb82c14df28f</td>\n",
       "      <td>False</td>\n",
       "      <td>ACQ2</td>\n",
       "      <td>Signature</td>\n",
       "      <td>0</td>\n",
       "    </tr>\n",
       "    <tr>\n",
       "      <th>933901</th>\n",
       "      <td>541d5014993dafacfc25e54defd9c42a1cb580ce</td>\n",
       "      <td>2021-01-01 00:02:00+00:00</td>\n",
       "      <td>3014216432000074</td>\n",
       "      <td>56911243</td>\n",
       "      <td>99.13</td>\n",
       "      <td>0.0</td>\n",
       "      <td>99.13</td>\n",
       "      <td>0.0</td>\n",
       "      <td>03/22</td>\n",
       "      <td>4929********121</td>\n",
       "      <td>...</td>\n",
       "      <td>Settled</td>\n",
       "      <td>NaN</td>\n",
       "      <td>NaN</td>\n",
       "      <td>EUR</td>\n",
       "      <td>FR</td>\n",
       "      <td>fa2baef3-c782-42ce-9260-edb8778d305a</td>\n",
       "      <td>False</td>\n",
       "      <td>ACQ3</td>\n",
       "      <td>Offline enciphered PIN and signature</td>\n",
       "      <td>0</td>\n",
       "    </tr>\n",
       "    <tr>\n",
       "      <th>...</th>\n",
       "      <td>...</td>\n",
       "      <td>...</td>\n",
       "      <td>...</td>\n",
       "      <td>...</td>\n",
       "      <td>...</td>\n",
       "      <td>...</td>\n",
       "      <td>...</td>\n",
       "      <td>...</td>\n",
       "      <td>...</td>\n",
       "      <td>...</td>\n",
       "      <td>...</td>\n",
       "      <td>...</td>\n",
       "      <td>...</td>\n",
       "      <td>...</td>\n",
       "      <td>...</td>\n",
       "      <td>...</td>\n",
       "      <td>...</td>\n",
       "      <td>...</td>\n",
       "      <td>...</td>\n",
       "      <td>...</td>\n",
       "      <td>...</td>\n",
       "    </tr>\n",
       "    <tr>\n",
       "      <th>29505</th>\n",
       "      <td>a2768a7f5787f21f973d445a42fb6354fc4444de</td>\n",
       "      <td>2021-12-07 23:59:49+00:00</td>\n",
       "      <td>8405719292105341</td>\n",
       "      <td>97869051</td>\n",
       "      <td>39.23</td>\n",
       "      <td>NaN</td>\n",
       "      <td>39.23</td>\n",
       "      <td>0.0</td>\n",
       "      <td>01/24</td>\n",
       "      <td>4916********261</td>\n",
       "      <td>...</td>\n",
       "      <td>Authorized</td>\n",
       "      <td>NaN</td>\n",
       "      <td>NaN</td>\n",
       "      <td>USD</td>\n",
       "      <td>US</td>\n",
       "      <td>43e0a0ba-bfae-4c63-83c4-59096298bc18</td>\n",
       "      <td>False</td>\n",
       "      <td>ACQ2</td>\n",
       "      <td>Offline plaintext PIN</td>\n",
       "      <td>1</td>\n",
       "    </tr>\n",
       "    <tr>\n",
       "      <th>46008</th>\n",
       "      <td>da7b5cfaeac2c75a4acd360f3acd9a360996d1ef</td>\n",
       "      <td>2021-12-07 23:59:50+00:00</td>\n",
       "      <td>238210135543937</td>\n",
       "      <td>78810971</td>\n",
       "      <td>94.33</td>\n",
       "      <td>NaN</td>\n",
       "      <td>94.33</td>\n",
       "      <td>0.0</td>\n",
       "      <td>02/23</td>\n",
       "      <td>5344********103</td>\n",
       "      <td>...</td>\n",
       "      <td>Settled</td>\n",
       "      <td>NaN</td>\n",
       "      <td>NaN</td>\n",
       "      <td>USD</td>\n",
       "      <td>FR</td>\n",
       "      <td>667b9826-15c0-4028-a6e5-6442a1f0cb6e</td>\n",
       "      <td>False</td>\n",
       "      <td>ACQ2</td>\n",
       "      <td>Online PIN</td>\n",
       "      <td>1</td>\n",
       "    </tr>\n",
       "    <tr>\n",
       "      <th>59242</th>\n",
       "      <td>8460cb3cdb17c8b6edfc0a463b7d3f2941934494</td>\n",
       "      <td>2021-12-07 23:59:57+00:00</td>\n",
       "      <td>2709822668400952</td>\n",
       "      <td>7490914</td>\n",
       "      <td>18.33</td>\n",
       "      <td>NaN</td>\n",
       "      <td>18.33</td>\n",
       "      <td>0.0</td>\n",
       "      <td>03/23</td>\n",
       "      <td>5337********388</td>\n",
       "      <td>...</td>\n",
       "      <td>Settled</td>\n",
       "      <td>NaN</td>\n",
       "      <td>NaN</td>\n",
       "      <td>USD</td>\n",
       "      <td>US</td>\n",
       "      <td>e61b06ad-6a45-4d95-b63f-2adfe6307992</td>\n",
       "      <td>False</td>\n",
       "      <td>ACQ2</td>\n",
       "      <td>Offline plaintext PIN</td>\n",
       "      <td>1</td>\n",
       "    </tr>\n",
       "    <tr>\n",
       "      <th>617787</th>\n",
       "      <td>8f265a9811bc630b476300ed78a61ae1e33ffc7d</td>\n",
       "      <td>2022-01-01 00:00:31+00:00</td>\n",
       "      <td>4724687086476235</td>\n",
       "      <td>64439061</td>\n",
       "      <td>73.44</td>\n",
       "      <td>1.0</td>\n",
       "      <td>73.44</td>\n",
       "      <td>0.0</td>\n",
       "      <td>10/22</td>\n",
       "      <td>4485********763</td>\n",
       "      <td>...</td>\n",
       "      <td>Settled</td>\n",
       "      <td>NaN</td>\n",
       "      <td>NaN</td>\n",
       "      <td>CHF</td>\n",
       "      <td>US</td>\n",
       "      <td>c7b9d4cc-51d0-43be-9645-7981ccc82f74</td>\n",
       "      <td>False</td>\n",
       "      <td>ACQ3</td>\n",
       "      <td>No CVM performed</td>\n",
       "      <td>0</td>\n",
       "    </tr>\n",
       "    <tr>\n",
       "      <th>469821</th>\n",
       "      <td>71e155dfa573a633b2c779981893074ddd603d75</td>\n",
       "      <td>2022-01-01 00:13:26+00:00</td>\n",
       "      <td>4724687086476235</td>\n",
       "      <td>61384344</td>\n",
       "      <td>47.27</td>\n",
       "      <td>1.0</td>\n",
       "      <td>47.27</td>\n",
       "      <td>0.0</td>\n",
       "      <td>06/22</td>\n",
       "      <td>4929********731</td>\n",
       "      <td>...</td>\n",
       "      <td>Settled</td>\n",
       "      <td>NaN</td>\n",
       "      <td>NaN</td>\n",
       "      <td>EUR</td>\n",
       "      <td>DE</td>\n",
       "      <td>fd56a0ac-2adc-49b4-b450-579af2f64540</td>\n",
       "      <td>False</td>\n",
       "      <td>ACQ1</td>\n",
       "      <td>Signature</td>\n",
       "      <td>0</td>\n",
       "    </tr>\n",
       "  </tbody>\n",
       "</table>\n",
       "<p>1137579 rows × 22 columns</p>\n",
       "</div>"
      ],
      "text/plain": [
       "                                           TX_ID                     TX_TS  \\\n",
       "829437  a0d7c943b544215745e13ebce08a4b8276168767 2021-01-01 00:00:08+00:00   \n",
       "942865  c06aa650651e1402c16ddf309d61516de22d0331 2021-01-01 00:00:14+00:00   \n",
       "390644  09a966ffc5878eb652d3f36496cdb342d7576dd6 2021-01-01 00:00:15+00:00   \n",
       "160094  5689648bed268990eb90c11fb9a7902f2d1b2cf2 2021-01-01 00:01:08+00:00   \n",
       "933901  541d5014993dafacfc25e54defd9c42a1cb580ce 2021-01-01 00:02:00+00:00   \n",
       "...                                          ...                       ...   \n",
       "29505   a2768a7f5787f21f973d445a42fb6354fc4444de 2021-12-07 23:59:49+00:00   \n",
       "46008   da7b5cfaeac2c75a4acd360f3acd9a360996d1ef 2021-12-07 23:59:50+00:00   \n",
       "59242   8460cb3cdb17c8b6edfc0a463b7d3f2941934494 2021-12-07 23:59:57+00:00   \n",
       "617787  8f265a9811bc630b476300ed78a61ae1e33ffc7d 2022-01-01 00:00:31+00:00   \n",
       "469821  71e155dfa573a633b2c779981893074ddd603d75 2022-01-01 00:13:26+00:00   \n",
       "\n",
       "             CUSTOMER_ID  TERMINAL_ID  TX_AMOUNT  TX_FRAUD  \\\n",
       "829437  2108277906068006     27974316      78.98       0.0   \n",
       "942865  8662651220152351     46261637      46.42       0.0   \n",
       "390644  9508987894574818     21664478      38.84       0.0   \n",
       "160094  3040941832365513     60286185      57.74       0.0   \n",
       "933901  3014216432000074     56911243      99.13       0.0   \n",
       "...                  ...          ...        ...       ...   \n",
       "29505   8405719292105341     97869051      39.23       NaN   \n",
       "46008    238210135543937     78810971      94.33       NaN   \n",
       "59242   2709822668400952      7490914      18.33       NaN   \n",
       "617787  4724687086476235     64439061      73.44       1.0   \n",
       "469821  4724687086476235     61384344      47.27       1.0   \n",
       "\n",
       "        TRANSACTION_GOODS_AND_SERVICES_AMOUNT  TRANSACTION_CASHBACK_AMOUNT  \\\n",
       "829437                                  78.98                          0.0   \n",
       "942865                                  46.42                          0.0   \n",
       "390644                                  38.84                          0.0   \n",
       "160094                                  57.74                          0.0   \n",
       "933901                                  99.13                          0.0   \n",
       "...                                       ...                          ...   \n",
       "29505                                   39.23                          0.0   \n",
       "46008                                   94.33                          0.0   \n",
       "59242                                   18.33                          0.0   \n",
       "617787                                  73.44                          0.0   \n",
       "469821                                  47.27                          0.0   \n",
       "\n",
       "       CARD_EXPIRY_DATE        CARD_DATA  ... TRANSACTION_STATUS FAILURE_CODE  \\\n",
       "829437            04/21  4485********975  ...            Settled          NaN   \n",
       "942865            04/21  4485********444  ...            Settled          NaN   \n",
       "390644            01/23  4916********672  ...            Settled          NaN   \n",
       "160094            07/22  4024********300  ...            Settled          NaN   \n",
       "933901            03/22  4929********121  ...            Settled          NaN   \n",
       "...                 ...              ...  ...                ...          ...   \n",
       "29505             01/24  4916********261  ...         Authorized          NaN   \n",
       "46008             02/23  5344********103  ...            Settled          NaN   \n",
       "59242             03/23  5337********388  ...            Settled          NaN   \n",
       "617787            10/22  4485********763  ...            Settled          NaN   \n",
       "469821            06/22  4929********731  ...            Settled          NaN   \n",
       "\n",
       "       FAILURE_REASON TRANSACTION_CURRENCY CARD_COUNTRY_CODE  \\\n",
       "829437            NaN                  USD                FR   \n",
       "942865            NaN                  GBP                GB   \n",
       "390644            NaN                  EUR                DK   \n",
       "160094            NaN                  CHF                US   \n",
       "933901            NaN                  EUR                FR   \n",
       "...               ...                  ...               ...   \n",
       "29505             NaN                  USD                US   \n",
       "46008             NaN                  USD                FR   \n",
       "59242             NaN                  USD                US   \n",
       "617787            NaN                  CHF                US   \n",
       "469821            NaN                  EUR                DE   \n",
       "\n",
       "                                 MERCHANT_ID IS_RECURRING_TRANSACTION  \\\n",
       "829437  8cfe93a4-97ea-4247-8f15-50430fed3d88                     True   \n",
       "942865  c16a44e8-2e25-439f-ae29-e5e115c8c4e6                    False   \n",
       "390644  dbec5dd4-80d5-46df-b72c-0d9f15710e44                    False   \n",
       "160094  cf2b9bd5-7abd-42cf-bae6-eb82c14df28f                    False   \n",
       "933901  fa2baef3-c782-42ce-9260-edb8778d305a                    False   \n",
       "...                                      ...                      ...   \n",
       "29505   43e0a0ba-bfae-4c63-83c4-59096298bc18                    False   \n",
       "46008   667b9826-15c0-4028-a6e5-6442a1f0cb6e                    False   \n",
       "59242   e61b06ad-6a45-4d95-b63f-2adfe6307992                    False   \n",
       "617787  c7b9d4cc-51d0-43be-9645-7981ccc82f74                    False   \n",
       "469821  fd56a0ac-2adc-49b4-b450-579af2f64540                    False   \n",
       "\n",
       "       ACQUIRER_ID                CARDHOLDER_AUTH_METHOD is_test  \n",
       "829437        ACQ1                Offline enciphered PIN       0  \n",
       "942865        ACQ4                             Signature       0  \n",
       "390644        ACQ4                             Signature       0  \n",
       "160094        ACQ2                             Signature       0  \n",
       "933901        ACQ3  Offline enciphered PIN and signature       0  \n",
       "...            ...                                   ...     ...  \n",
       "29505         ACQ2                 Offline plaintext PIN       1  \n",
       "46008         ACQ2                            Online PIN       1  \n",
       "59242         ACQ2                 Offline plaintext PIN       1  \n",
       "617787        ACQ3                      No CVM performed       0  \n",
       "469821        ACQ1                             Signature       0  \n",
       "\n",
       "[1137579 rows x 22 columns]"
      ]
     },
     "execution_count": 7,
     "metadata": {},
     "output_type": "execute_result"
    }
   ],
   "source": [
    "all_trans.sort_values('TX_TS')"
   ]
  },
  {
   "cell_type": "markdown",
   "metadata": {},
   "source": [
    "## Data Cleaning"
   ]
  },
  {
   "cell_type": "code",
   "execution_count": null,
   "metadata": {},
   "outputs": [],
   "source": [
    "all_trans.loc[all_trans['IS_RECURRING_TRANSACTION'] == 'True',['IS_RECURRING_TRANSACTION']] = 1\n",
    "all_trans.loc[all_trans['IS_RECURRING_TRANSACTION'] == True,['IS_RECURRING_TRANSACTION']] = 1\n",
    "all_trans.loc[all_trans['IS_RECURRING_TRANSACTION'] == 'False',['IS_RECURRING_TRANSACTION']] = 0\n",
    "all_trans.loc[all_trans['IS_RECURRING_TRANSACTION'] == 'Fals',['IS_RECURRING_TRANSACTION']] = 0\n",
    "all_trans.loc[all_trans['IS_RECURRING_TRANSACTION'] == False,['IS_RECURRING_TRANSACTION']] = 0\n",
    "\n",
    "all_trans['IS_RECURRING_TRANSACTION'] = all_trans['IS_RECURRING_TRANSACTION'].apply(pd.to_numeric)"
   ]
  },
  {
   "cell_type": "code",
   "execution_count": null,
   "metadata": {},
   "outputs": [],
   "source": [
    "all_trans.dropna(subset=['ACQUIRER_ID','CARDHOLDER_AUTH_METHOD'], inplace=True)"
   ]
  },
  {
   "cell_type": "code",
   "execution_count": null,
   "metadata": {},
   "outputs": [],
   "source": [
    "useless_columns = ['CARD_EXPIRY_DATE','TX_ID','CARD_DATA']\n",
    "all_trans.drop(columns=useless_columns,axis=1,inplace=True)"
   ]
  },
  {
   "cell_type": "markdown",
   "metadata": {},
   "source": [
    "## Feature Engineering"
   ]
  },
  {
   "cell_type": "code",
   "execution_count": 78,
   "metadata": {},
   "outputs": [
    {
     "ename": "AttributeError",
     "evalue": "'DataFrame' object has no attribute 'TX_TS'",
     "output_type": "error",
     "traceback": [
      "\u001b[1;31m---------------------------------------------------------------------------\u001b[0m",
      "\u001b[1;31mAttributeError\u001b[0m                            Traceback (most recent call last)",
      "\u001b[1;32mc:\\Users\\joshu\\OneDrive\\Documents\\fraud_detection\\presentation\\feature_engineering_final.ipynb Cell 8\u001b[0m line \u001b[0;36m3\n\u001b[0;32m      <a href='vscode-notebook-cell:/c%3A/Users/joshu/OneDrive/Documents/fraud_detection/presentation/feature_engineering_final.ipynb#X10sZmlsZQ%3D%3D?line=0'>1</a>\u001b[0m bins \u001b[39m=\u001b[39m [\u001b[39m0\u001b[39m, \u001b[39m6\u001b[39m, \u001b[39m12\u001b[39m, \u001b[39m18\u001b[39m, \u001b[39m24\u001b[39m]\n\u001b[0;32m      <a href='vscode-notebook-cell:/c%3A/Users/joshu/OneDrive/Documents/fraud_detection/presentation/feature_engineering_final.ipynb#X10sZmlsZQ%3D%3D?line=1'>2</a>\u001b[0m labels \u001b[39m=\u001b[39m [\u001b[39m0\u001b[39m, \u001b[39m6\u001b[39m, \u001b[39m12\u001b[39m, \u001b[39m18\u001b[39m,\u001b[39m24\u001b[39m]\n\u001b[1;32m----> <a href='vscode-notebook-cell:/c%3A/Users/joshu/OneDrive/Documents/fraud_detection/presentation/feature_engineering_final.ipynb#X10sZmlsZQ%3D%3D?line=2'>3</a>\u001b[0m all_trans[\u001b[39m'\u001b[39m\u001b[39mTime_of_day\u001b[39m\u001b[39m'\u001b[39m] \u001b[39m=\u001b[39m pd\u001b[39m.\u001b[39mcut(all_trans\u001b[39m.\u001b[39;49mTX_TS\u001b[39m.\u001b[39mdt\u001b[39m.\u001b[39mhour, bins, labels\u001b[39m=\u001b[39mlabels, right\u001b[39m=\u001b[39m\u001b[39mFalse\u001b[39;00m)\n\u001b[0;32m      <a href='vscode-notebook-cell:/c%3A/Users/joshu/OneDrive/Documents/fraud_detection/presentation/feature_engineering_final.ipynb#X10sZmlsZQ%3D%3D?line=4'>5</a>\u001b[0m bins \u001b[39m=\u001b[39m np\u001b[39m.\u001b[39marange(\u001b[39m12\u001b[39m)\n\u001b[0;32m      <a href='vscode-notebook-cell:/c%3A/Users/joshu/OneDrive/Documents/fraud_detection/presentation/feature_engineering_final.ipynb#X10sZmlsZQ%3D%3D?line=5'>6</a>\u001b[0m all_trans[\u001b[39m'\u001b[39m\u001b[39mMonth\u001b[39m\u001b[39m'\u001b[39m] \u001b[39m=\u001b[39m all_trans[\u001b[39m'\u001b[39m\u001b[39mTX_TS\u001b[39m\u001b[39m'\u001b[39m]\u001b[39m.\u001b[39mapply(\u001b[39mlambda\u001b[39;00m x: x\u001b[39m.\u001b[39mmonth)\n",
      "File \u001b[1;32mc:\\Users\\joshu\\anaconda3\\lib\\site-packages\\pandas\\core\\generic.py:5902\u001b[0m, in \u001b[0;36mNDFrame.__getattr__\u001b[1;34m(self, name)\u001b[0m\n\u001b[0;32m   5895\u001b[0m \u001b[39mif\u001b[39;00m (\n\u001b[0;32m   5896\u001b[0m     name \u001b[39mnot\u001b[39;00m \u001b[39min\u001b[39;00m \u001b[39mself\u001b[39m\u001b[39m.\u001b[39m_internal_names_set\n\u001b[0;32m   5897\u001b[0m     \u001b[39mand\u001b[39;00m name \u001b[39mnot\u001b[39;00m \u001b[39min\u001b[39;00m \u001b[39mself\u001b[39m\u001b[39m.\u001b[39m_metadata\n\u001b[0;32m   5898\u001b[0m     \u001b[39mand\u001b[39;00m name \u001b[39mnot\u001b[39;00m \u001b[39min\u001b[39;00m \u001b[39mself\u001b[39m\u001b[39m.\u001b[39m_accessors\n\u001b[0;32m   5899\u001b[0m     \u001b[39mand\u001b[39;00m \u001b[39mself\u001b[39m\u001b[39m.\u001b[39m_info_axis\u001b[39m.\u001b[39m_can_hold_identifiers_and_holds_name(name)\n\u001b[0;32m   5900\u001b[0m ):\n\u001b[0;32m   5901\u001b[0m     \u001b[39mreturn\u001b[39;00m \u001b[39mself\u001b[39m[name]\n\u001b[1;32m-> 5902\u001b[0m \u001b[39mreturn\u001b[39;00m \u001b[39mobject\u001b[39;49m\u001b[39m.\u001b[39;49m\u001b[39m__getattribute__\u001b[39;49m(\u001b[39mself\u001b[39;49m, name)\n",
      "\u001b[1;31mAttributeError\u001b[0m: 'DataFrame' object has no attribute 'TX_TS'"
     ]
    }
   ],
   "source": [
    "bins = [0, 6, 12, 18, 24]\n",
    "labels = [0, 6, 12, 18,24]\n",
    "all_trans['Time_of_day'] = pd.cut(all_trans.TX_TS.dt.hour, bins, labels=labels, right=False)\n",
    "\n",
    "bins = np.arange(12)\n",
    "all_trans['Month'] = all_trans['TX_TS'].apply(lambda x: x.month)\n",
    "\n",
    "all_trans['Day_of_week'] = all_trans['TX_TS'].apply(lambda x: x.weekday())\n"
   ]
  },
  {
   "cell_type": "markdown",
   "metadata": {},
   "source": [
    "We generally model customer behaviour through the RFM model\n",
    "- Recency\n",
    "- Frequency\n",
    "- Monetary"
   ]
  },
  {
   "cell_type": "code",
   "execution_count": 12,
   "metadata": {},
   "outputs": [],
   "source": [
    "def customer_behaviour(customer_transactions):\n",
    "    \n",
    "    customer_transactions=customer_transactions.sort_values('TX_TS')\n",
    "    \n",
    "    customer_transactions.index=customer_transactions.TX_TS\n",
    "    \n",
    "    for window_size in [1,7,30]: #By previous day, week and month\n",
    "        \n",
    "        WINDOW_SUM=customer_transactions['TX_AMOUNT'].rolling(str(window_size)+'d').sum()\n",
    "        WINDOW_COUNT=customer_transactions['TX_AMOUNT'].rolling(str(window_size)+'d').count()\n",
    "    \n",
    "        AVG_AMOUNT_TX_WINDOW=WINDOW_SUM/WINDOW_COUNT\n",
    "    \n",
    "        customer_transactions['C_ID_NB_TX_'+str(window_size)]=list(WINDOW_COUNT)\n",
    "        customer_transactions['C_ID_AVG_AMOUNT_'+str(window_size)]=list(AVG_AMOUNT_TX_WINDOW)\n",
    "    \n",
    "    customer_transactions.index=customer_transactions.TX_ID\n",
    "        \n",
    "    return customer_transactions"
   ]
  },
  {
   "cell_type": "code",
   "execution_count": 13,
   "metadata": {},
   "outputs": [],
   "source": [
    "# For each customer we get their previous behaviour\n",
    "all_trans=all_trans.groupby('CUSTOMER_ID').apply(lambda x: customer_behaviour(x))\n",
    "all_trans=all_trans.sort_values('TX_TS').reset_index(drop=True)"
   ]
  },
  {
   "cell_type": "code",
   "execution_count": 14,
   "metadata": {},
   "outputs": [],
   "source": [
    "def get_terminal_risk(terminal_transactions):\n",
    "    \n",
    "    terminal_transactions=terminal_transactions.sort_values('TX_TS')\n",
    "    \n",
    "    terminal_transactions.index=terminal_transactions.TX_TS\n",
    "    \n",
    "    for window_size in [1,7,30]:\n",
    "    \n",
    "        NB_FRAUD_DELAY_WINDOW=terminal_transactions['TX_FRAUD'].rolling(str(7+window_size)+'d').sum()\n",
    "        NB_TX_DELAY_WINDOW=terminal_transactions['TX_FRAUD'].rolling(str(7+window_size)+'d').count()\n",
    "    \n",
    "        NB_FRAUD_WINDOW=NB_FRAUD_DELAY_WINDOW-(terminal_transactions['TX_FRAUD'].rolling(str(7)+'d').sum())\n",
    "        NB_TX_WINDOW=NB_TX_DELAY_WINDOW-(terminal_transactions['TX_FRAUD'].rolling(str(7)+'d').count())\n",
    "    \n",
    "        RISK_WINDOW=NB_FRAUD_WINDOW/NB_TX_WINDOW\n",
    "        \n",
    "        terminal_transactions['TERMINAL_ID_NB_TX_'+str(window_size)+'DAY_WINDOW']=list(NB_TX_WINDOW)\n",
    "        terminal_transactions['TERMINAL_ID_RISK_'+str(window_size)+'DAY_WINDOW']=list(RISK_WINDOW)\n",
    "        \n",
    "    terminal_transactions.index=terminal_transactions.TX_ID\n",
    "    \n",
    "    terminal_transactions.fillna(0,inplace=True) #If we don't know risk factor set to 0\n",
    "    \n",
    "    return terminal_transactions"
   ]
  },
  {
   "cell_type": "code",
   "execution_count": 15,
   "metadata": {},
   "outputs": [],
   "source": [
    "all_trans=all_trans.groupby('TERMINAL_ID').apply(lambda x: get_terminal_risk(x))\n",
    "all_trans=all_trans.sort_values('TX_TS').reset_index(drop=True)"
   ]
  },
  {
   "cell_type": "code",
   "execution_count": 17,
   "metadata": {},
   "outputs": [],
   "source": [
    "one_hot_encoded_col = ['CARD_BRAND','TRANSACTION_TYPE','TRANSACTION_STATUS','FAILURE_CODE','FAILURE_REASON','TRANSACTION_CURRENCY','CARD_COUNTRY_CODE','ACQUIRER_ID','CARDHOLDER_AUTH_METHOD']\n",
    "all_trans = pd.get_dummies(all_trans, columns = one_hot_encoded_col)"
   ]
  },
  {
   "cell_type": "code",
   "execution_count": 99,
   "metadata": {},
   "outputs": [],
   "source": [
    "test_features = (set(all_trans.columns)-set('TX_FRAUD'))\n",
    "train_features = (set(all_trans.columns)-set('TX_ID'))"
   ]
  },
  {
   "cell_type": "code",
   "execution_count": 74,
   "metadata": {},
   "outputs": [
    {
     "name": "stderr",
     "output_type": "stream",
     "text": [
      "C:\\Users\\joshu\\AppData\\Local\\Temp\\ipykernel_18864\\3799857911.py:1: FutureWarning: Passing a set as an indexer is deprecated and will raise in a future version. Use a list instead.\n",
      "  test_df = all_trans.loc[all_trans['is_test'] == 1][test_features]\n",
      "C:\\Users\\joshu\\AppData\\Local\\Temp\\ipykernel_18864\\3799857911.py:2: FutureWarning: Passing a set as an indexer is deprecated and will raise in a future version. Use a list instead.\n",
      "  train_df = all_trans.loc[all_trans['is_test'] == 0][train_features]\n"
     ]
    }
   ],
   "source": [
    "test_df = all_trans.loc[all_trans['is_test'] == 1][test_features]\n",
    "train_df = all_trans.loc[all_trans['is_test'] == 0][train_features]"
   ]
  },
  {
   "cell_type": "code",
   "execution_count": 65,
   "metadata": {},
   "outputs": [],
   "source": [
    "location = 'feature_set_6'\n",
    "test_df.to_csv(F'../data/{location}/test_features.csv',index=False)"
   ]
  },
  {
   "cell_type": "code",
   "execution_count": 66,
   "metadata": {},
   "outputs": [],
   "source": [
    "train_df.to_csv(F'../data/{location}/train_features.csv',index=False)\n",
    "\n",
    "y = train_df['TX_FRAUD']\n",
    "X = train_df.drop(['TX_FRAUD'],axis = 1)\n",
    "X_train_full, X_valid_full, y_train, y_valid = train_test_split(X, y, train_size=0.7, test_size=0.3,random_state=42)\n",
    "\n",
    "X_train_full.to_csv(F'../data/{location}/X_train_full.csv',index=False)\n",
    "X_valid_full.to_csv(F'../data/{location}/X_valid_full.csv',index=False)\n",
    "y_train.to_csv(F'../data/{location}/y_train.csv',index=False)\n",
    "y_valid.to_csv(F'../data/{location}/y_valid.csv',index=False)"
   ]
  },
  {
   "cell_type": "code",
   "execution_count": 84,
   "metadata": {},
   "outputs": [],
   "source": [
    "scaled_cols = all_trans.select_dtypes(include='float64').columns"
   ]
  },
  {
   "cell_type": "code",
   "execution_count": 83,
   "metadata": {},
   "outputs": [
    {
     "data": {
      "text/html": [
       "<style>#sk-container-id-1 {color: black;background-color: white;}#sk-container-id-1 pre{padding: 0;}#sk-container-id-1 div.sk-toggleable {background-color: white;}#sk-container-id-1 label.sk-toggleable__label {cursor: pointer;display: block;width: 100%;margin-bottom: 0;padding: 0.3em;box-sizing: border-box;text-align: center;}#sk-container-id-1 label.sk-toggleable__label-arrow:before {content: \"▸\";float: left;margin-right: 0.25em;color: #696969;}#sk-container-id-1 label.sk-toggleable__label-arrow:hover:before {color: black;}#sk-container-id-1 div.sk-estimator:hover label.sk-toggleable__label-arrow:before {color: black;}#sk-container-id-1 div.sk-toggleable__content {max-height: 0;max-width: 0;overflow: hidden;text-align: left;background-color: #f0f8ff;}#sk-container-id-1 div.sk-toggleable__content pre {margin: 0.2em;color: black;border-radius: 0.25em;background-color: #f0f8ff;}#sk-container-id-1 input.sk-toggleable__control:checked~div.sk-toggleable__content {max-height: 200px;max-width: 100%;overflow: auto;}#sk-container-id-1 input.sk-toggleable__control:checked~label.sk-toggleable__label-arrow:before {content: \"▾\";}#sk-container-id-1 div.sk-estimator input.sk-toggleable__control:checked~label.sk-toggleable__label {background-color: #d4ebff;}#sk-container-id-1 div.sk-label input.sk-toggleable__control:checked~label.sk-toggleable__label {background-color: #d4ebff;}#sk-container-id-1 input.sk-hidden--visually {border: 0;clip: rect(1px 1px 1px 1px);clip: rect(1px, 1px, 1px, 1px);height: 1px;margin: -1px;overflow: hidden;padding: 0;position: absolute;width: 1px;}#sk-container-id-1 div.sk-estimator {font-family: monospace;background-color: #f0f8ff;border: 1px dotted black;border-radius: 0.25em;box-sizing: border-box;margin-bottom: 0.5em;}#sk-container-id-1 div.sk-estimator:hover {background-color: #d4ebff;}#sk-container-id-1 div.sk-parallel-item::after {content: \"\";width: 100%;border-bottom: 1px solid gray;flex-grow: 1;}#sk-container-id-1 div.sk-label:hover label.sk-toggleable__label {background-color: #d4ebff;}#sk-container-id-1 div.sk-serial::before {content: \"\";position: absolute;border-left: 1px solid gray;box-sizing: border-box;top: 0;bottom: 0;left: 50%;z-index: 0;}#sk-container-id-1 div.sk-serial {display: flex;flex-direction: column;align-items: center;background-color: white;padding-right: 0.2em;padding-left: 0.2em;position: relative;}#sk-container-id-1 div.sk-item {position: relative;z-index: 1;}#sk-container-id-1 div.sk-parallel {display: flex;align-items: stretch;justify-content: center;background-color: white;position: relative;}#sk-container-id-1 div.sk-item::before, #sk-container-id-1 div.sk-parallel-item::before {content: \"\";position: absolute;border-left: 1px solid gray;box-sizing: border-box;top: 0;bottom: 0;left: 50%;z-index: -1;}#sk-container-id-1 div.sk-parallel-item {display: flex;flex-direction: column;z-index: 1;position: relative;background-color: white;}#sk-container-id-1 div.sk-parallel-item:first-child::after {align-self: flex-end;width: 50%;}#sk-container-id-1 div.sk-parallel-item:last-child::after {align-self: flex-start;width: 50%;}#sk-container-id-1 div.sk-parallel-item:only-child::after {width: 0;}#sk-container-id-1 div.sk-dashed-wrapped {border: 1px dashed gray;margin: 0 0.4em 0.5em 0.4em;box-sizing: border-box;padding-bottom: 0.4em;background-color: white;}#sk-container-id-1 div.sk-label label {font-family: monospace;font-weight: bold;display: inline-block;line-height: 1.2em;}#sk-container-id-1 div.sk-label-container {text-align: center;}#sk-container-id-1 div.sk-container {/* jupyter's `normalize.less` sets `[hidden] { display: none; }` but bootstrap.min.css set `[hidden] { display: none !important; }` so we also need the `!important` here to be able to override the default hidden behavior on the sphinx rendered scikit-learn.org. See: https://github.com/scikit-learn/scikit-learn/issues/21755 */display: inline-block !important;position: relative;}#sk-container-id-1 div.sk-text-repr-fallback {display: none;}</style><div id=\"sk-container-id-1\" class=\"sk-top-container\"><div class=\"sk-text-repr-fallback\"><pre>MinMaxScaler()</pre><b>In a Jupyter environment, please rerun this cell to show the HTML representation or trust the notebook. <br />On GitHub, the HTML representation is unable to render, please try loading this page with nbviewer.org.</b></div><div class=\"sk-container\" hidden><div class=\"sk-item\"><div class=\"sk-estimator sk-toggleable\"><input class=\"sk-toggleable__control sk-hidden--visually\" id=\"sk-estimator-id-1\" type=\"checkbox\" checked><label for=\"sk-estimator-id-1\" class=\"sk-toggleable__label sk-toggleable__label-arrow\">MinMaxScaler</label><div class=\"sk-toggleable__content\"><pre>MinMaxScaler()</pre></div></div></div></div></div>"
      ],
      "text/plain": [
       "MinMaxScaler()"
      ]
     },
     "execution_count": 83,
     "metadata": {},
     "output_type": "execute_result"
    }
   ],
   "source": [
    "scaler = MinMaxScaler()\n",
    "scaler.fit(all_trans[ scaled_cols.columns])"
   ]
  },
  {
   "cell_type": "code",
   "execution_count": 92,
   "metadata": {},
   "outputs": [],
   "source": [
    "non_scaled_cols = list(set(all_trans.columns)- set(scaled_cols))"
   ]
  },
  {
   "cell_type": "code",
   "execution_count": 89,
   "metadata": {},
   "outputs": [],
   "source": [
    "all_trans_normalised = pd.DataFrame(scaler.transform(all_trans[list(scaled_cols)]), index=all_trans[list(scaled_cols)].index, columns=list(scaled_cols))"
   ]
  },
  {
   "cell_type": "code",
   "execution_count": 94,
   "metadata": {},
   "outputs": [],
   "source": [
    "all_trans_normalised['TX_ID'] = all_trans['TX_ID']"
   ]
  },
  {
   "cell_type": "code",
   "execution_count": 95,
   "metadata": {},
   "outputs": [],
   "source": [
    "all_trans_normalised = pd.merge(all_trans_normalised,all_trans[non_scaled_cols],on='TX_ID')"
   ]
  },
  {
   "cell_type": "code",
   "execution_count": 100,
   "metadata": {},
   "outputs": [
    {
     "name": "stderr",
     "output_type": "stream",
     "text": [
      "C:\\Users\\joshu\\AppData\\Local\\Temp\\ipykernel_18864\\1029650358.py:1: FutureWarning: Passing a set as an indexer is deprecated and will raise in a future version. Use a list instead.\n",
      "  test_df = all_trans_normalised.loc[all_trans['is_test'] == 1][test_features]\n",
      "C:\\Users\\joshu\\AppData\\Local\\Temp\\ipykernel_18864\\1029650358.py:2: FutureWarning: Passing a set as an indexer is deprecated and will raise in a future version. Use a list instead.\n",
      "  train_df = all_trans_normalised.loc[all_trans['is_test'] == 0][train_features]\n"
     ]
    }
   ],
   "source": [
    "test_df = all_trans_normalised.loc[all_trans['is_test'] == 1][test_features]\n",
    "train_df = all_trans_normalised.loc[all_trans['is_test'] == 0][train_features]"
   ]
  },
  {
   "cell_type": "code",
   "execution_count": 102,
   "metadata": {},
   "outputs": [],
   "source": [
    "location = 'feature_set_6_normalised'\n",
    "test_df.to_csv(F'../data/{location}/test_features.csv',index=False)\n",
    "\n",
    "train_df.to_csv(F'../data/{location}/train_features.csv',index=False)\n",
    "\n",
    "y = train_df['TX_FRAUD']\n",
    "X = train_df.drop(['TX_FRAUD'],axis = 1)\n",
    "X_train_full, X_valid_full, y_train, y_valid = train_test_split(X, y, train_size=0.7, test_size=0.3,random_state=42)\n",
    "\n",
    "X_train_full.to_csv(F'../data/{location}/X_train_full.csv',index=False)\n",
    "X_valid_full.to_csv(F'../data/{location}/X_valid_full.csv',index=False)\n",
    "y_train.to_csv(F'../data/{location}/y_train.csv',index=False)\n",
    "y_valid.to_csv(F'../data/{location}/y_valid.csv',index=False)"
   ]
  },
  {
   "cell_type": "code",
   "execution_count": 104,
   "metadata": {},
   "outputs": [],
   "source": [
    "og_test = pd.read_csv('../data/transactions_test.csv', parse_dates=[\"TX_TS\"])"
   ]
  },
  {
   "cell_type": "code",
   "execution_count": 105,
   "metadata": {},
   "outputs": [
    {
     "data": {
      "text/plain": [
       "set()"
      ]
     },
     "execution_count": 105,
     "metadata": {},
     "output_type": "execute_result"
    }
   ],
   "source": [
    "set(og_test['TX_ID'])- set(test_df['TX_ID'])"
   ]
  }
 ],
 "metadata": {
  "kernelspec": {
   "display_name": "base",
   "language": "python",
   "name": "python3"
  },
  "language_info": {
   "codemirror_mode": {
    "name": "ipython",
    "version": 3
   },
   "file_extension": ".py",
   "mimetype": "text/x-python",
   "name": "python",
   "nbconvert_exporter": "python",
   "pygments_lexer": "ipython3",
   "version": "3.10.9"
  }
 },
 "nbformat": 4,
 "nbformat_minor": 2
}
