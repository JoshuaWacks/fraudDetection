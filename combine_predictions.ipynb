{
 "cells": [
  {
   "cell_type": "code",
   "execution_count": 1,
   "metadata": {},
   "outputs": [],
   "source": [
    "import numpy as np\n",
    "import pandas as pd\n",
    "import seaborn as sns\n",
    "import matplotlib.pyplot as plt\n",
    "from sklearn.compose import ColumnTransformer\n",
    "from sklearn.pipeline import Pipeline\n",
    "from sklearn.impute import SimpleImputer\n",
    "from sklearn.preprocessing import OneHotEncoder\n",
    "from dateutil.parser import parse\n",
    "from sklearn.preprocessing import OrdinalEncoder\n",
    "from sklearn.model_selection import train_test_split\n",
    "from sklearn.ensemble import RandomForestRegressor\n",
    "from sklearn.metrics import mean_absolute_error\n",
    "from sklearn.metrics import roc_auc_score\n",
    "from sklearn.decomposition import PCA\n",
    "from sklearn.neural_network import MLPRegressor\n",
    "from imblearn.combine import SMOTEENN\n",
    "from imblearn.over_sampling import ADASYN\n",
    "from collections import Counter\n",
    "from sklearn.preprocessing import MinMaxScaler\n",
    "from xgboost import XGBClassifier\n",
    "\n",
    "from sklearn.linear_model import LogisticRegression\n"
   ]
  },
  {
   "cell_type": "code",
   "execution_count": 76,
   "metadata": {},
   "outputs": [],
   "source": [
    "janco_sub = pd.read_csv( F'./results/janco_submission.csv').rename(columns={'TX_FRAUD':'TX_F_J'})\n",
    "results_5_xgb = pd.read_csv( F'./results/results_5_XGB.csv').rename(columns={'TX_FRAUD':'TX_F_XGB'})\n",
    "results_6_xgb = pd.read_csv( F'./results/results_6_XGB.csv').rename(columns={'TX_FRAUD':'TX_F_XGB_6'})\n",
    "results_5_Forest = pd.read_csv( F'./results/results_5_forest.csv').rename(columns={'TX_FRAUD':'TX_F_Forest'})\n",
    "\n"
   ]
  },
  {
   "cell_type": "code",
   "execution_count": 46,
   "metadata": {},
   "outputs": [
    {
     "data": {
      "text/plain": [
       "TX_ID     71139\n",
       "TX_F_J    71139\n",
       "dtype: int64"
      ]
     },
     "execution_count": 46,
     "metadata": {},
     "output_type": "execute_result"
    }
   ],
   "source": [
    "janco_sub.count()"
   ]
  },
  {
   "cell_type": "code",
   "execution_count": 77,
   "metadata": {},
   "outputs": [],
   "source": [
    "merged_sub = pd.merge(janco_sub,results_5_xgb,on = 'TX_ID')\n",
    "merged_sub = pd.merge(merged_sub,results_5_Forest,on = 'TX_ID')\n",
    "merged_sub = pd.merge(merged_sub,results_6_xgb,on = 'TX_ID')\n"
   ]
  },
  {
   "cell_type": "code",
   "execution_count": 48,
   "metadata": {},
   "outputs": [
    {
     "data": {
      "text/plain": [
       "TX_ID       71139\n",
       "TX_F_J      71139\n",
       "TX_F_XGB    71139\n",
       "TX_F_BC     71139\n",
       "dtype: int64"
      ]
     },
     "execution_count": 48,
     "metadata": {},
     "output_type": "execute_result"
    }
   ],
   "source": [
    "merged_sub.count()"
   ]
  },
  {
   "cell_type": "code",
   "execution_count": 52,
   "metadata": {},
   "outputs": [
    {
     "data": {
      "text/html": [
       "<div>\n",
       "<style scoped>\n",
       "    .dataframe tbody tr th:only-of-type {\n",
       "        vertical-align: middle;\n",
       "    }\n",
       "\n",
       "    .dataframe tbody tr th {\n",
       "        vertical-align: top;\n",
       "    }\n",
       "\n",
       "    .dataframe thead th {\n",
       "        text-align: right;\n",
       "    }\n",
       "</style>\n",
       "<table border=\"1\" class=\"dataframe\">\n",
       "  <thead>\n",
       "    <tr style=\"text-align: right;\">\n",
       "      <th></th>\n",
       "      <th>TX_ID</th>\n",
       "      <th>TX_F_J</th>\n",
       "      <th>TX_F_XGB</th>\n",
       "      <th>TX_F_Forest</th>\n",
       "    </tr>\n",
       "  </thead>\n",
       "  <tbody>\n",
       "    <tr>\n",
       "      <th>0</th>\n",
       "      <td>09324d812ba7915c3f791e973db293ad50db70d8</td>\n",
       "      <td>0.006613</td>\n",
       "      <td>0.007558</td>\n",
       "      <td>0.015625</td>\n",
       "    </tr>\n",
       "    <tr>\n",
       "      <th>1</th>\n",
       "      <td>a17bc798bacadbde6cd7928688e2453fa6023d67</td>\n",
       "      <td>0.000395</td>\n",
       "      <td>0.007480</td>\n",
       "      <td>0.000000</td>\n",
       "    </tr>\n",
       "    <tr>\n",
       "      <th>2</th>\n",
       "      <td>dee3efed3600425f60eee0e9d363f9bac226e12a</td>\n",
       "      <td>0.016188</td>\n",
       "      <td>0.012160</td>\n",
       "      <td>0.003906</td>\n",
       "    </tr>\n",
       "    <tr>\n",
       "      <th>3</th>\n",
       "      <td>e0b665434d7945d6b170eb8da1b88d3fdfaaf3f7</td>\n",
       "      <td>0.006988</td>\n",
       "      <td>0.004564</td>\n",
       "      <td>0.011719</td>\n",
       "    </tr>\n",
       "    <tr>\n",
       "      <th>4</th>\n",
       "      <td>b25981de8b5dcdc1c38de111a21312115c34199d</td>\n",
       "      <td>0.005602</td>\n",
       "      <td>0.003698</td>\n",
       "      <td>0.003906</td>\n",
       "    </tr>\n",
       "    <tr>\n",
       "      <th>5</th>\n",
       "      <td>2e1a61a47232ce57023aeb653ffb9146ee36a819</td>\n",
       "      <td>0.041178</td>\n",
       "      <td>0.006710</td>\n",
       "      <td>0.007812</td>\n",
       "    </tr>\n",
       "    <tr>\n",
       "      <th>6</th>\n",
       "      <td>418be3d6fef8443de6c8caa171ac82e01784761c</td>\n",
       "      <td>0.001783</td>\n",
       "      <td>0.005500</td>\n",
       "      <td>0.000000</td>\n",
       "    </tr>\n",
       "    <tr>\n",
       "      <th>7</th>\n",
       "      <td>4d64064dad4c900e4d0dbaf4b327520b1bbe8a4c</td>\n",
       "      <td>0.011337</td>\n",
       "      <td>0.006000</td>\n",
       "      <td>0.011719</td>\n",
       "    </tr>\n",
       "    <tr>\n",
       "      <th>8</th>\n",
       "      <td>95486443ebebb454403ec8018c555c15fb0b5fbd</td>\n",
       "      <td>0.019377</td>\n",
       "      <td>0.015780</td>\n",
       "      <td>0.003906</td>\n",
       "    </tr>\n",
       "    <tr>\n",
       "      <th>9</th>\n",
       "      <td>75dc228b5a044c8588a9cf8039273c1a41a73e56</td>\n",
       "      <td>0.003787</td>\n",
       "      <td>0.063808</td>\n",
       "      <td>0.121094</td>\n",
       "    </tr>\n",
       "  </tbody>\n",
       "</table>\n",
       "</div>"
      ],
      "text/plain": [
       "                                      TX_ID    TX_F_J  TX_F_XGB  TX_F_Forest\n",
       "0  09324d812ba7915c3f791e973db293ad50db70d8  0.006613  0.007558     0.015625\n",
       "1  a17bc798bacadbde6cd7928688e2453fa6023d67  0.000395  0.007480     0.000000\n",
       "2  dee3efed3600425f60eee0e9d363f9bac226e12a  0.016188  0.012160     0.003906\n",
       "3  e0b665434d7945d6b170eb8da1b88d3fdfaaf3f7  0.006988  0.004564     0.011719\n",
       "4  b25981de8b5dcdc1c38de111a21312115c34199d  0.005602  0.003698     0.003906\n",
       "5  2e1a61a47232ce57023aeb653ffb9146ee36a819  0.041178  0.006710     0.007812\n",
       "6  418be3d6fef8443de6c8caa171ac82e01784761c  0.001783  0.005500     0.000000\n",
       "7  4d64064dad4c900e4d0dbaf4b327520b1bbe8a4c  0.011337  0.006000     0.011719\n",
       "8  95486443ebebb454403ec8018c555c15fb0b5fbd  0.019377  0.015780     0.003906\n",
       "9  75dc228b5a044c8588a9cf8039273c1a41a73e56  0.003787  0.063808     0.121094"
      ]
     },
     "execution_count": 52,
     "metadata": {},
     "output_type": "execute_result"
    }
   ],
   "source": [
    "merged_sub.head(10)"
   ]
  },
  {
   "cell_type": "code",
   "execution_count": 78,
   "metadata": {},
   "outputs": [],
   "source": [
    "def getVote(pred1,pred2,pred3,pred4):\n",
    "\tif (pred1 < 0.1 and pred2 < 0.1 and pred3 < 0.1 and pred4 < 0.1):\n",
    "\t\treturn 0\n",
    "\telif (pred1 > 0.9 and pred2 > 0.9 and pred3 > 0.9 and pred4 > 0.9):\n",
    "\t\treturn 1\n",
    "\telse:\n",
    "\t\tsum = pred1 +pred2 +pred3+pred4\n",
    "\t\treturn sum/4"
   ]
  },
  {
   "cell_type": "code",
   "execution_count": 79,
   "metadata": {},
   "outputs": [],
   "source": [
    "merged_sub['merged'] = merged_sub.apply(lambda row: getVote(row.TX_F_J,row.TX_F_XGB,row.TX_F_XGB_6,row.TX_F_Forest),axis=1)"
   ]
  },
  {
   "cell_type": "code",
   "execution_count": 80,
   "metadata": {},
   "outputs": [],
   "source": [
    "test_trans = pd.read_csv( F'./data/transactions_test.csv')"
   ]
  },
  {
   "cell_type": "code",
   "execution_count": 81,
   "metadata": {},
   "outputs": [],
   "source": [
    "fraud_by_amount = test_trans[test_trans['TX_AMOUNT'] > 142]"
   ]
  },
  {
   "cell_type": "code",
   "execution_count": 82,
   "metadata": {},
   "outputs": [],
   "source": [
    "fraud_by_cashback = test_trans[test_trans['TRANSACTION_CASHBACK_AMOUNT'] > 25]"
   ]
  },
  {
   "cell_type": "code",
   "execution_count": 83,
   "metadata": {},
   "outputs": [],
   "source": [
    "merged_sub.loc[fraud_by_amount.index,'merged']= 1"
   ]
  },
  {
   "cell_type": "code",
   "execution_count": 84,
   "metadata": {},
   "outputs": [],
   "source": [
    "submission = merged_sub[['TX_ID','merged']]"
   ]
  },
  {
   "cell_type": "code",
   "execution_count": 85,
   "metadata": {},
   "outputs": [
    {
     "name": "stderr",
     "output_type": "stream",
     "text": [
      "C:\\Users\\joshu\\AppData\\Local\\Temp\\ipykernel_26588\\2188786321.py:1: SettingWithCopyWarning: \n",
      "A value is trying to be set on a copy of a slice from a DataFrame\n",
      "\n",
      "See the caveats in the documentation: https://pandas.pydata.org/pandas-docs/stable/user_guide/indexing.html#returning-a-view-versus-a-copy\n",
      "  submission.rename(columns={'merged':'TX_FRAUD'},inplace=True)\n"
     ]
    }
   ],
   "source": [
    "submission.rename(columns={'merged':'TX_FRAUD'},inplace=True)\n"
   ]
  },
  {
   "cell_type": "code",
   "execution_count": 86,
   "metadata": {},
   "outputs": [
    {
     "data": {
      "text/html": [
       "<div>\n",
       "<style scoped>\n",
       "    .dataframe tbody tr th:only-of-type {\n",
       "        vertical-align: middle;\n",
       "    }\n",
       "\n",
       "    .dataframe tbody tr th {\n",
       "        vertical-align: top;\n",
       "    }\n",
       "\n",
       "    .dataframe thead th {\n",
       "        text-align: right;\n",
       "    }\n",
       "</style>\n",
       "<table border=\"1\" class=\"dataframe\">\n",
       "  <thead>\n",
       "    <tr style=\"text-align: right;\">\n",
       "      <th></th>\n",
       "      <th>TX_ID</th>\n",
       "      <th>TX_FRAUD</th>\n",
       "    </tr>\n",
       "  </thead>\n",
       "  <tbody>\n",
       "    <tr>\n",
       "      <th>0</th>\n",
       "      <td>09324d812ba7915c3f791e973db293ad50db70d8</td>\n",
       "      <td>0.000000</td>\n",
       "    </tr>\n",
       "    <tr>\n",
       "      <th>1</th>\n",
       "      <td>a17bc798bacadbde6cd7928688e2453fa6023d67</td>\n",
       "      <td>0.000000</td>\n",
       "    </tr>\n",
       "    <tr>\n",
       "      <th>2</th>\n",
       "      <td>dee3efed3600425f60eee0e9d363f9bac226e12a</td>\n",
       "      <td>0.000000</td>\n",
       "    </tr>\n",
       "    <tr>\n",
       "      <th>3</th>\n",
       "      <td>e0b665434d7945d6b170eb8da1b88d3fdfaaf3f7</td>\n",
       "      <td>0.000000</td>\n",
       "    </tr>\n",
       "    <tr>\n",
       "      <th>4</th>\n",
       "      <td>b25981de8b5dcdc1c38de111a21312115c34199d</td>\n",
       "      <td>0.000000</td>\n",
       "    </tr>\n",
       "    <tr>\n",
       "      <th>5</th>\n",
       "      <td>2e1a61a47232ce57023aeb653ffb9146ee36a819</td>\n",
       "      <td>0.000000</td>\n",
       "    </tr>\n",
       "    <tr>\n",
       "      <th>6</th>\n",
       "      <td>418be3d6fef8443de6c8caa171ac82e01784761c</td>\n",
       "      <td>0.000000</td>\n",
       "    </tr>\n",
       "    <tr>\n",
       "      <th>7</th>\n",
       "      <td>4d64064dad4c900e4d0dbaf4b327520b1bbe8a4c</td>\n",
       "      <td>0.000000</td>\n",
       "    </tr>\n",
       "    <tr>\n",
       "      <th>8</th>\n",
       "      <td>95486443ebebb454403ec8018c555c15fb0b5fbd</td>\n",
       "      <td>0.000000</td>\n",
       "    </tr>\n",
       "    <tr>\n",
       "      <th>9</th>\n",
       "      <td>75dc228b5a044c8588a9cf8039273c1a41a73e56</td>\n",
       "      <td>0.052313</td>\n",
       "    </tr>\n",
       "    <tr>\n",
       "      <th>10</th>\n",
       "      <td>e407b238dd54e3532f40ea1f2775e856da51d8d8</td>\n",
       "      <td>0.000000</td>\n",
       "    </tr>\n",
       "    <tr>\n",
       "      <th>11</th>\n",
       "      <td>e366773740868ffd8013ea05ca408be095894823</td>\n",
       "      <td>0.000000</td>\n",
       "    </tr>\n",
       "    <tr>\n",
       "      <th>12</th>\n",
       "      <td>1d3d1d6fa6ca65fb1ef08a0af9c4cc27d74b656c</td>\n",
       "      <td>0.000000</td>\n",
       "    </tr>\n",
       "    <tr>\n",
       "      <th>13</th>\n",
       "      <td>320b9a266ff7e04e6eef0d31b12dbfbe0fc8c170</td>\n",
       "      <td>0.000000</td>\n",
       "    </tr>\n",
       "    <tr>\n",
       "      <th>14</th>\n",
       "      <td>6541dd37817487aa8aa7a6418478092834a94a86</td>\n",
       "      <td>0.000000</td>\n",
       "    </tr>\n",
       "    <tr>\n",
       "      <th>15</th>\n",
       "      <td>b9eca070b97894cc26894bf2dd095a1761d409ab</td>\n",
       "      <td>0.000000</td>\n",
       "    </tr>\n",
       "    <tr>\n",
       "      <th>16</th>\n",
       "      <td>ed3ccb35b597779f83c128dc42eede609c57e0ba</td>\n",
       "      <td>0.000000</td>\n",
       "    </tr>\n",
       "    <tr>\n",
       "      <th>17</th>\n",
       "      <td>38df553c31161ff94e54b7042bae0dd25716ba07</td>\n",
       "      <td>0.046219</td>\n",
       "    </tr>\n",
       "    <tr>\n",
       "      <th>18</th>\n",
       "      <td>a051dcde18ec277f9ee8af242b407c07b5395854</td>\n",
       "      <td>0.000000</td>\n",
       "    </tr>\n",
       "    <tr>\n",
       "      <th>19</th>\n",
       "      <td>cbe09077efbc02179bffbbf05a691fcc11205a80</td>\n",
       "      <td>0.000000</td>\n",
       "    </tr>\n",
       "    <tr>\n",
       "      <th>20</th>\n",
       "      <td>91c1fe977faced45bdb844a672e0aac8bac84f8b</td>\n",
       "      <td>0.000000</td>\n",
       "    </tr>\n",
       "    <tr>\n",
       "      <th>21</th>\n",
       "      <td>5f9b40d1ad02c42b0f35bdbafa3263560d0bb7d7</td>\n",
       "      <td>0.000000</td>\n",
       "    </tr>\n",
       "    <tr>\n",
       "      <th>22</th>\n",
       "      <td>8f79c45a6f94d7287336f6a0b37efe1f679686c5</td>\n",
       "      <td>0.000000</td>\n",
       "    </tr>\n",
       "    <tr>\n",
       "      <th>23</th>\n",
       "      <td>6496502bda9799a62580436d48d4a69b6e98d597</td>\n",
       "      <td>0.000000</td>\n",
       "    </tr>\n",
       "    <tr>\n",
       "      <th>24</th>\n",
       "      <td>aaf7b77def3a73174b4c8a9244066cb9248f813b</td>\n",
       "      <td>0.000000</td>\n",
       "    </tr>\n",
       "    <tr>\n",
       "      <th>25</th>\n",
       "      <td>7395d06a43a1fd611691bb0c5d32d90e5b03c47a</td>\n",
       "      <td>0.000000</td>\n",
       "    </tr>\n",
       "    <tr>\n",
       "      <th>26</th>\n",
       "      <td>e35827a128a38b09d13f9a537d3e05afe58a8965</td>\n",
       "      <td>0.000000</td>\n",
       "    </tr>\n",
       "    <tr>\n",
       "      <th>27</th>\n",
       "      <td>b04a6263aae5654e27d8a3f85957af1daa30ba06</td>\n",
       "      <td>0.000000</td>\n",
       "    </tr>\n",
       "    <tr>\n",
       "      <th>28</th>\n",
       "      <td>5ed8702588fb675581a9dde79477727e7cfe3925</td>\n",
       "      <td>0.000000</td>\n",
       "    </tr>\n",
       "    <tr>\n",
       "      <th>29</th>\n",
       "      <td>ee19f2f51d2ec138e8647c792e1698ce49d39b42</td>\n",
       "      <td>0.061222</td>\n",
       "    </tr>\n",
       "  </tbody>\n",
       "</table>\n",
       "</div>"
      ],
      "text/plain": [
       "                                       TX_ID  TX_FRAUD\n",
       "0   09324d812ba7915c3f791e973db293ad50db70d8  0.000000\n",
       "1   a17bc798bacadbde6cd7928688e2453fa6023d67  0.000000\n",
       "2   dee3efed3600425f60eee0e9d363f9bac226e12a  0.000000\n",
       "3   e0b665434d7945d6b170eb8da1b88d3fdfaaf3f7  0.000000\n",
       "4   b25981de8b5dcdc1c38de111a21312115c34199d  0.000000\n",
       "5   2e1a61a47232ce57023aeb653ffb9146ee36a819  0.000000\n",
       "6   418be3d6fef8443de6c8caa171ac82e01784761c  0.000000\n",
       "7   4d64064dad4c900e4d0dbaf4b327520b1bbe8a4c  0.000000\n",
       "8   95486443ebebb454403ec8018c555c15fb0b5fbd  0.000000\n",
       "9   75dc228b5a044c8588a9cf8039273c1a41a73e56  0.052313\n",
       "10  e407b238dd54e3532f40ea1f2775e856da51d8d8  0.000000\n",
       "11  e366773740868ffd8013ea05ca408be095894823  0.000000\n",
       "12  1d3d1d6fa6ca65fb1ef08a0af9c4cc27d74b656c  0.000000\n",
       "13  320b9a266ff7e04e6eef0d31b12dbfbe0fc8c170  0.000000\n",
       "14  6541dd37817487aa8aa7a6418478092834a94a86  0.000000\n",
       "15  b9eca070b97894cc26894bf2dd095a1761d409ab  0.000000\n",
       "16  ed3ccb35b597779f83c128dc42eede609c57e0ba  0.000000\n",
       "17  38df553c31161ff94e54b7042bae0dd25716ba07  0.046219\n",
       "18  a051dcde18ec277f9ee8af242b407c07b5395854  0.000000\n",
       "19  cbe09077efbc02179bffbbf05a691fcc11205a80  0.000000\n",
       "20  91c1fe977faced45bdb844a672e0aac8bac84f8b  0.000000\n",
       "21  5f9b40d1ad02c42b0f35bdbafa3263560d0bb7d7  0.000000\n",
       "22  8f79c45a6f94d7287336f6a0b37efe1f679686c5  0.000000\n",
       "23  6496502bda9799a62580436d48d4a69b6e98d597  0.000000\n",
       "24  aaf7b77def3a73174b4c8a9244066cb9248f813b  0.000000\n",
       "25  7395d06a43a1fd611691bb0c5d32d90e5b03c47a  0.000000\n",
       "26  e35827a128a38b09d13f9a537d3e05afe58a8965  0.000000\n",
       "27  b04a6263aae5654e27d8a3f85957af1daa30ba06  0.000000\n",
       "28  5ed8702588fb675581a9dde79477727e7cfe3925  0.000000\n",
       "29  ee19f2f51d2ec138e8647c792e1698ce49d39b42  0.061222"
      ]
     },
     "execution_count": 86,
     "metadata": {},
     "output_type": "execute_result"
    }
   ],
   "source": [
    "submission.head(30)"
   ]
  },
  {
   "cell_type": "code",
   "execution_count": 87,
   "metadata": {},
   "outputs": [],
   "source": [
    "location = 'results'\n",
    "submission.to_csv(F'./{location}/results_6_weighted.csv',index=False)"
   ]
  }
 ],
 "metadata": {
  "kernelspec": {
   "display_name": "base",
   "language": "python",
   "name": "python3"
  },
  "language_info": {
   "codemirror_mode": {
    "name": "ipython",
    "version": 3
   },
   "file_extension": ".py",
   "mimetype": "text/x-python",
   "name": "python",
   "nbconvert_exporter": "python",
   "pygments_lexer": "ipython3",
   "version": "3.10.9"
  }
 },
 "nbformat": 4,
 "nbformat_minor": 2
}
