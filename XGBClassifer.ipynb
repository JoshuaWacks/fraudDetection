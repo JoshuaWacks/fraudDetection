{
 "cells": [
  {
   "cell_type": "code",
   "execution_count": 1,
   "metadata": {},
   "outputs": [],
   "source": [
    "import numpy as np\n",
    "import pandas as pd\n",
    "import seaborn as sns\n",
    "import matplotlib.pyplot as plt\n",
    "from sklearn.compose import ColumnTransformer\n",
    "from sklearn.pipeline import Pipeline\n",
    "from sklearn.impute import SimpleImputer\n",
    "from sklearn.preprocessing import OneHotEncoder\n",
    "from dateutil.parser import parse\n",
    "from sklearn.preprocessing import OrdinalEncoder\n",
    "from sklearn.model_selection import train_test_split\n",
    "from sklearn.ensemble import RandomForestRegressor\n",
    "from sklearn.metrics import mean_absolute_error\n",
    "from sklearn.metrics import roc_auc_score\n",
    "from sklearn.decomposition import PCA\n",
    "from sklearn.neural_network import MLPRegressor\n",
    "from imblearn.combine import SMOTEENN\n",
    "from imblearn.over_sampling import ADASYN\n",
    "from collections import Counter\n",
    "from sklearn.preprocessing import MinMaxScaler\n",
    "from sklearn.model_selection import RepeatedStratifiedKFold\n",
    "from sklearn.model_selection import cross_val_score\n",
    "from sklearn.model_selection import train_test_split\n",
    "from sklearn.ensemble import GradientBoostingClassifier\n",
    "\n",
    "from tensorflow.keras.layers import Dense, Dropout\n",
    "from tensorflow.keras.models import Sequential, load_model, save_model, Model\n",
    "from tensorflow.keras.losses import BinaryCrossentropy\n",
    "from tensorflow.keras.metrics import AUC\n",
    "from tensorflow.keras.optimizers import Adam\n",
    "from tensorflow.keras.callbacks import EarlyStopping\n",
    "import tensorflow as tf\n"
   ]
  },
  {
   "cell_type": "code",
   "execution_count": 2,
   "metadata": {},
   "outputs": [],
   "source": [
    "from xgboost import XGBClassifier"
   ]
  },
  {
   "cell_type": "code",
   "execution_count": 3,
   "metadata": {},
   "outputs": [],
   "source": [
    "feature_set =  'feature_set_normalised'\n",
    "X_train = pd.read_csv( F'./data/{feature_set}/X_train_full.csv')\n",
    "y_train = pd.read_csv( F'./data/{feature_set}/y_train.csv').values.ravel()\n",
    "\n",
    "X_val = pd.read_csv( F'./data/{feature_set}/X_valid_full.csv')\n",
    "y_val = pd.read_csv( F'./data/{feature_set}/y_valid.csv').values.ravel()"
   ]
  },
  {
   "cell_type": "code",
   "execution_count": 4,
   "metadata": {},
   "outputs": [],
   "source": [
    "pos = Counter(y_train).get(0)\n",
    "neg = Counter(y_train).get(1)\n",
    "total = neg+pos"
   ]
  },
  {
   "cell_type": "code",
   "execution_count": 5,
   "metadata": {},
   "outputs": [
    {
     "name": "stdout",
     "output_type": "stream",
     "text": [
      "Weight for class 0: 19.35\n",
      "Weight for class 1: 0.51\n"
     ]
    }
   ],
   "source": [
    "weight_for_0 = (1 / neg) * (total / 2.0)\n",
    "weight_for_1 = (1 / pos) * (total / 2.0)\n",
    "\n",
    "class_weight = {0: weight_for_0, 1: weight_for_1}\n",
    "\n",
    "print('Weight for class 0: {:.2f}'.format(weight_for_0))\n",
    "print('Weight for class 1: {:.2f}'.format(weight_for_1))"
   ]
  },
  {
   "cell_type": "code",
   "execution_count": 12,
   "metadata": {},
   "outputs": [
    {
     "name": "stdout",
     "output_type": "stream",
     "text": [
      "[0]\tvalidation_0-auc:0.60439\n"
     ]
    },
    {
     "name": "stderr",
     "output_type": "stream",
     "text": [
      "c:\\Users\\joshu\\anaconda3\\lib\\site-packages\\xgboost\\core.py:160: UserWarning: [23:28:24] WARNING: C:\\buildkite-agent\\builds\\buildkite-windows-cpu-autoscaling-group-i-0cec3277c4d9d0165-1\\xgboost\\xgboost-ci-windows\\src\\learner.cc:742: \n",
      "Parameters: { \"class_weight\" } are not used.\n",
      "\n",
      "  warnings.warn(smsg, UserWarning)\n"
     ]
    },
    {
     "name": "stdout",
     "output_type": "stream",
     "text": [
      "[1]\tvalidation_0-auc:0.61113\n",
      "[2]\tvalidation_0-auc:0.62124\n",
      "[3]\tvalidation_0-auc:0.62196\n",
      "[4]\tvalidation_0-auc:0.62454\n",
      "[5]\tvalidation_0-auc:0.62391\n",
      "[6]\tvalidation_0-auc:0.62505\n",
      "[7]\tvalidation_0-auc:0.63519\n",
      "[8]\tvalidation_0-auc:0.63555\n",
      "[9]\tvalidation_0-auc:0.63853\n",
      "[10]\tvalidation_0-auc:0.64719\n",
      "[11]\tvalidation_0-auc:0.65403\n",
      "[12]\tvalidation_0-auc:0.65548\n",
      "[13]\tvalidation_0-auc:0.65752\n",
      "[14]\tvalidation_0-auc:0.66942\n",
      "[15]\tvalidation_0-auc:0.67148\n",
      "[16]\tvalidation_0-auc:0.67242\n",
      "[17]\tvalidation_0-auc:0.67157\n",
      "[18]\tvalidation_0-auc:0.67243\n",
      "[19]\tvalidation_0-auc:0.67299\n",
      "[20]\tvalidation_0-auc:0.67256\n",
      "[21]\tvalidation_0-auc:0.68274\n",
      "[22]\tvalidation_0-auc:0.68749\n",
      "[23]\tvalidation_0-auc:0.68953\n",
      "[24]\tvalidation_0-auc:0.69633\n",
      "[25]\tvalidation_0-auc:0.69695\n",
      "[26]\tvalidation_0-auc:0.69573\n",
      "[27]\tvalidation_0-auc:0.69613\n",
      "[28]\tvalidation_0-auc:0.69616\n",
      "[29]\tvalidation_0-auc:0.69592\n",
      "[30]\tvalidation_0-auc:0.69595\n",
      "[31]\tvalidation_0-auc:0.69659\n",
      "[32]\tvalidation_0-auc:0.69678\n",
      "[33]\tvalidation_0-auc:0.69692\n",
      "[34]\tvalidation_0-auc:0.69725\n",
      "[35]\tvalidation_0-auc:0.69700\n",
      "[36]\tvalidation_0-auc:0.69673\n",
      "[37]\tvalidation_0-auc:0.69656\n",
      "[38]\tvalidation_0-auc:0.69736\n",
      "[39]\tvalidation_0-auc:0.69731\n",
      "[40]\tvalidation_0-auc:0.69758\n",
      "[41]\tvalidation_0-auc:0.69763\n",
      "[42]\tvalidation_0-auc:0.70082\n",
      "[43]\tvalidation_0-auc:0.70170\n",
      "[44]\tvalidation_0-auc:0.70133\n",
      "[45]\tvalidation_0-auc:0.70100\n",
      "[46]\tvalidation_0-auc:0.70117\n",
      "[47]\tvalidation_0-auc:0.70050\n",
      "[48]\tvalidation_0-auc:0.69995\n",
      "[49]\tvalidation_0-auc:0.69952\n",
      "[50]\tvalidation_0-auc:0.70017\n",
      "[51]\tvalidation_0-auc:0.70065\n",
      "[52]\tvalidation_0-auc:0.70061\n",
      "[53]\tvalidation_0-auc:0.70118\n",
      "[54]\tvalidation_0-auc:0.70134\n",
      "[55]\tvalidation_0-auc:0.70213\n",
      "[56]\tvalidation_0-auc:0.70182\n",
      "[57]\tvalidation_0-auc:0.70156\n",
      "[58]\tvalidation_0-auc:0.70151\n",
      "[59]\tvalidation_0-auc:0.70126\n",
      "[60]\tvalidation_0-auc:0.70127\n",
      "[61]\tvalidation_0-auc:0.70144\n",
      "[62]\tvalidation_0-auc:0.70146\n",
      "[63]\tvalidation_0-auc:0.70159\n",
      "[64]\tvalidation_0-auc:0.70130\n",
      "[65]\tvalidation_0-auc:0.70115\n",
      "[66]\tvalidation_0-auc:0.70086\n",
      "[67]\tvalidation_0-auc:0.70076\n",
      "[68]\tvalidation_0-auc:0.70117\n",
      "[69]\tvalidation_0-auc:0.70111\n",
      "[70]\tvalidation_0-auc:0.70112\n",
      "[71]\tvalidation_0-auc:0.70104\n",
      "[72]\tvalidation_0-auc:0.70133\n",
      "[73]\tvalidation_0-auc:0.70129\n",
      "[74]\tvalidation_0-auc:0.70139\n",
      "[75]\tvalidation_0-auc:0.70143\n",
      "[76]\tvalidation_0-auc:0.70146\n",
      "[77]\tvalidation_0-auc:0.70160\n",
      "[78]\tvalidation_0-auc:0.70149\n",
      "[79]\tvalidation_0-auc:0.70129\n",
      "[80]\tvalidation_0-auc:0.70106\n",
      "[81]\tvalidation_0-auc:0.70107\n",
      "[82]\tvalidation_0-auc:0.70091\n",
      "[83]\tvalidation_0-auc:0.70079\n",
      "[84]\tvalidation_0-auc:0.70072\n"
     ]
    },
    {
     "data": {
      "text/html": [
       "<style>#sk-container-id-2 {color: black;background-color: white;}#sk-container-id-2 pre{padding: 0;}#sk-container-id-2 div.sk-toggleable {background-color: white;}#sk-container-id-2 label.sk-toggleable__label {cursor: pointer;display: block;width: 100%;margin-bottom: 0;padding: 0.3em;box-sizing: border-box;text-align: center;}#sk-container-id-2 label.sk-toggleable__label-arrow:before {content: \"▸\";float: left;margin-right: 0.25em;color: #696969;}#sk-container-id-2 label.sk-toggleable__label-arrow:hover:before {color: black;}#sk-container-id-2 div.sk-estimator:hover label.sk-toggleable__label-arrow:before {color: black;}#sk-container-id-2 div.sk-toggleable__content {max-height: 0;max-width: 0;overflow: hidden;text-align: left;background-color: #f0f8ff;}#sk-container-id-2 div.sk-toggleable__content pre {margin: 0.2em;color: black;border-radius: 0.25em;background-color: #f0f8ff;}#sk-container-id-2 input.sk-toggleable__control:checked~div.sk-toggleable__content {max-height: 200px;max-width: 100%;overflow: auto;}#sk-container-id-2 input.sk-toggleable__control:checked~label.sk-toggleable__label-arrow:before {content: \"▾\";}#sk-container-id-2 div.sk-estimator input.sk-toggleable__control:checked~label.sk-toggleable__label {background-color: #d4ebff;}#sk-container-id-2 div.sk-label input.sk-toggleable__control:checked~label.sk-toggleable__label {background-color: #d4ebff;}#sk-container-id-2 input.sk-hidden--visually {border: 0;clip: rect(1px 1px 1px 1px);clip: rect(1px, 1px, 1px, 1px);height: 1px;margin: -1px;overflow: hidden;padding: 0;position: absolute;width: 1px;}#sk-container-id-2 div.sk-estimator {font-family: monospace;background-color: #f0f8ff;border: 1px dotted black;border-radius: 0.25em;box-sizing: border-box;margin-bottom: 0.5em;}#sk-container-id-2 div.sk-estimator:hover {background-color: #d4ebff;}#sk-container-id-2 div.sk-parallel-item::after {content: \"\";width: 100%;border-bottom: 1px solid gray;flex-grow: 1;}#sk-container-id-2 div.sk-label:hover label.sk-toggleable__label {background-color: #d4ebff;}#sk-container-id-2 div.sk-serial::before {content: \"\";position: absolute;border-left: 1px solid gray;box-sizing: border-box;top: 0;bottom: 0;left: 50%;z-index: 0;}#sk-container-id-2 div.sk-serial {display: flex;flex-direction: column;align-items: center;background-color: white;padding-right: 0.2em;padding-left: 0.2em;position: relative;}#sk-container-id-2 div.sk-item {position: relative;z-index: 1;}#sk-container-id-2 div.sk-parallel {display: flex;align-items: stretch;justify-content: center;background-color: white;position: relative;}#sk-container-id-2 div.sk-item::before, #sk-container-id-2 div.sk-parallel-item::before {content: \"\";position: absolute;border-left: 1px solid gray;box-sizing: border-box;top: 0;bottom: 0;left: 50%;z-index: -1;}#sk-container-id-2 div.sk-parallel-item {display: flex;flex-direction: column;z-index: 1;position: relative;background-color: white;}#sk-container-id-2 div.sk-parallel-item:first-child::after {align-self: flex-end;width: 50%;}#sk-container-id-2 div.sk-parallel-item:last-child::after {align-self: flex-start;width: 50%;}#sk-container-id-2 div.sk-parallel-item:only-child::after {width: 0;}#sk-container-id-2 div.sk-dashed-wrapped {border: 1px dashed gray;margin: 0 0.4em 0.5em 0.4em;box-sizing: border-box;padding-bottom: 0.4em;background-color: white;}#sk-container-id-2 div.sk-label label {font-family: monospace;font-weight: bold;display: inline-block;line-height: 1.2em;}#sk-container-id-2 div.sk-label-container {text-align: center;}#sk-container-id-2 div.sk-container {/* jupyter's `normalize.less` sets `[hidden] { display: none; }` but bootstrap.min.css set `[hidden] { display: none !important; }` so we also need the `!important` here to be able to override the default hidden behavior on the sphinx rendered scikit-learn.org. See: https://github.com/scikit-learn/scikit-learn/issues/21755 */display: inline-block !important;position: relative;}#sk-container-id-2 div.sk-text-repr-fallback {display: none;}</style><div id=\"sk-container-id-2\" class=\"sk-top-container\"><div class=\"sk-text-repr-fallback\"><pre>XGBClassifier(base_score=None, booster=None, callbacks=None,\n",
       "              class_weight={0: 19.348582240422996, 1: 0.5132635970605707},\n",
       "              colsample_bylevel=None, colsample_bynode=None,\n",
       "              colsample_bytree=None, device=None, early_stopping_rounds=30,\n",
       "              enable_categorical=False, eval_metric=&#x27;auc&#x27;, feature_types=None,\n",
       "              gamma=None, grow_policy=None, importance_type=None,\n",
       "              interaction_constraints=None, learning_rate=None, max_bin=None,\n",
       "              max_cat_threshold=None, max_cat_to_onehot=None,\n",
       "              max_delta_step=None, max_depth=None, max_leaves=None,\n",
       "              min_child_weight=None, missing=nan, monotone_constraints=None,\n",
       "              multi_strategy=None, n_estimators=1000, n_jobs=None,\n",
       "              num_parallel_tree=None, ...)</pre><b>In a Jupyter environment, please rerun this cell to show the HTML representation or trust the notebook. <br />On GitHub, the HTML representation is unable to render, please try loading this page with nbviewer.org.</b></div><div class=\"sk-container\" hidden><div class=\"sk-item\"><div class=\"sk-estimator sk-toggleable\"><input class=\"sk-toggleable__control sk-hidden--visually\" id=\"sk-estimator-id-2\" type=\"checkbox\" checked><label for=\"sk-estimator-id-2\" class=\"sk-toggleable__label sk-toggleable__label-arrow\">XGBClassifier</label><div class=\"sk-toggleable__content\"><pre>XGBClassifier(base_score=None, booster=None, callbacks=None,\n",
       "              class_weight={0: 19.348582240422996, 1: 0.5132635970605707},\n",
       "              colsample_bylevel=None, colsample_bynode=None,\n",
       "              colsample_bytree=None, device=None, early_stopping_rounds=30,\n",
       "              enable_categorical=False, eval_metric=&#x27;auc&#x27;, feature_types=None,\n",
       "              gamma=None, grow_policy=None, importance_type=None,\n",
       "              interaction_constraints=None, learning_rate=None, max_bin=None,\n",
       "              max_cat_threshold=None, max_cat_to_onehot=None,\n",
       "              max_delta_step=None, max_depth=None, max_leaves=None,\n",
       "              min_child_weight=None, missing=nan, monotone_constraints=None,\n",
       "              multi_strategy=None, n_estimators=1000, n_jobs=None,\n",
       "              num_parallel_tree=None, ...)</pre></div></div></div></div></div>"
      ],
      "text/plain": [
       "XGBClassifier(base_score=None, booster=None, callbacks=None,\n",
       "              class_weight={0: 19.348582240422996, 1: 0.5132635970605707},\n",
       "              colsample_bylevel=None, colsample_bynode=None,\n",
       "              colsample_bytree=None, device=None, early_stopping_rounds=30,\n",
       "              enable_categorical=False, eval_metric='auc', feature_types=None,\n",
       "              gamma=None, grow_policy=None, importance_type=None,\n",
       "              interaction_constraints=None, learning_rate=None, max_bin=None,\n",
       "              max_cat_threshold=None, max_cat_to_onehot=None,\n",
       "              max_delta_step=None, max_depth=None, max_leaves=None,\n",
       "              min_child_weight=None, missing=nan, monotone_constraints=None,\n",
       "              multi_strategy=None, n_estimators=1000, n_jobs=None,\n",
       "              num_parallel_tree=None, ...)"
      ]
     },
     "execution_count": 12,
     "metadata": {},
     "output_type": "execute_result"
    }
   ],
   "source": [
    "main_model = XGBClassifier(n_estimators=1000,class_weight=class_weight, eval_metric=\"auc\", early_stopping_rounds=30)\n",
    "\n",
    "main_model.fit(X_train, y_train, eval_set=[(X_val,y_val)], verbose=True)"
   ]
  },
  {
   "cell_type": "code",
   "execution_count": 24,
   "metadata": {},
   "outputs": [
    {
     "data": {
      "text/plain": [
       "array([[0.9346592 , 0.06534081],\n",
       "       [0.97614616, 0.02385385],\n",
       "       [0.9842252 , 0.01577477],\n",
       "       ...,\n",
       "       [0.98338634, 0.01661366],\n",
       "       [0.9872231 , 0.01277693],\n",
       "       [0.86063975, 0.13936023]], dtype=float32)"
      ]
     },
     "execution_count": 24,
     "metadata": {},
     "output_type": "execute_result"
    }
   ],
   "source": [
    "main_model.predict_proba(X_val)"
   ]
  },
  {
   "cell_type": "code",
   "execution_count": 25,
   "metadata": {},
   "outputs": [
    {
     "data": {
      "text/plain": [
       "array([0.9346592 , 0.97614616, 0.9842252 , ..., 0.98338634, 0.9872231 ,\n",
       "       0.86063975], dtype=float32)"
      ]
     },
     "execution_count": 25,
     "metadata": {},
     "output_type": "execute_result"
    }
   ],
   "source": []
  },
  {
   "cell_type": "code",
   "execution_count": 27,
   "metadata": {},
   "outputs": [
    {
     "data": {
      "text/plain": [
       "0.21877069892479037"
      ]
     },
     "execution_count": 27,
     "metadata": {},
     "output_type": "execute_result"
    }
   ],
   "source": [
    "roc_auc_score(y_train,main_model.predict_proba(X_train)[:, 0])"
   ]
  }
 ],
 "metadata": {
  "kernelspec": {
   "display_name": "base",
   "language": "python",
   "name": "python3"
  },
  "language_info": {
   "codemirror_mode": {
    "name": "ipython",
    "version": 3
   },
   "file_extension": ".py",
   "mimetype": "text/x-python",
   "name": "python",
   "nbconvert_exporter": "python",
   "pygments_lexer": "ipython3",
   "version": "3.10.9"
  }
 },
 "nbformat": 4,
 "nbformat_minor": 2
}
